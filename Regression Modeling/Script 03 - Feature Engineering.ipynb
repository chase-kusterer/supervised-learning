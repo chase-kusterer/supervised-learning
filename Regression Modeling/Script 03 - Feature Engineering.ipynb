{
 "cells": [
  {
   "cell_type": "markdown",
   "metadata": {
    "deletable": false,
    "editable": false,
    "run_control": {
     "frozen": true
    }
   },
   "source": [
    "<hr style=\"height:.9px;border:none;color:#333;background-color:#333;\" />\n",
    "<hr style=\"height:.9px;border:none;color:#333;background-color:#333;\" />\n",
    "\n",
    "<br><h2>Script 03 | Feature Engineering</h2>\n",
    "<br>\n",
    "Written by Chase Kusterer<br>\n",
    "<a href=\"https://github.com/chase-kusterer\">GitHub</a> | <a href=\"https://www.linkedin.com/in/kusterer/\">LinkedIn</a>\n",
    "<br><br><br>\n",
    "\n",
    "<hr style=\"height:.9px;border:none;color:#333;background-color:#333;\" />\n",
    "<hr style=\"height:.9px;border:none;color:#333;background-color:#333;\" />"
   ]
  },
  {
   "cell_type": "markdown",
   "metadata": {
    "deletable": false,
    "editable": false,
    "run_control": {
     "frozen": true
    }
   },
   "source": [
    "<h2>Introducing Feature Engineering</h2><br>\n",
    "Oftentimes, the data we have available was not originally intended to predict the phenomenon we are interested in. Analysts are rarely the authors of their data, and it is also rare that they are able to access good quality documentation on its collection method(s), assumptions, or original purpose. Even if they <em>were</em> the authors, we learned the challenges associated with this in <em>Business Analysis with Structured Data</em>. Long story short: we, as analysts, need <strong>to make efforts to restructure the data so that it is better focused on our phenomenon of interest</strong>. This is the purpose of <strong>feature engineering</strong>.\n",
    "<br><br>\n",
    "In our previous script when we developed flag features to represent missing values, we were performing feature engineering. In other words, we created new features based on existing ones. The missing value flags also aligned with <strong>two important principles of feature engineering</strong>: 1) there was <strong>strong evidence in the data</strong> to justify their creation, and 2) there was a <strong>strong link to something practical</strong> in the real world (the reason why the values were missing).\n",
    "<br><br><br>\n",
    "<h2>Part I: Developing Trend-Based Features</h2><br>\n",
    "In this section, we will expand our knowledge of flag features by engineering binary trend-based features. Our goal is to identify where a feature's trend changes in terms of its relationship with what we are trying to predict. This may improve our predictions while helping to generate insights.<br><br>\n",
    "Let's start by importing libraries and the data."
   ]
  },
  {
   "cell_type": "code",
   "execution_count": null,
   "metadata": {
    "deletable": false,
    "editable": false
   },
   "outputs": [],
   "source": [
    "# importing libraries\n",
    "import pandas as pd                   # data science essentials\n",
    "import matplotlib.pyplot as plt       # essential graphical output\n",
    "import seaborn as sns                 # enhanced graphical output\n",
    "import numpy as np                    # mathematical essentials\n",
    "import statsmodels.formula.api as smf # regression modeling\n",
    "import warnings                       # warnings\n",
    "\n",
    "\n",
    "# setting pandas print options\n",
    "pd.set_option('display.max_rows', 500)\n",
    "pd.set_option('display.max_columns', 500)\n",
    "pd.set_option('display.width', 1000)\n",
    "\n",
    "\n",
    "# suppressing warnings\n",
    "warnings.filterwarnings(action = 'ignore')\n",
    "\n",
    "\n",
    "# specifying file path\n",
    "file = './datasets/ames_transformed.xlsx'\n",
    "\n",
    "\n",
    "# reading the file into Python\n",
    "housing = pd.read_excel(io     = file,\n",
    "                        header = 0   )\n",
    "\n",
    "\n",
    "# code will not produce an output"
   ]
  },
  {
   "cell_type": "markdown",
   "metadata": {
    "cell_style": "center",
    "deletable": false,
    "editable": false,
    "run_control": {
     "frozen": true
    }
   },
   "source": [
    "<hr style=\"height:.9px;border:none;color:#333;background-color:#333;\" /><br>\n",
    "\n",
    "Run the code below to generate a scatter plot of the relationship between <em>Second_Flr_SF</em> and <em>log_Sale_Price</em>."
   ]
  },
  {
   "cell_type": "code",
   "execution_count": null,
   "metadata": {
    "deletable": false,
    "editable": false,
    "scrolled": false
   },
   "outputs": [],
   "source": [
    "# developing a scatterplot\n",
    "sns.scatterplot(x     = housing['Second_Flr_SF'],\n",
    "                y     = housing['log_Sale_Price'], # unskewed Sale_Price\n",
    "                color = 'royalblue')\n",
    "\n",
    "\n",
    "# title and labels\n",
    "plt.title(label   = \"\"\"\n",
    "Relationship between Logarithmic Sale Price and\n",
    "Second Floor Square Footage\"\"\")\n",
    "plt.xlabel(xlabel = 'Second Floor SF')\n",
    "plt.ylabel(ylabel = 'Sale Price (log)')\n",
    "\n",
    "\n",
    "# cleaning up the layout, saving the figures, and displaying the results\n",
    "plt.tight_layout()\n",
    "plt.show()"
   ]
  },
  {
   "cell_type": "markdown",
   "metadata": {
    "deletable": false,
    "editable": false,
    "run_control": {
     "frozen": true
    }
   },
   "source": [
    "<hr style=\"height:.9px;border:none;color:#333;background-color:#333;\" /><br>\n",
    "\n",
    "As can be observed, several observations have a second floor square footage of zero. Put simply, these properties do not have a second floor. This is something we can take advantage of with a binary trend-based feature, enabling us to analyze the effect second floors have on sale prices. Before engineering, let's analyze a few other x-features.\n",
    "\n",
    "<strong>a)</strong> Complete the code below to develop a scatter plot between each x-feature and <em>log_Sale_Price</em>.\n",
    "Reuse the code cell as many times as needed."
   ]
  },
  {
   "cell_type": "code",
   "execution_count": null,
   "metadata": {
    "solution2": "hidden",
    "solution2_first": true
   },
   "outputs": [],
   "source": [
    "# developing a scatterplot\n",
    "sns.scatterplot(_____)\n",
    "\n",
    "\n",
    "# title and labels\n",
    "plt.title(label   = _____)\n",
    "plt.xlabel(xlabel = _____)\n",
    "plt.ylabel(ylabel = _____)\n",
    "\n",
    "\n",
    "# cleaning up layout and rendering visual\n",
    "plt.tight_layout()\n",
    "plt.show()"
   ]
  },
  {
   "cell_type": "code",
   "execution_count": null,
   "metadata": {
    "deletable": false,
    "editable": false,
    "solution2": "hidden"
   },
   "outputs": [],
   "source": [
    "# developing a scatterplot\n",
    "sns.scatterplot(x     = housing['Mas_Vnr_Area'],\n",
    "                y     = housing['log_Sale_Price'], # unskewed Sale_Price\n",
    "                color = 'royalblue')\n",
    "\n",
    "\n",
    "# title and labels\n",
    "plt.title(label   = \"\"\"\n",
    "Relationship between Logarithmic Sale Price and\n",
    "Masonic Veneer Area\"\"\")\n",
    "plt.xlabel(xlabel = 'Masonic Veneer')\n",
    "plt.ylabel(ylabel = 'Sale Price (log)')\n",
    "\n",
    "\n",
    "# cleaning up layout and rendering visual\n",
    "plt.tight_layout()\n",
    "plt.show()"
   ]
  },
  {
   "cell_type": "markdown",
   "metadata": {
    "deletable": false,
    "editable": false,
    "run_control": {
     "frozen": true
    }
   },
   "source": [
    "<hr style=\"height:.9px;border:none;color:#333;background-color:#333;\" /><br>\n",
    "From the scatter plots above, it is evident that several features have a high frequency of zero values. Let's explore further.\n",
    "<br><br><br>\n",
    "<strong>Basic Rule for Flag-Based Feature Engineering</strong>\n",
    "\n",
    "* At least 100 observations must be on both sides of the flag (1s and 0s)\n",
    "\n",
    "<br>\n",
    "<strong>b)</strong> Use <em>len(&nbsp;)</em> and subsetting in the code below to analyze features that have a high frequency of zero values."
   ]
  },
  {
   "cell_type": "code",
   "execution_count": null,
   "metadata": {
    "solution2": "hidden",
    "solution2_first": true
   },
   "outputs": [],
   "source": [
    "# counting the number of zeroes for \n",
    "bsmt_zeroes   = ____(housing['Total_Bsmt_SF'][____]) # Total_Bsmt_SF\n",
    "sf_zeroes     = ____ # Second_Flr_SF\n",
    "garage_zeroes = ____ # Garage_Area\n",
    "mas_zeroes    = ____ # Mas_Vnr_Area\n",
    "porch_zeroes  = ____ # Porch_Area\n",
    "\n",
    "\n",
    "## the table below has been coded for you ##\n",
    "\n",
    "# printing a table of the results\n",
    "print(f\"\"\"\n",
    "                 No\\t\\tYes\n",
    "               ---------------------\n",
    "Basement       | {bsmt_zeroes}\\t\\t{len(housing) - bsmt_zeroes}\n",
    "Second Floor   | {sf_zeroes}\\t\\t{len(housing) - sf_zeroes}\n",
    "Garage         | {garage_zeroes}\\t\\t{len(housing) - garage_zeroes}\n",
    "Masonic Veneer | {mas_zeroes}\\t\\t{len(housing) - mas_zeroes}\n",
    "Porch          | {porch_zeroes}\\t\\t{len(housing) - porch_zeroes}\n",
    "\"\"\")"
   ]
  },
  {
   "cell_type": "code",
   "execution_count": null,
   "metadata": {
    "deletable": false,
    "editable": false,
    "solution2": "hidden"
   },
   "outputs": [],
   "source": [
    "# counting the number of zeroes\n",
    "bsmt_zeroes   = len(housing['Total_Bsmt_SF'][housing['Total_Bsmt_SF'] == 0])\n",
    "sf_zeroes     = len(housing['Second_Flr_SF'][housing['Second_Flr_SF'] == 0])\n",
    "garage_zeroes = len(housing['Garage_Area'][housing['Garage_Area'] == 0])\n",
    "mas_zeroes    = len(housing['Mas_Vnr_Area'][housing['Mas_Vnr_Area'] == 0])\n",
    "porch_zeroes  = len(housing['Porch_Area'][housing['Porch_Area'] == 0])\n",
    "\n",
    "\n",
    "## the table below has been coded for you ##\n",
    "\n",
    "# printing a table of the results\n",
    "print(f\"\"\"\n",
    "                 No\\t\\tYes\n",
    "               ---------------------\n",
    "Basement       | {bsmt_zeroes}\\t\\t{len(housing) - bsmt_zeroes}\n",
    "Second Floor   | {sf_zeroes}\\t\\t{len(housing) - sf_zeroes}\n",
    "Garage         | {garage_zeroes}\\t\\t{len(housing) - garage_zeroes}\n",
    "Masonic Veneer | {mas_zeroes}\\t\\t{len(housing) - mas_zeroes}\n",
    "Porch          | {porch_zeroes}\\t\\t{len(housing) - porch_zeroes}\n",
    "\"\"\")"
   ]
  },
  {
   "cell_type": "markdown",
   "metadata": {
    "deletable": false,
    "editable": false,
    "run_control": {
     "frozen": true
    }
   },
   "source": [
    "<hr style=\"height:.9px;border:none;color:#333;background-color:#333;\" /><br>\n",
    "\n",
    "<strong>c)</strong> Based on the results above, engineer binary trend-based features for all variables that have at least 100 observations in both the 'yes' and 'no' columns."
   ]
  },
  {
   "cell_type": "code",
   "execution_count": null,
   "metadata": {
    "solution2": "hidden",
    "solution2_first": true
   },
   "outputs": [],
   "source": [
    "# placeholder variables\n",
    "housing['has_Second_Flr'] = 0\n",
    "housing['has_Garage']     = 0\n",
    "housing['has_Mas_Vnr']    = 0\n",
    "housing['has_Porch']      = 0\n",
    "\n",
    "\n",
    "# iterating over each original column to\n",
    "# change values in the new feature columns\n",
    "for index, value in ____.____():\n",
    "\n",
    "\n",
    "    # Second_Flr_SF\n",
    "    if housing.loc[index, ____] > 0:\n",
    "        housing.loc[index, 'has_Second_Flr'] = 1\n",
    "        \n",
    "        \n",
    "    # Garage_Area\n",
    "    if housing.loc[index, ____] > 0:\n",
    "        housing.loc[index, 'has_Garage'] = 1\n",
    "        \n",
    "        \n",
    "    # Mas_Vnr_Area\n",
    "    if housing.loc[index, ____] > 0:\n",
    "        housing.loc[index, 'has_Mas_Vnr'] = 1\n",
    "        \n",
    "        \n",
    "    # Porch_Area\n",
    "    if housing.loc[index, ____] > 0:\n",
    "        housing.loc[index, 'has_Porch'] = 1\n",
    "        \n",
    "        \n",
    "## this code will not produce an output ##"
   ]
  },
  {
   "cell_type": "code",
   "execution_count": null,
   "metadata": {
    "deletable": false,
    "editable": false,
    "solution2": "hidden"
   },
   "outputs": [],
   "source": [
    "# placeholder variables\n",
    "housing['has_Second_Flr'] = 0\n",
    "housing['has_Garage']     = 0\n",
    "housing['has_Mas_Vnr']    = 0\n",
    "housing['has_Porch']      = 0\n",
    "\n",
    "\n",
    "for index, value in housing.iterrows():\n",
    "    \n",
    "\n",
    "    # Second_Flr_SF\n",
    "    if housing.loc[index, 'Second_Flr_SF'] > 0:\n",
    "        housing.loc[index, 'has_Second_Flr'] = 1\n",
    "        \n",
    "        \n",
    "    # Garage_Area\n",
    "    if housing.loc[index, 'Garage_Area'] > 0:\n",
    "        housing.loc[index, 'has_Garage'] = 1\n",
    "        \n",
    "        \n",
    "    # Mas_Vnr_Area\n",
    "    if housing.loc[index, 'Mas_Vnr_Area'] > 0:\n",
    "        housing.loc[index, 'has_Mas_Vnr'] = 1\n",
    "        \n",
    "        \n",
    "    # Porch_Area\n",
    "    if housing.loc[index, 'Porch_Area'] > 0:\n",
    "        housing.loc[index, 'has_Porch'] = 1\n",
    "        \n",
    "        \n",
    "## this code will not produce an output ##"
   ]
  },
  {
   "cell_type": "markdown",
   "metadata": {
    "deletable": false,
    "editable": false,
    "run_control": {
     "frozen": true
    }
   },
   "source": [
    "<br>"
   ]
  },
  {
   "cell_type": "code",
   "execution_count": null,
   "metadata": {
    "deletable": false,
    "editable": false
   },
   "outputs": [],
   "source": [
    "# checking results\n",
    "housing[  ['has_Second_Flr', 'has_Garage', 'has_Mas_Vnr', 'has_Porch']  ].head(n = 5)"
   ]
  },
  {
   "cell_type": "markdown",
   "metadata": {
    "deletable": false,
    "editable": false,
    "run_control": {
     "frozen": true
    }
   },
   "source": [
    "<hr style=\"height:.9px;border:none;color:#333;background-color:#333;\" /><br>\n",
    "\n",
    "A new feature idea was discovered while exploring <em>Lot_Area</em> in an earlier script. Run the code below to engineer this feature into the housing dataset. Note that this feature is a <strong>ratio</strong> between a the area of property's buildings and its land."
   ]
  },
  {
   "cell_type": "code",
   "execution_count": null,
   "metadata": {
    "deletable": false,
    "editable": false
   },
   "outputs": [],
   "source": [
    "## ratio between buildings and lot area ##\n",
    "\n",
    "# summing building features\n",
    "buildings = housing[[\"Gr_Liv_Area\", \"Garage_Area\", \"Porch_Area\"]].sum(axis = 1)\n",
    "\n",
    "\n",
    "# ratio between buildings and lot area\n",
    "ratio_building_lot = (buildings / housing[\"Lot_Area\"])\n",
    "\n",
    "\n",
    "# augmenting new feature to housing dataset\n",
    "housing[\"ratio_building_lot\"] = ratio_building_lot\n",
    "\n",
    "\n",
    "# checking results\n",
    "housing[\"ratio_building_lot\"].head(n = 5)"
   ]
  },
  {
   "cell_type": "markdown",
   "metadata": {
    "deletable": false,
    "editable": false,
    "run_control": {
     "frozen": true
    }
   },
   "source": [
    "<hr style=\"height:.9px;border:none;color:#333;background-color:#333;\" /><br>\n",
    "\n",
    "Let's check the correlations between the newly-engineered features with <em>Sale_Price</em> and <em>log_Sale_Price</em>."
   ]
  },
  {
   "cell_type": "code",
   "execution_count": null,
   "metadata": {
    "deletable": false,
    "editable": false
   },
   "outputs": [],
   "source": [
    "# developing a small correlation matrix\n",
    "new_corr = housing.corr(method = 'pearson').round(decimals = 2)\n",
    "\n",
    "\n",
    "# checking the correlations of the newly-created variables with Sale_Price\n",
    "new_corr.loc[ ['has_Second_Flr', 'has_Garage', 'has_Mas_Vnr',\n",
    "               'has_Porch', 'ratio_building_lot'],\n",
    "              ['Sale_Price', 'log_Sale_Price'] ].sort_values(by = 'Sale_Price',\n",
    "                                                             ascending = False)"
   ]
  },
  {
   "cell_type": "markdown",
   "metadata": {
    "deletable": false,
    "editable": false,
    "run_control": {
     "frozen": true
    }
   },
   "source": [
    "<hr style=\"height:.9px;border:none;color:#333;background-color:#333;\" />\n",
    "<hr style=\"height:.9px;border:none;color:#333;background-color:#333;\" /><br>\n",
    "<h2>Part II: Feature Engineering with Interval and Count Data</h2><br>\n",
    "Interval and count data for the Ames housing dataset can be found in <em>ames_non_continuous.xlsx</em>. Note that this file contains two sheets: <em>interval_count</em> and <em>categorical_discrete</em>. Remember, each <strong>classification</strong> of data (continuous, interval, etc.) comes with its own assumptions and philosophy of mathematics. This is the reason why they are analyzed separately. Organization is key to conducting a good analysis!\n",
    "<br><br>\n",
    "<strong>a)</strong> Complete the code below to import the <em>interval_count</em> sheet of <em>ames_non_continuous.xlsx</em>."
   ]
  },
  {
   "cell_type": "code",
   "execution_count": null,
   "metadata": {
    "solution2": "hidden",
    "solution2_first": true
   },
   "outputs": [],
   "source": [
    "# importing interval and count data\n",
    "file = _____\n",
    "\n",
    "housing_2 = pd.read_excel(io         = file,\n",
    "                          header     = 0,\n",
    "                          sheet_name = _____)\n",
    "\n",
    "\n",
    "# merging the two datasets\n",
    "housing = housing._____(right = _____,\n",
    "                        on    = _____,\n",
    "                        how   = _____)\n",
    "\n",
    "\n",
    "# checking results\n",
    "housing_2.head(n = 5)"
   ]
  },
  {
   "cell_type": "code",
   "execution_count": null,
   "metadata": {
    "deletable": false,
    "editable": false,
    "scrolled": true,
    "solution2": "hidden"
   },
   "outputs": [],
   "source": [
    "# documentation: help(pd.DataFrame.merge)\n",
    "\n",
    "# importing interval and count data\n",
    "file = './datasets/ames_non_continuous.xlsx'\n",
    "\n",
    "housing_2 = pd.read_excel(io         = file,\n",
    "                          header     = 0,\n",
    "                          sheet_name = 'interval_count')\n",
    "\n",
    "\n",
    "# checking results\n",
    "housing_2.head(n = 5)"
   ]
  },
  {
   "cell_type": "markdown",
   "metadata": {
    "deletable": false,
    "editable": false,
    "run_control": {
     "frozen": true
    }
   },
   "source": [
    "<br>"
   ]
  },
  {
   "cell_type": "code",
   "execution_count": null,
   "metadata": {
    "deletable": false,
    "editable": false
   },
   "outputs": [],
   "source": [
    "# general info about the dataset\n",
    "housing_2.info(verbose = True)"
   ]
  },
  {
   "cell_type": "markdown",
   "metadata": {
    "deletable": false,
    "editable": false,
    "run_control": {
     "frozen": true
    }
   },
   "source": [
    "<br>"
   ]
  },
  {
   "cell_type": "code",
   "execution_count": null,
   "metadata": {
    "deletable": false,
    "editable": false
   },
   "outputs": [],
   "source": [
    "# descriptive statistics\n",
    "housing_2.describe(include = 'number').round(decimals = 2)"
   ]
  },
  {
   "cell_type": "markdown",
   "metadata": {},
   "source": [
    "<hr style=\"height:.9px;border:none;color:#333;background-color:#333;\" /><br>\n",
    "Before moving forward, let's join the two housing datasets."
   ]
  },
  {
   "cell_type": "code",
   "execution_count": null,
   "metadata": {
    "deletable": false,
    "editable": false
   },
   "outputs": [],
   "source": [
    "# documentation for the join method\n",
    "help(housing.join)"
   ]
  },
  {
   "cell_type": "markdown",
   "metadata": {
    "deletable": false,
    "editable": false,
    "run_control": {
     "frozen": true
    }
   },
   "source": [
    "<br>"
   ]
  },
  {
   "cell_type": "code",
   "execution_count": null,
   "metadata": {
    "deletable": false,
    "editable": false
   },
   "outputs": [],
   "source": [
    "# setting property_id as index for both DataFrames\n",
    "housing   = housing.set_index(keys = 'property_id')\n",
    "housing_2 = housing_2.set_index(keys = 'property_id')\n",
    "\n",
    "\n",
    "# left join to ensure retention of original data\n",
    "housing = housing.join(other    = housing_2,\n",
    "                       how      = 'left',\n",
    "                       validate = 'one_to_one')\n",
    "\n",
    "\n",
    "# checking results\n",
    "housing.columns"
   ]
  },
  {
   "cell_type": "markdown",
   "metadata": {
    "deletable": false,
    "editable": false,
    "run_control": {
     "frozen": true
    }
   },
   "source": [
    "<hr style=\"height:.9px;border:none;color:#333;background-color:#333;\" /><br>\n",
    "Scatter plots are not as useful when working with interval or count data. It is a better practice is to use box plots as this type of visual aggregates a distribution based on its quartiles. Also note that it is not a good practice to transform (logarithmic, etc.) interval or count data as interpretation becomes incredibly challenging. We will learn new techniques for these types of data."
   ]
  },
  {
   "cell_type": "code",
   "execution_count": null,
   "metadata": {
    "cell_style": "split",
    "deletable": false,
    "editable": false
   },
   "outputs": [],
   "source": [
    "# scatterplot - orig ovr_qual and price\n",
    "sns.scatterplot(x    = 'Overall_Qual',\n",
    "                y    = 'Sale_Price' ,\n",
    "                data = housing)\n",
    "\n",
    "\n",
    "# titles and axis labels\n",
    "plt.title(label   = 'Scatterplot with Interval Data')\n",
    "plt.xlabel(xlabel = 'Overall Quality')\n",
    "plt.ylabel(ylabel = 'Sale Price')\n",
    "\n",
    "\n",
    "# displaying the plot\n",
    "plt.show()"
   ]
  },
  {
   "cell_type": "code",
   "execution_count": null,
   "metadata": {
    "cell_style": "split",
    "deletable": false,
    "editable": false,
    "scrolled": false
   },
   "outputs": [],
   "source": [
    "# boxplot - orig ovr_qual and price\n",
    "sns.boxplot(x    = 'Overall_Qual',\n",
    "            y    = 'Sale_Price',\n",
    "            data = housing)\n",
    "\n",
    "\n",
    "# titles and axis labels\n",
    "plt.title(label   = 'Boxplot with Interval Data')\n",
    "plt.xlabel(xlabel = 'Overall Quality')\n",
    "plt.ylabel(ylabel = 'Sale Price')\n",
    "\n",
    "\n",
    "# displaying the plot\n",
    "plt.show()"
   ]
  },
  {
   "cell_type": "markdown",
   "metadata": {
    "deletable": false,
    "editable": false,
    "run_control": {
     "frozen": true
    }
   },
   "source": [
    "<br>"
   ]
  },
  {
   "cell_type": "code",
   "execution_count": null,
   "metadata": {
    "cell_style": "split",
    "deletable": false,
    "editable": false
   },
   "outputs": [],
   "source": [
    "# scatterplot - orig ovr_qual and log price\n",
    "sns.scatterplot(x    = 'Overall_Qual',\n",
    "                y    = 'log_Sale_Price',\n",
    "                data = housing)\n",
    "\n",
    "\n",
    "# titles and axis labels\n",
    "plt.title(label   = 'Scatterplot with Interval Data')\n",
    "plt.xlabel(xlabel = 'Overall Quality')\n",
    "plt.ylabel(ylabel = 'Sale Price')\n",
    "\n",
    "\n",
    "# displaying the plot\n",
    "plt.show()"
   ]
  },
  {
   "cell_type": "code",
   "execution_count": null,
   "metadata": {
    "cell_style": "split",
    "deletable": false,
    "editable": false
   },
   "outputs": [],
   "source": [
    "# boxplot - ori ovr_qual and log price\n",
    "sns.boxplot(x    = 'Overall_Qual',\n",
    "            y    = 'log_Sale_Price',\n",
    "            data = housing)\n",
    "\n",
    "\n",
    "# titles and axis labels\n",
    "plt.title(label   = 'Boxplot with Interval Data')\n",
    "plt.xlabel(xlabel = 'Overall Quality')\n",
    "plt.ylabel(ylabel = 'Sale Price')\n",
    "\n",
    "\n",
    "# displaying the plot\n",
    "plt.show()"
   ]
  },
  {
   "cell_type": "markdown",
   "metadata": {
    "deletable": false,
    "editable": false,
    "run_control": {
     "frozen": true
    }
   },
   "source": [
    "<br>"
   ]
  },
  {
   "cell_type": "code",
   "execution_count": null,
   "metadata": {
    "deletable": false,
    "editable": false
   },
   "outputs": [],
   "source": [
    "# correlations - ovr qual and prices\n",
    "log_corr = housing.loc[ : , ['Overall_Qual',\n",
    "                             'Sale_Price',\n",
    "                             'log_Sale_Price']  ].corr(method = 'pearson')\\\n",
    "                                                 .round(decimals = 2)\n",
    "\n",
    "\n",
    "# checking results\n",
    "log_corr.loc[ ['Overall_Qual'],\n",
    "              ['Sale_Price', 'log_Sale_Price']   ]"
   ]
  },
  {
   "cell_type": "markdown",
   "metadata": {
    "deletable": false,
    "editable": false,
    "run_control": {
     "frozen": true
    }
   },
   "source": [
    "<hr style=\"height:.9px;border:none;color:#333;background-color:#333;\" /><br><br>\n",
    "<strong>Tips to Analyzing Relationships with Boxplots</strong><br>\n",
    "\n",
    "* Start by analyzing differences in the median lines for each boxplot. Does it appear that the median lines can be connected using a straight horizontal line? If not, move to the next bullet point.\n",
    "* Engineer features as necessary. Make sure you have at least 100 observations in each part of your newly-engineered feature(s)."
   ]
  },
  {
   "cell_type": "markdown",
   "metadata": {
    "deletable": false,
    "editable": false,
    "run_control": {
     "frozen": true
    }
   },
   "source": [
    "<hr style=\"height:.9px;border:none;color:#333;background-color:#333;\" /><br>\n",
    "\n",
    "<h2>Part III: Feature Engineering with Count Data</h2><br>\n",
    "Let's take a look at the relationship between the number of bathrooms (full baths and half baths) and sale price."
   ]
  },
  {
   "cell_type": "code",
   "execution_count": null,
   "metadata": {
    "deletable": false,
    "editable": false
   },
   "outputs": [],
   "source": [
    "# setting figure size\n",
    "fig, ax = plt.subplots(figsize = (15, 10))\n",
    "\n",
    "\n",
    "## full baths ##\n",
    "\n",
    "# first plot window\n",
    "plt.subplot(1, 2, 1)\n",
    "\n",
    "# developing a boxplot\n",
    "sns.boxplot(x     = 'Full_Bath',\n",
    "            y     = 'Sale_Price',\n",
    "            data  = housing)\n",
    "\n",
    "\n",
    "# titles and labels\n",
    "plt.title(label   = 'Relationship between Full Bathrooms and Sale Price')\n",
    "plt.xlabel(xlabel = 'Full Bathrooms')\n",
    "plt.ylabel(ylabel = 'Sale Price')\n",
    "\n",
    "\n",
    "\n",
    "## half baths ##\n",
    "\n",
    "# second plot window\n",
    "plt.subplot(1, 2, 2)\n",
    "\n",
    "# developing a boxplot\n",
    "sns.boxplot(x     = 'Half_Bath',\n",
    "            y     = 'Sale_Price',\n",
    "            data  = housing)\n",
    "\n",
    "\n",
    "# titles and labels\n",
    "plt.title(label   = 'Relationship between Half Bathrooms and Sale Price')\n",
    "plt.xlabel(xlabel = 'Half Bathrooms')\n",
    "plt.ylabel(ylabel = 'Sale Price')\n",
    "\n",
    "\n",
    "# displaying the plot\n",
    "plt.tight_layout\n",
    "plt.show()\n",
    "\n",
    "\n",
    "# printing value counts for full and half baths\n",
    "print(f\"\"\"\n",
    "Count of Bathrooms\n",
    "==================\n",
    "\n",
    "----------\n",
    "Full Baths\n",
    "----------\n",
    "{housing['Full_Bath'].value_counts(normalize = False).sort_index()}\n",
    "\n",
    "\n",
    "----------\n",
    "Half Baths\n",
    "----------\n",
    "{housing['Half_Bath'].value_counts(normalize = False).sort_index()}\n",
    "\n",
    "\n",
    "\"\"\")"
   ]
  },
  {
   "cell_type": "markdown",
   "metadata": {
    "deletable": false,
    "editable": false,
    "run_control": {
     "frozen": true
    }
   },
   "source": [
    "<hr style=\"height:.9px;border:none;color:#333;background-color:#333;\" /><br>\n",
    "\n",
    "<strong>Combining Features</strong><br>\n",
    "Now, let's engineer a feature that represents total bathrooms using the following calculation:\n",
    "<br><br>\n",
    "\n",
    "~~~\n",
    "Total_Baths = Full_Baths + (Half_Baths / 2)\n",
    "~~~\n",
    "\n",
    "<br>\n",
    "<strong>a)</strong> Complete the code below to engineer Total_Baths based on the calculation above and check your results."
   ]
  },
  {
   "cell_type": "code",
   "execution_count": null,
   "metadata": {
    "solution2": "hidden",
    "solution2_first": true
   },
   "outputs": [],
   "source": [
    "# total bathrooms\n",
    "housing['Total_Bath'] = ____\n",
    "\n",
    "\n",
    "# setting figure size\n",
    "fig, ax = plt.subplots(figsize = (15, 10))\n",
    "\n",
    "\n",
    "# developing a boxplot\n",
    "sns.boxplot(x    = ____,\n",
    "            y    = ____,\n",
    "            data = ____)\n",
    "\n",
    "\n",
    "\n",
    "# titles and labels\n",
    "plt.title(label   = 'Relationship between Total Bathrooms and Sale Price')\n",
    "plt.xlabel(xlabel = 'Total Bathrooms')\n",
    "plt.ylabel(ylabel = 'Sale Price')\n",
    "\n",
    "\n",
    "# displaying the plot\n",
    "plt.tight_layout\n",
    "plt.show()\n",
    "\n",
    "\n",
    "## the following code has been written for you ##\n",
    "\n",
    "# developing a correlation matrix\n",
    "bath_corr = housing.loc[ : , ['Full_Bath',\n",
    "                              'Half_Bath',\n",
    "                              'Total_Bath',\n",
    "                              'Sale_Price']  ].corr(method = 'pearson')\\\n",
    "                                              .round(decimals = 2)\n",
    "\n",
    "\n",
    "# printing value counts and correlations bathrooms\n",
    "print(f\"\"\"\n",
    "Bathrooms\n",
    "=========\n",
    "\n",
    "-----------\n",
    "Total Baths\n",
    "-----------\n",
    "{housing['Total_Bath'].value_counts(normalize = False).sort_index()}\n",
    "\n",
    "\n",
    "---------------------\n",
    "Bathroom Correlations\n",
    "---------------------\n",
    "{bath_corr['Sale_Price']}\n",
    "\n",
    "\"\"\")"
   ]
  },
  {
   "cell_type": "code",
   "execution_count": null,
   "metadata": {
    "deletable": false,
    "editable": false,
    "solution2": "hidden"
   },
   "outputs": [],
   "source": [
    "# total bathrooms\n",
    "housing['Total_Bath'] = housing['Full_Bath'] + (housing['Half_Bath'] / 2)\n",
    "\n",
    "\n",
    "# setting figure size\n",
    "fig, ax = plt.subplots(figsize = (15, 10))\n",
    "\n",
    "\n",
    "# developing a boxplot\n",
    "sns.boxplot(x    = 'Total_Bath',\n",
    "            y    = 'Sale_Price',\n",
    "            data = housing)\n",
    "\n",
    "\n",
    "\n",
    "# titles and labels\n",
    "plt.title(label   = 'Relationship between Total Bathrooms and Sale Price')\n",
    "plt.xlabel(xlabel = 'Total Bathrooms')\n",
    "plt.ylabel(ylabel = 'Sale Price')\n",
    "\n",
    "\n",
    "# displaying the plot\n",
    "plt.tight_layout\n",
    "plt.show()\n",
    "\n",
    "\n",
    "# developing a correlation matrix\n",
    "bath_corr = housing.loc[ : , ['Full_Bath',\n",
    "                              'Half_Bath',\n",
    "                              'Total_Bath',\n",
    "                              'Sale_Price']  ].corr(method = 'pearson')\\\n",
    "                                             .round(decimals = 2)\n",
    "\n",
    "\n",
    "# printing value counts and correlations bathrooms\n",
    "print(f\"\"\"\n",
    "Bathrooms\n",
    "=========\n",
    "\n",
    "----------\n",
    "Total Bath\n",
    "----------\n",
    "{housing['Total_Bath'].value_counts(normalize = False).sort_index()}\n",
    "\n",
    "\n",
    "---------------------\n",
    "Bathroom Correlations\n",
    "---------------------\n",
    "{bath_corr['Sale_Price']}\n",
    "\n",
    "\"\"\")"
   ]
  },
  {
   "cell_type": "markdown",
   "metadata": {
    "deletable": false,
    "editable": false,
    "run_control": {
     "frozen": true
    }
   },
   "source": [
    "<hr style=\"height:.9px;border:none;color:#333;background-color:#333;\" />\n",
    "<hr style=\"height:.9px;border:none;color:#333;background-color:#333;\" /><br>\n",
    "\n",
    "<h2>Part IV: Feature Engineering with Categorical Data</h2><br>\n",
    "Categorical features need to be converted into a series of yes or no questions, more formally known as <strong>binary matrix factorization</strong>. One category needs to be removed to avoid issues with autocorrelation (the <em>k-1</em> rule)."
   ]
  },
  {
   "cell_type": "code",
   "execution_count": null,
   "metadata": {
    "deletable": false,
    "editable": false
   },
   "outputs": [],
   "source": [
    "# importing interval and count data\n",
    "file = './datasets/ames_non_continuous.xlsx'\n",
    "\n",
    "housing_2 = pd.read_excel(io         = file,\n",
    "                          header     = 0,\n",
    "                          sheet_name = 'categorical_discrete')\n",
    "\n",
    "\n",
    "# documentation: help(pd.DataFrame.merge)\n",
    "\n",
    "# merging the two datasets\n",
    "housing = housing.merge(right = housing_2,\n",
    "                        on    = 'property_id',\n",
    "                        how   = 'left')\n",
    "\n",
    "\n",
    "# checking results\n",
    "housing.head(n = 5)"
   ]
  },
  {
   "cell_type": "markdown",
   "metadata": {
    "deletable": false,
    "editable": false,
    "run_control": {
     "frozen": true
    }
   },
   "source": [
    "<hr style=\"height:.9px;border:none;color:#333;background-color:#333;\" /><br>\n",
    "Run the following code to see the value counts for each categorical feature."
   ]
  },
  {
   "cell_type": "code",
   "execution_count": null,
   "metadata": {
    "deletable": false,
    "editable": false
   },
   "outputs": [],
   "source": [
    "# printing columns\n",
    "print(f\"\"\"\n",
    "Street\n",
    "------\n",
    "{housing['Street'].value_counts()}\n",
    "\n",
    "\n",
    "Lot Config\n",
    "----------\n",
    "{housing['Lot_Config'].value_counts()}\n",
    "\n",
    "\n",
    "Neighborhood\n",
    "-------------\n",
    "{housing['Neighborhood'].value_counts()}\n",
    "\"\"\")"
   ]
  },
  {
   "cell_type": "markdown",
   "metadata": {
    "deletable": false,
    "editable": false,
    "run_control": {
     "frozen": true
    }
   },
   "source": [
    "<hr style=\"height:.9px;border:none;color:#333;background-color:#333;\" /><br>\n",
    "\n",
    "<h4>The user-defined function below will generate boxplots for categorical data.</h4>"
   ]
  },
  {
   "cell_type": "code",
   "execution_count": null,
   "metadata": {
    "deletable": false,
    "editable": false
   },
   "outputs": [],
   "source": [
    "# defining a function for categorical boxplots\n",
    "def categorical_boxplots(response, cat_var, data):\n",
    "    \"\"\"\n",
    "\tThis function is designed to generate a boxplot for  can be used for categorical variables.\n",
    "    Make sure matplotlib.pyplot and seaborn have been imported (as plt and sns).\n",
    "\n",
    "    PARAMETERS\n",
    "\t----------\n",
    "\tresponse : str, response variable\n",
    "\tcat_var  : str, categorical variable\n",
    "\tdata     : DataFrame of the response and categorical variables\n",
    "\t\"\"\"\n",
    "\n",
    "    fig, ax = plt.subplots(figsize = (10, 8))\n",
    "    \n",
    "    sns.boxplot(x    = response,\n",
    "                y    = cat_var,\n",
    "                data = data)\n",
    "    \n",
    "    plt.suptitle(\"\")\n",
    "    plt.show()"
   ]
  },
  {
   "cell_type": "markdown",
   "metadata": {
    "deletable": false,
    "editable": false,
    "run_control": {
     "frozen": true
    }
   },
   "source": [
    "<br>"
   ]
  },
  {
   "cell_type": "code",
   "execution_count": null,
   "metadata": {
    "deletable": false,
    "editable": false,
    "scrolled": false
   },
   "outputs": [],
   "source": [
    "# calling the function for Street\n",
    "categorical_boxplots(response = 'Sale_Price',\n",
    "\t\t\t\t\t cat_var  = 'Street',\n",
    "\t\t\t\t\t data     = housing)\n",
    "\n",
    "\n",
    "# calling the function for Lot_Config\n",
    "categorical_boxplots(response = 'Sale_Price',\n",
    "\t\t\t\t\t cat_var  = 'Lot_Config',\n",
    "\t\t\t\t\t data     = housing)\n",
    "\n",
    "\n",
    "# calling the function for Neighborhood\n",
    "categorical_boxplots(response = 'Sale_Price',\n",
    "\t\t\t\t\t cat_var  = 'Neighborhood',\n",
    "\t\t\t\t\t data     = housing)"
   ]
  },
  {
   "cell_type": "markdown",
   "metadata": {
    "deletable": false,
    "editable": false,
    "run_control": {
     "frozen": true
    }
   },
   "source": [
    "<hr style=\"height:.9px;border:none;color:#333;background-color:#333;\" /><br>\n",
    "\n",
    "<strong>a)</strong> Fill in the blanks below to one hot encode each categorical feature using <em>get_dummies(&nbsp;)</em>. Then, remove the original categorical features using <em>drop(&nbsp;)</em>. Finally, merge the one hot encoded data with the original dataset using <em>join(&nbsp;)</em>. Note that running the following code more than once will generate an error because it is dropping the original categorical features."
   ]
  },
  {
   "cell_type": "code",
   "execution_count": null,
   "metadata": {
    "solution2": "hidden",
    "solution2_first": true
   },
   "outputs": [],
   "source": [
    "# one hot encoding categorical variables\n",
    "one_hot_Lot          = pd._____(housing['Lot_Config'])\n",
    "one_hot_Neighborhood = pd._____(housing['Neighborhood'])\n",
    "\n",
    "\n",
    "# dropping categorical variables after they've been encoded\n",
    "housing = housing._____(columns = ['Street', 'Lot_Config', 'Neighborhood'],\n",
    "                        axis = 1,\n",
    "                        dtype = int)\n",
    "\n",
    "\n",
    "# joining codings together\n",
    "housing = housing.join([one_hot_Lot, one_hot_Neighborhood])\n",
    "\n",
    "\n",
    "# saving new columns\n",
    "new_columns = housing.columns"
   ]
  },
  {
   "cell_type": "code",
   "execution_count": null,
   "metadata": {
    "deletable": false,
    "editable": false,
    "solution2": "hidden"
   },
   "outputs": [],
   "source": [
    "# one hot encoding categorical variables\n",
    "one_hot_Lot          = pd.get_dummies(housing['Lot_Config'],   dtype = int)\n",
    "one_hot_Neighborhood = pd.get_dummies(housing['Neighborhood'], dtype = int)\n",
    "\n",
    "\n",
    "# dropping categorical variables after they've been encoded\n",
    "housing = housing.drop('Street',       axis = 1) # dropping even though not encoded\n",
    "housing = housing.drop('Lot_Config',   axis = 1)\n",
    "housing = housing.drop('Neighborhood', axis = 1)\n",
    "\n",
    "\n",
    "# joining codings together\n",
    "housing = housing.join([one_hot_Lot, one_hot_Neighborhood])"
   ]
  },
  {
   "cell_type": "markdown",
   "metadata": {
    "deletable": false,
    "editable": false,
    "run_control": {
     "frozen": true
    }
   },
   "source": [
    "<br>"
   ]
  },
  {
   "cell_type": "code",
   "execution_count": null,
   "metadata": {
    "deletable": false,
    "editable": false
   },
   "outputs": [],
   "source": [
    "# checking results\n",
    "housing.head(n = 5)"
   ]
  },
  {
   "cell_type": "markdown",
   "metadata": {
    "deletable": false,
    "editable": false,
    "run_control": {
     "frozen": true
    }
   },
   "source": [
    "<br>"
   ]
  },
  {
   "cell_type": "code",
   "execution_count": null,
   "metadata": {
    "deletable": false,
    "editable": false
   },
   "outputs": [],
   "source": [
    "## this will convert Lot_Config into CulDSac Y/N ##\n",
    "\n",
    "# dropping categories that will not be used\n",
    "housing = housing.drop( [\"Corner\", \"FR2\", \"FR3\", \"Inside\"], axis = 1)"
   ]
  },
  {
   "cell_type": "markdown",
   "metadata": {
    "deletable": false,
    "editable": false,
    "run_control": {
     "frozen": true
    }
   },
   "source": [
    "<br>"
   ]
  },
  {
   "cell_type": "code",
   "execution_count": null,
   "metadata": {
    "deletable": false,
    "editable": false
   },
   "outputs": [],
   "source": [
    "# combining smaller sample sizes into \"Other\" group\n",
    "housing[\"Other_NH\"] = housing.loc[ : ,  [\"IDOTRR\", \"Timber\", \"NoRidge\", \"StoneBr\",\n",
    "                                         \"SWISU\", \"ClearCr\", \"MeadowV\", \"BrDale\",\n",
    "                                         \"Blmngtn\", \"Veenker\", \"NPkVill\", \"Blueste\",\n",
    "                                         \"Greens\", \"GrnHill\", \"Landmrk\"]  ].sum(axis = 1)\n",
    "\n",
    "\n",
    "housing = housing.drop([\"IDOTRR\", \"Timber\", \"NoRidge\", \"StoneBr\",\n",
    "                        \"SWISU\", \"ClearCr\", \"MeadowV\", \"BrDale\",\n",
    "                        \"Blmngtn\", \"Veenker\", \"NPkVill\", \"Blueste\",\n",
    "                        \"Greens\", \"GrnHill\", \"Landmrk\"], axis = 1)\n",
    "\n",
    "\n",
    "# checking results\n",
    "housing[\"Other_NH\"].value_counts(normalize = True).round(decimals = 2)"
   ]
  },
  {
   "cell_type": "markdown",
   "metadata": {
    "deletable": false,
    "editable": false,
    "run_control": {
     "frozen": true
    }
   },
   "source": [
    "<hr style=\"height:.9px;border:none;color:#333;background-color:#333;\" /><br>\n",
    "\n",
    "<h2>Part V: Building Predictive Models</h2>\n",
    "<br>\n",
    "What we're about to do is considered data dumping. <font color=\"red\">You will lose points on your assignments for doing something like this.</font>"
   ]
  },
  {
   "cell_type": "code",
   "execution_count": null,
   "metadata": {
    "deletable": false,
    "editable": false
   },
   "outputs": [],
   "source": [
    "# instantiating a correlation matrix\n",
    "df_corr = housing.corr().round(2)\n",
    "\n",
    "\n",
    "# setting figure size\n",
    "fig, ax = plt.subplots(figsize=(15,15))\n",
    "\n",
    "\n",
    "# visualizing the correlation matrix\n",
    "sns.heatmap(df_corr,\n",
    "            cmap = 'coolwarm',\n",
    "            square = True,\n",
    "            annot = True,\n",
    "            linecolor = 'black',\n",
    "            linewidths = 0.5)\n",
    "\n",
    "\n",
    "# layout and rendering\n",
    "plt.tight_layout()\n",
    "plt.show()"
   ]
  },
  {
   "cell_type": "markdown",
   "metadata": {
    "deletable": false,
    "editable": false,
    "run_control": {
     "frozen": true
    }
   },
   "source": [
    "<hr style=\"height:.9px;border:none;color:#333;background-color:#333;\" /><br>\n",
    "\n",
    "It will be more efficient to simply analyze the Pearson correlations with the Y-variable(s), as in the code below."
   ]
  },
  {
   "cell_type": "code",
   "execution_count": null,
   "metadata": {
    "deletable": false,
    "editable": false
   },
   "outputs": [],
   "source": [
    "# creating a (Pearson) correlation matrix\n",
    "df_corr = housing.corr().round(2)\n",
    "\n",
    "\n",
    "# printing (Pearson) correlations with SalePrice\n",
    "df_corr.loc[ : , ['Sale_Price', 'log_Sale_Price'] ].sort_values(by = 'Sale_Price',\n",
    "                                                                ascending = False)"
   ]
  },
  {
   "cell_type": "markdown",
   "metadata": {
    "deletable": false,
    "editable": false,
    "run_control": {
     "frozen": true
    }
   },
   "source": [
    "<hr style=\"height:.9px;border:none;color:#333;background-color:#333;\" />\n",
    "\n",
    "<strong>b)</strong> Sale_Price or log_Sale_Price?\n",
    "<br>    \n",
    "Write a code that:\n",
    "\n",
    " * takes the results of the correlation output above\n",
    " * determines the higher correlation (<em>Sale_Price</em> or <em>log_Sale_Price</em>)\n",
    " * outputs the results as a frequency table"
   ]
  },
  {
   "cell_type": "code",
   "execution_count": null,
   "metadata": {
    "solution2": "hidden",
    "solution2_first": true
   },
   "outputs": [],
   "source": [
    "# write your code here\n",
    "\n",
    "\n",
    "\n"
   ]
  },
  {
   "cell_type": "code",
   "execution_count": null,
   "metadata": {
    "deletable": false,
    "editable": false,
    "solution2": "hidden"
   },
   "outputs": [],
   "source": [
    "# subsetting for sale prices\n",
    "price_corr = df_corr.loc[ : , ['Sale_Price', 'log_Sale_Price'] ].sort_values(by = 'Sale_Price',\n",
    "                                                                 ascending = False)\n",
    "\n",
    "\n",
    "# removing irrelevant correlations\n",
    "price_corr = price_corr.iloc[ 2: , : ]\n",
    "\n",
    "\n",
    "# placeholder column for y-variable recommendation\n",
    "price_corr['original_v_log'] = 0\n",
    "\n",
    "\n",
    "# filling in placeholder\n",
    "for index, column in price_corr.iterrows():\n",
    "    \n",
    "    # if Sale_Price is higher\n",
    "    if abs(price_corr.loc[ index, 'Sale_Price']) >  abs(price_corr.loc[ index, 'log_Sale_Price']):\n",
    "        price_corr.loc[ index , 'original_v_log'] = 'Sale_Price'\n",
    "        \n",
    "        \n",
    "    # if log_Sale_Price is higher \n",
    "    elif abs(price_corr.loc[ index, 'Sale_Price']) <  abs(price_corr.loc[ index, 'log_Sale_Price']):\n",
    "        price_corr.loc[ index , 'original_v_log'] = 'log_Sale_Price'\n",
    "    \n",
    "    \n",
    "    # in case they are tied\n",
    "    else:\n",
    "        price_corr.loc[ index , 'original_v_log'] = 'Tie'\n",
    "        \n",
    "\n",
    "# checking results\n",
    "price_corr[\"original_v_log\"].value_counts(normalize = False,\n",
    "                                          sort      = True,\n",
    "                                          ascending = False).round(decimals = 2)"
   ]
  },
  {
   "cell_type": "markdown",
   "metadata": {
    "deletable": false,
    "editable": false,
    "run_control": {
     "frozen": true
    }
   },
   "source": [
    "### <hr style=\"height:.9px;border:none;color:#333;background-color:#333;\" /><br>\n",
    "Valuable (Pearson) correlations have been discovered from many of the newly engineered-features. Let's throw everything into a model and see how each explanatory variable performs. This is known as building a <strong>full model</strong>.<br><br>\n",
    "The following code is meant to drop the Y-variables (&nbsp;<em>Sale_Price</em> and <em>log_Sale_Price</em>) as well as <em>property_id</em>. This is so that the Y-variable doesn't accidentally end up on the X-side of the models we develop. Remember, <font color = \"red\"> the Y-variable belongs on the Y-side of the model. Putting it on the X-side in any form, such as through newly-engineered features is an invalid approach to modeling.</font> This is because if we are truly interested in predicting Y, we will not have its data at the time of prediction (Y will be unknown).<br><br>\n",
    "\n",
    "<strong>c)</strong> Adding each variable one-by-one would be a long and tedious process. Perform these steps to be more efficient:\n",
    "\n",
    "1. Make a copy of the housing dataset and name it <em>housing_explanatory</em>\n",
    "2. Drop <em>Sale_Price</em>, <em>log_Sale_Price</em>, and <em>property_id</em> from <em>housing_explanatory</em>\n",
    "3. Develop a loop that will print each explanatory variable in the following format:<br>\n",
    "\n",
    "~~~\n",
    "EXPLANATORY_VARIABLE +\n",
    "~~~"
   ]
  },
  {
   "cell_type": "code",
   "execution_count": null,
   "metadata": {
    "solution2": "hidden",
    "solution2_first": true
   },
   "outputs": [],
   "source": [
    "# making a copy of housing\n",
    "housing_explanatory = _____\n",
    "\n",
    "\n",
    "# dropping SalePrice and Order from the explanatory variable set\n",
    "housing_explanatory = ____.____(['Sale_Price',\n",
    "                                 'log_Sale_Price',\n",
    "                                 'property_id'], axis = 1)\n",
    "\n",
    "\n",
    "# formatting each explanatory variable for statsmodels\n",
    "for val in housing_explanatory:\n",
    "    _____"
   ]
  },
  {
   "cell_type": "code",
   "execution_count": null,
   "metadata": {
    "deletable": false,
    "editable": false,
    "solution2": "hidden"
   },
   "outputs": [],
   "source": [
    "# making a copy of housing\n",
    "housing_explanatory = housing.copy()\n",
    "\n",
    "\n",
    "# dropping Sale_Price, log_Sale_Price, and property_id from the explanatory variable set\n",
    "housing_explanatory = housing_explanatory.drop(['Sale_Price',\n",
    "                                                'log_Sale_Price',\n",
    "                                                'property_id'], axis = 1)\n",
    "\n",
    "\n",
    "# formatting each explanatory variable for statsmodels\n",
    "for val in housing_explanatory:\n",
    "    print(f\"{val} +\")"
   ]
  },
  {
   "cell_type": "markdown",
   "metadata": {
    "deletable": false,
    "editable": false,
    "run_control": {
     "frozen": true
    }
   },
   "source": [
    "<hr style=\"height:.9px;border:none;color:#333;background-color:#333;\" /><br>\n",
    "\n",
    "<strong>d)</strong> Copy/Paste the results of the loop above into the following regression modeling template.<br><br>\n",
    "Then, modify the results to create a predictive model using the full model."
   ]
  },
  {
   "cell_type": "code",
   "execution_count": null,
   "metadata": {
    "solution2": "hidden",
    "solution2_first": true
   },
   "outputs": [],
   "source": [
    "# building a full model\n",
    "\n",
    "# blueprinting a model type\n",
    "lm_full = smf.ols(formula = \"\"\"INSERT COPY/PASTE HERE\"\"\",\n",
    "                               data = housing)\n",
    "\n",
    "\n",
    "# telling Python to run the data through the blueprint\n",
    "results_full = lm_full.fit()\n",
    "\n",
    "\n",
    "# printing the results\n",
    "results_full.summary()"
   ]
  },
  {
   "cell_type": "code",
   "execution_count": null,
   "metadata": {
    "deletable": false,
    "editable": false,
    "solution2": "hidden"
   },
   "outputs": [],
   "source": [
    "# building a full model\n",
    "\n",
    "# blueprinting a model type\n",
    "lm_full = smf.ols(formula = \"\"\"Sale_Price ~ Lot_Area +\n",
    "                                            Mas_Vnr_Area +\n",
    "                                            Total_Bsmt_SF +\n",
    "                                            First_Flr_SF +\n",
    "                                            Second_Flr_SF +\n",
    "                                            Gr_Liv_Area +\n",
    "                                            Garage_Area +\n",
    "                                            Porch_Area +\n",
    "                                            m_Lot_Area +\n",
    "                                            m_Mas_Vnr_Area +\n",
    "                                            m_Second_Flr_SF +\n",
    "                                            log_Lot_Area +\n",
    "                                            log_Gr_Liv_Area +\n",
    "                                            has_Second_Flr +\n",
    "                                            has_Garage +\n",
    "                                            has_Mas_Vnr +\n",
    "                                            has_Porch +\n",
    "                                            ratio_building_lot +\n",
    "                                            Overall_Qual +\n",
    "                                            Overall_Cond +\n",
    "                                            Full_Bath +\n",
    "                                            Half_Bath +\n",
    "                                            Kitchen_AbvGr +\n",
    "                                            TotRms_AbvGr +\n",
    "                                            Fireplaces +\n",
    "                                            Garage_Cars +\n",
    "                                            Total_Bath +\n",
    "                                            CulDSac +\n",
    "                                            BrkSide +\n",
    "                                            CollgCr +\n",
    "                                            Crawfor +\n",
    "                                            Edwards +\n",
    "                                            Gilbert +\n",
    "                                            Mitchel +\n",
    "                                            NAmes +\n",
    "                                            NWAmes +\n",
    "                                            NridgHt +\n",
    "                                            OldTown +\n",
    "                                            Sawyer +\n",
    "                                            SawyerW +\n",
    "                                            Somerst +\n",
    "                                            Other_NH\n",
    "                                            \"\"\",\n",
    "                                data = housing)\n",
    "\n",
    "                        \n",
    "\n",
    "# telling Python to run the data through the blueprint\n",
    "results_full = lm_full.fit()\n",
    "\n",
    "\n",
    "# printing the results\n",
    "results_full.summary()"
   ]
  },
  {
   "cell_type": "markdown",
   "metadata": {
    "deletable": false,
    "editable": false,
    "run_control": {
     "frozen": true
    }
   },
   "source": [
    "<hr style=\"height:.9px;border:none;color:#333;background-color:#333;\" /><br>\n",
    "\n",
    "<strong>d)</strong> Create your best model by removing insignificant features based on their p-values.<br><br>\n",
    "This is known as developing a <strong>fit model</strong>. Note that as soon as a feature is removed from the model, other p-values will change due to <strong>collinearity</strong> (correlation amongst explanatory variables). Adjusted R-Square is your metric for success as it takes into account the size of the model (penalizing larger models that do not create additional predictive value).\n",
    "<br><br><br>\n",
    "<strong>Goals</strong>\n",
    "\n",
    "* Adjusted R-square of 0.825 or higher\n",
    "* All p-values in model $\\le$ 0.05"
   ]
  },
  {
   "cell_type": "code",
   "execution_count": null,
   "metadata": {
    "solution2": "hidden",
    "solution2_first": true
   },
   "outputs": [],
   "source": [
    "# write your code here\n",
    "\n",
    "\n",
    "\n"
   ]
  },
  {
   "cell_type": "code",
   "execution_count": null,
   "metadata": {
    "deletable": false,
    "editable": false,
    "solution2": "hidden"
   },
   "outputs": [],
   "source": [
    "## Model Example 1 (Sale_Price) ##\n",
    "\n",
    "# building a fit model\n",
    "\n",
    "# blueprinting a model type\n",
    "lm_fit = smf.ols(formula = \"\"\"Sale_Price ~ Garage_Cars +\n",
    "                                           Overall_Qual +\n",
    "                                           Total_Bsmt_SF +\n",
    "                                           NridgHt +\n",
    "                                           Kitchen_AbvGr +\n",
    "                                           has_Second_Flr +\n",
    "                                           Mas_Vnr_Area +\n",
    "                                           has_Garage +\n",
    "                                           Porch_Area +\n",
    "                                           NWAmes +\n",
    "                                           OldTown +\n",
    "                                           Overall_Cond +\n",
    "                                           NAmes +\n",
    "                                           Edwards +\n",
    "                                           Lot_Area +\n",
    "                                           Somerst +\n",
    "                                           Fireplaces +\n",
    "                                           Second_Flr_SF +\n",
    "                                           First_Flr_SF +\n",
    "                                           has_Mas_Vnr +\n",
    "                                           CulDSac +\n",
    "                                           Total_Bath +\n",
    "                                           Crawfor +\n",
    "                                           Garage_Area +\n",
    "                                           has_Porch\"\"\",\n",
    "                                data = housing)\n",
    "\n",
    "\n",
    "# telling Python to run the data through the blueprint\n",
    "results_fit = lm_fit.fit()\n",
    "\n",
    "\n",
    "# printing the results\n",
    "results_fit.summary()"
   ]
  },
  {
   "cell_type": "markdown",
   "metadata": {
    "deletable": false,
    "editable": false,
    "run_control": {
     "frozen": true
    },
    "solution2": "hidden"
   },
   "source": [
    "<br>"
   ]
  },
  {
   "cell_type": "code",
   "execution_count": null,
   "metadata": {
    "deletable": false,
    "editable": false,
    "solution2": "hidden"
   },
   "outputs": [],
   "source": [
    "## Model Example 2 (log_Sale_Price) ##\n",
    "\n",
    "# building a fit model\n",
    "\n",
    "# blueprinting a model type\n",
    "lm_fit = smf.ols(formula = \"\"\"log_Sale_Price ~ Garage_Cars +\n",
    "                                               Overall_Qual +\n",
    "                                               Total_Bsmt_SF +\n",
    "                                               OldTown +\n",
    "                                               Overall_Cond +\n",
    "                                               Kitchen_AbvGr +\n",
    "                                               Total_Bath +\n",
    "                                               has_Second_Flr +\n",
    "                                               NridgHt +\n",
    "                                               Fireplaces +\n",
    "                                               Porch_Area +\n",
    "                                               Somerst +\n",
    "                                               CollgCr +\n",
    "                                               Lot_Area +\n",
    "                                               Crawfor +\n",
    "                                               CulDSac +\n",
    "                                               NWAmes +\n",
    "                                               Second_Flr_SF +\n",
    "                                               First_Flr_SF +\n",
    "                                               Edwards +\n",
    "                                               Gilbert\"\"\",\n",
    "                                               data = housing)\n",
    "\n",
    "\n",
    "# telling Python to run the data through the blueprint\n",
    "results_fit = lm_fit.fit()\n",
    "\n",
    "\n",
    "# printing the results\n",
    "results_fit.summary()"
   ]
  },
  {
   "cell_type": "markdown",
   "metadata": {
    "deletable": false,
    "editable": false,
    "run_control": {
     "frozen": true
    }
   },
   "source": [
    "<br><br><hr style=\"height:.9px;border:none;color:#333;background-color:#333;\" /><hr style=\"height:.9px;border:none;color:#333;background-color:#333;\" /><br>\n",
    "\n",
    "~~~\n",
    " ___  ___      ___       __   ___    \n",
    "|__  |__   /\\   |  |  | |__) |__  __ \n",
    "|    |___ /~~\\  |  \\__/ |  \\ |___    \n",
    "                                     \n",
    " __   __     ___  ___    __          \n",
    "|__) |__) | |__  |__  | /  `         \n",
    "|  \\ |  \\ | |    |    | \\__,         \n",
    "                                                                    \n",
    "~~~\n",
    "\n",
    "<br>\n",
    "<hr style=\"height:.9px;border:none;color:#333;background-color:#333;\" />\n",
    "<hr style=\"height:.9px;border:none;color:#333;background-color:#333;\" /><br>"
   ]
  },
  {
   "cell_type": "markdown",
   "metadata": {
    "deletable": false,
    "editable": false,
    "run_control": {
     "frozen": true
    }
   },
   "source": [
    "<br>"
   ]
  }
 ],
 "metadata": {
  "kernelspec": {
   "display_name": "Python 3 (ipykernel)",
   "language": "python",
   "name": "python3"
  },
  "language_info": {
   "codemirror_mode": {
    "name": "ipython",
    "version": 3
   },
   "file_extension": ".py",
   "mimetype": "text/x-python",
   "name": "python",
   "nbconvert_exporter": "python",
   "pygments_lexer": "ipython3",
   "version": "3.12.11"
  },
  "toc": {
   "base_numbering": 1,
   "nav_menu": {},
   "number_sections": false,
   "sideBar": true,
   "skip_h1_title": false,
   "title_cell": "Table of Contents",
   "title_sidebar": "Contents",
   "toc_cell": false,
   "toc_position": {
    "height": "calc(100% - 180px)",
    "left": "10px",
    "top": "150px",
    "width": "287.994px"
   },
   "toc_section_display": true,
   "toc_window_display": false
  },
  "varInspector": {
   "cols": {
    "lenName": 16,
    "lenType": 16,
    "lenVar": 40
   },
   "kernels_config": {
    "python": {
     "delete_cmd_postfix": "",
     "delete_cmd_prefix": "del ",
     "library": "var_list.py",
     "varRefreshCmd": "print(var_dic_list())"
    },
    "r": {
     "delete_cmd_postfix": ") ",
     "delete_cmd_prefix": "rm(",
     "library": "var_list.r",
     "varRefreshCmd": "cat(var_dic_list()) "
    }
   },
   "types_to_exclude": [
    "module",
    "function",
    "builtin_function_or_method",
    "instance",
    "_Feature"
   ],
   "window_display": false
  }
 },
 "nbformat": 4,
 "nbformat_minor": 2
}
