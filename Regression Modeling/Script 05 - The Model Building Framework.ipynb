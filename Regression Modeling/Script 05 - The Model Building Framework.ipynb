{
 "cells": [
  {
   "cell_type": "markdown",
   "metadata": {
    "deletable": false,
    "editable": false,
    "run_control": {
     "frozen": true
    }
   },
   "source": [
    "<hr style=\"height:.9px;border:none;color:#333;background-color:#333;\" />\n",
    "<hr style=\"height:.9px;border:none;color:#333;background-color:#333;\" />\n",
    "\n",
    "<br><h2>Script 05 | The Modeling Building Framework</h2>\n",
    "<br>\n",
    "Written by Chase Kusterer<br>\n",
    "<a href=\"https://github.com/chase-kusterer\">GitHub</a> | <a href=\"https://www.linkedin.com/in/kusterer/\">LinkedIn</a>\n",
    "<br><br><br>\n",
    "\n",
    "<hr style=\"height:.9px;border:none;color:#333;background-color:#333;\" />\n",
    "<hr style=\"height:.9px;border:none;color:#333;background-color:#333;\" />\n",
    "\n",
    "<br>\n",
    "\n",
    "<h3>Basic Modeling Strategy for a Continuous Response Variable</h3>\n",
    "\n",
    "<strong>1. Data Exploration, Preparation, and Feature Engineering</strong><br>\n",
    "Analyze the data, treat anomalies (missing values, etc.), and develop new features.<br><br>\n",
    "\n",
    "<strong>2. Prepare for Model Development</strong><br>\n",
    "Split the dataset into training and testing sets.<br><br>\n",
    "\n",
    "<strong>3. Model Development in statsmodels</strong><br>\n",
    "Experiment with different feature combinations in linear regression (OLS) and analyze results.<br><br>\n",
    "\n",
    "<strong>4. Develop Candidate Models</strong><br>\n",
    "Find X-feature combinations that are predicting well.<br><br>\n",
    "\n",
    "<strong>5. Model Tournament</strong><br>\n",
    "Apply X-feature combinations to different model types in scikit-learn.<br><br><br>\n",
    "\n",
    "<h3>The Model Tournament Workflow</h3>\n",
    "    \n",
    "<strong>1. Instantiate</strong><br>\n",
    "Create a blueprint of the model, just like with user-defined functions.<br><br>\n",
    "\n",
    "<strong>2. Fit</strong><br>\n",
    "Run the training data through the model object. This creates regression metrics such as R-Square and coefficients.<br><br>\n",
    "\n",
    "<strong>3. Predict</strong><br>\n",
    "Use the fitted model to predict on the testing set. This helps us understand the stability of the model.<br><br>\n",
    "\n",
    "<strong>4. Score</strong><br>\n",
    "Analyze the model's performance based on its regression metrics.<br><br>\n",
    "\n",
    "<hr style=\"height:.9px;border:none;color:#333;background-color:#333;\" />"
   ]
  },
  {
   "cell_type": "markdown",
   "metadata": {
    "deletable": false,
    "editable": false,
    "run_control": {
     "frozen": true
    }
   },
   "source": [
    "<h2>Part I: Training and Testing Sets</h2><br>\n",
    "Our previous model building endeavors using statsmodels had one major drawback:<br><br>\n",
    "\n",
    "<div align=\"center\"><h4>The models were trained using all of the data.</h4></div><br>\n",
    "\n",
    "This may not seem like a big deal, but modeling in this way can be very dangerous. Allowing an algorithm to see all of the data runs the risk of <strong>overfitting</strong>, or tailoring so closely to a dataset that the algorithm predicts poorly on new observations. Remember, the primary goal of building a model is to predict well on observations where the end result is unknown (i.e., new cases). Therefore, we need to set aside a some data before a model is trained (known as a <strong>testing</strong> or <strong>validation set</strong>). After training, the testing set will help us understand how the model predicts on new data.<br><br><br>\n",
    "<strong>Some Things to Keep in Mind</strong><br>\n",
    "1. Data exploration and feature engineering are always conducted on the full dataset.\n",
    "2. Model adjustments should never be made on the testing set. The testing set should only be used to analyze a model's fit.<br>\n",
    "\n",
    "<h4>Imports and Loading the Dataset</h4>\n",
    "Run the following code to import packages and the feature-enhanced version of the dataset."
   ]
  },
  {
   "cell_type": "code",
   "execution_count": null,
   "metadata": {
    "deletable": false,
    "editable": false
   },
   "outputs": [],
   "source": [
    "# importing packages\n",
    "import pandas as pd                                  # data science essentials\n",
    "import matplotlib.pyplot as plt                      # data viz\n",
    "import seaborn as sns                                # enhanced data viz\n",
    "import statsmodels.formula.api as smf                # linear modeling\n",
    "from sklearn.model_selection import train_test_split # train/test split\n",
    "import sklearn.linear_model                          # faster linear modeling\n",
    "import numpy as np                                   # mathematical essentials\n",
    "\n",
    "# setting pandas and numpy print options\n",
    "pd.set_option('display.max_rows', 500)\n",
    "pd.set_option('display.max_columns', 500)\n",
    "pd.set_option('display.width', 1000)\n",
    "np.set_printoptions(suppress=True)\n",
    "\n",
    "# specifying the path and file name\n",
    "file = './datasets/housing_feature_rich.xlsx'\n",
    "\n",
    "\n",
    "# reading the file into Python\n",
    "housing = pd.read_excel(io     = file,\n",
    "                        header = 0   )\n",
    "\n",
    "\n",
    "housing.drop(labels  = 'property_id',\n",
    "             axis    = 1,\n",
    "             inplace = True)\n",
    "\n",
    "\n",
    "# checking the file\n",
    "housing.head(n = 5)"
   ]
  },
  {
   "cell_type": "markdown",
   "metadata": {
    "deletable": false,
    "editable": false,
    "run_control": {
     "frozen": true
    }
   },
   "source": [
    "<hr style=\"height:.9px;border:none;color:#333;background-color:#333;\" /><br>\n",
    "\n",
    "<h2>Part II: Preparing for Modeling</h2><br>\n",
    "The best X-feature sets from previous scripts have been prepared as lists in the code below. These are known as <strong>candidate models</strong>. We will apply each candidate model to different model types in the hopes of finding the most optimal one in terms of predictive performance."
   ]
  },
  {
   "cell_type": "code",
   "execution_count": null,
   "metadata": {
    "deletable": false,
    "editable": false
   },
   "outputs": [],
   "source": [
    "#################################\n",
    "## original data (full models) ##\n",
    "#################################\n",
    "# all x-data\n",
    "x_all = list(housing.drop(labels  = ['Sale_Price', 'log_Sale_Price'],\n",
    "                          axis    = 1))\n",
    "\n",
    "# continuous x-data\n",
    "x_original = list(housing.loc[ : , 'Lot_Area' : 'Porch_Area' ])\n",
    "\n",
    "\n",
    "\n",
    "################\n",
    "## original y ##\n",
    "################\n",
    "# best base model \n",
    "x_base = ['Mas_Vnr_Area',  'Total_Bsmt_SF', 'First_Flr_SF',\n",
    "          'Second_Flr_SF', 'Garage_Area']\n",
    "\n",
    "\n",
    "# best model after feature engineering\n",
    "x_rich = ['Lot_Area', 'Garage_Cars', 'Overall_Qual', 'Total_Bsmt_SF',\n",
    "          'NridgHt', 'Kitchen_AbvGr', 'has_Second_Flr',\n",
    "          'Mas_Vnr_Area', 'has_Garage', 'Porch_Area',\n",
    "          'NWAmes', 'OldTown', 'Overall_Cond', 'NAmes',\n",
    "          'Edwards', 'Somerst', 'Fireplaces', 'Second_Flr_SF',\n",
    "          'First_Flr_SF', 'has_Mas_Vnr', 'CulDSac', 'Total_Bath',\n",
    "          'Crawfor', 'Garage_Area', 'has_Porch']\n",
    "\n",
    "\n",
    "\n",
    "###################\n",
    "## logarithmic y ##\n",
    "###################\n",
    "# best model after feature engineering (log y)\n",
    "x_rich_log_y = ['Lot_Area', 'First_Flr_SF', 'Second_Flr_SF', 'Garage_Cars' ,\n",
    "                'Overall_Qual', 'Overall_Cond', 'Total_Bsmt_SF', 'OldTown',\n",
    "                'Kitchen_AbvGr', 'Total_Bath', 'has_Second_Flr', 'NridgHt',\n",
    "                'Fireplaces', 'Porch_Area', 'Somerst', 'CollgCr', 'Crawfor',\n",
    "                'CulDSac', 'NWAmes', 'Edwards', 'Gilbert']\n",
    "\n",
    "\n",
    "\n",
    "########################\n",
    "## response variables ##\n",
    "########################\n",
    "original_y = 'Sale_Price'\n",
    "log_y      = 'log_Sale_Price'"
   ]
  },
  {
   "cell_type": "markdown",
   "metadata": {
    "deletable": false,
    "editable": false,
    "run_control": {
     "frozen": true
    }
   },
   "source": [
    "<br><br>\n",
    "<strong>a)</strong> Complete the code below using x_all and original_y."
   ]
  },
  {
   "cell_type": "code",
   "execution_count": null,
   "metadata": {
    "solution2": "hidden",
    "solution2_first": true
   },
   "outputs": [],
   "source": [
    "# preparing x-data\n",
    "x_data = housing[ _____ ]\n",
    "\n",
    "\n",
    "# preparing y-data\n",
    "y_data = _____\n",
    "\n",
    "\n",
    "# train-test split\n",
    "x_train, x_test, y_train, y_test = train_test_split(x_data, # x\n",
    "                                                    y_data, # y\n",
    "                                                    test_size    = 0.25,\n",
    "                                                    random_state = 219 )"
   ]
  },
  {
   "cell_type": "code",
   "execution_count": null,
   "metadata": {
    "deletable": false,
    "editable": false,
    "solution2": "hidden"
   },
   "outputs": [],
   "source": [
    "# preparing x-data\n",
    "x_data = housing[ x_all ]\n",
    "\n",
    "\n",
    "# preparing y-data\n",
    "y_data = original_y\n",
    "\n",
    "\n",
    "# train-test split\n",
    "x_train, x_test, y_train, y_test = train_test_split(x_data,\n",
    "                                                    y_data,\n",
    "                                                    test_size    = 0.25,\n",
    "                                                    random_state = 219 )"
   ]
  },
  {
   "cell_type": "markdown",
   "metadata": {
    "deletable": false,
    "editable": false,
    "run_control": {
     "frozen": true
    }
   },
   "source": [
    "<br>"
   ]
  },
  {
   "cell_type": "code",
   "execution_count": null,
   "metadata": {
    "deletable": false,
    "editable": false
   },
   "outputs": [],
   "source": [
    "# checking results\n",
    "print(f\"\"\"\n",
    "Data Shapes\n",
    "-----------\n",
    "x_train: {x_train.shape}\n",
    "y_train: {y_train.shape}\n",
    "\n",
    "x_test: {x_test.shape}\n",
    "y_test: {y_test.shape}\n",
    "\"\"\")"
   ]
  },
  {
   "cell_type": "markdown",
   "metadata": {
    "deletable": false,
    "editable": false,
    "run_control": {
     "frozen": true
    }
   },
   "source": [
    "<hr style=\"height:.9px;border:none;color:#333;background-color:#333;\" /><br>\n",
    "\n",
    "<h2>Part III: Example: Modeling with OLS Regression</h2>"
   ]
  },
  {
   "cell_type": "code",
   "execution_count": null,
   "metadata": {
    "deletable": false,
    "editable": false
   },
   "outputs": [],
   "source": [
    "# naming the model\n",
    "model_name = \"Linear Regression\"\n",
    "\n",
    "\n",
    "# INSTANTIATING model object\n",
    "model = sklearn.linear_model.LinearRegression()\n",
    "\n",
    "\n",
    "# FITTING to training data\n",
    "model_fit = model.fit(x_train, y_train)\n",
    "\n",
    "\n",
    "# PREDICTING on new data\n",
    "model_pred = model.predict(x_test)\n",
    "\n",
    "\n",
    "# SCORING results (R-Square)\n",
    "model_train_score = round(model.score(x_train, y_train), ndigits = 4)\n",
    "model_test_score  = round(model.score(x_test, y_test), ndigits = 4)\n",
    "model_gap         = round(model_train_score - model_test_score, ndigits = 4)\n",
    "\n",
    "\n",
    "# displaying results\n",
    "print('Training Score :', model_train_score)\n",
    "print('Testing Score  :', model_test_score)\n",
    "print('Train-Test Gap :', model_gap)"
   ]
  },
  {
   "cell_type": "markdown",
   "metadata": {
    "deletable": false,
    "editable": false,
    "run_control": {
     "frozen": true
    }
   },
   "source": [
    "<br>\n",
    "<h3>Extracting Coefficients</h3>"
   ]
  },
  {
   "cell_type": "code",
   "execution_count": null,
   "metadata": {
    "deletable": false,
    "editable": false
   },
   "outputs": [],
   "source": [
    "# zipping each feature name to its coefficient\n",
    "model_coefficients = zip(x_train.columns,\n",
    "                         model.coef_.round(decimals = 4))\n",
    "\n",
    "\n",
    "# setting up a placeholder list to store model features\n",
    "coefficient_lst = [('intercept', model.intercept_.round(decimals = 4))]\n",
    "\n",
    "\n",
    "# printing out each feature-coefficient pair one by one\n",
    "for coefficient in model_coefficients:\n",
    "    coefficient_lst.append(coefficient)\n",
    "    \n",
    "\n",
    "# checking the results\n",
    "for pair in coefficient_lst:\n",
    "    print(pair)"
   ]
  },
  {
   "cell_type": "markdown",
   "metadata": {
    "deletable": false,
    "editable": false,
    "run_control": {
     "frozen": true
    }
   },
   "source": [
    "<br>\n",
    "<h3>Model Summary</h3>"
   ]
  },
  {
   "cell_type": "code",
   "execution_count": null,
   "metadata": {
    "deletable": false,
    "editable": false
   },
   "outputs": [],
   "source": [
    "# dynamically printing model summary\n",
    "ols_model =  f\"\"\"\\\n",
    "Model Name:     {model_name}\n",
    "Train_Score:    {model_train_score}\n",
    "Test_Score:     {model_test_score}\n",
    "Train-Test Gap: {model_gap}\n",
    "\n",
    "Coefficents\n",
    "-----------\n",
    "{pd.DataFrame(data = coefficient_lst, columns = [\"Feature\", \"Coefficient\"])}\"\"\"\n",
    "\n",
    "print(ols_model)"
   ]
  },
  {
   "cell_type": "markdown",
   "metadata": {
    "deletable": false,
    "editable": false,
    "run_control": {
     "frozen": true
    }
   },
   "source": [
    "<hr style=\"height:.9px;border:none;color:#333;background-color:#333;\" /><br>\n",
    "\n",
    "<strong>How fit should a model be?</strong><br>\n",
    "As a general heuristic, if the training and testing scores are within 0.05 of each other, the model has not been overfit. Don't worry if the testing score ends up higher than the training score. Some sources claim that in such situations a model is underfit, but this is a general misconception that is beyond the scope of this course.<br><br>\n",
    "\n",
    "<h2>Exploring the Model Building Framework</h2><br>\n",
    "Let's explore each component of the model building framework."
   ]
  },
  {
   "cell_type": "code",
   "execution_count": null,
   "metadata": {
    "deletable": false,
    "editable": false
   },
   "outputs": [],
   "source": [
    "help(sklearn.linear_model.LinearRegression)"
   ]
  },
  {
   "cell_type": "markdown",
   "metadata": {
    "deletable": false,
    "editable": false,
    "run_control": {
     "frozen": true
    }
   },
   "source": [
    "<br>\n",
    "<h3>Instantiate</h3>\n",
    "This creates a blueprint of the model, just like with user-defined functions."
   ]
  },
  {
   "cell_type": "code",
   "execution_count": null,
   "metadata": {
    "deletable": false,
    "editable": false
   },
   "outputs": [],
   "source": [
    "# this is a blueprint\n",
    "model = sklearn.linear_model.LinearRegression()\n",
    "\n",
    "\n",
    "# printing blueprint\n",
    "print(model)"
   ]
  },
  {
   "cell_type": "markdown",
   "metadata": {
    "deletable": false,
    "editable": false,
    "run_control": {
     "frozen": true
    }
   },
   "source": [
    "<br>\n",
    "<h3>Fit</h3>\n",
    "Runs the data through the model, creating regression metrics such as R-Square and coefficients."
   ]
  },
  {
   "cell_type": "code",
   "execution_count": null,
   "metadata": {
    "deletable": false,
    "editable": false
   },
   "outputs": [],
   "source": [
    "# model is created from blueprint and data\n",
    "model_fit = model.fit(x_train, y_train)\n",
    "\n",
    "\n",
    "# printing model attributes\n",
    "print(f\"\"\"\n",
    "Intercept\n",
    "---------\n",
    "{round(model_fit.intercept_, ndigits = 2)}\n",
    "\n",
    "\n",
    "Coefficients\n",
    "------------\n",
    "{model_fit.coef_.round(decimals = 2)}\n",
    "\n",
    "\n",
    "Total X-Features\n",
    "----------------\n",
    "{model_fit.n_features_in_}\n",
    "\"\"\")"
   ]
  },
  {
   "cell_type": "markdown",
   "metadata": {
    "deletable": false,
    "editable": false,
    "run_control": {
     "frozen": true
    }
   },
   "source": [
    "<br>\n",
    "<h3>Predict</h3>\n",
    "Uses the fitted model to predict on the testing set. This helps us understand the stability of the model."
   ]
  },
  {
   "cell_type": "code",
   "execution_count": null,
   "metadata": {
    "deletable": false,
    "editable": false,
    "scrolled": true
   },
   "outputs": [],
   "source": [
    "# applying model to validation set\n",
    "model_pred = model.predict(x_test)\n",
    "\n",
    "\n",
    "# printing predictions (validation set)\n",
    "print(model_pred.round(decimals = 0).astype(dtype = int))"
   ]
  },
  {
   "cell_type": "markdown",
   "metadata": {
    "deletable": false,
    "editable": false,
    "run_control": {
     "frozen": true
    }
   },
   "source": [
    "<br>"
   ]
  },
  {
   "cell_type": "code",
   "execution_count": null,
   "metadata": {
    "deletable": false,
    "editable": false
   },
   "outputs": [],
   "source": [
    "## Residual Analysis ##\n",
    "\n",
    "# organizing residuals\n",
    "model_residuals = {\n",
    "    \"True\"            : y_test,\n",
    "    \"Predicted\"       : model_pred.round(decimals = 0).astype(dtype = int)\n",
    "}\n",
    "\n",
    "\n",
    "# converting residuals into df\n",
    "resid_df = pd.DataFrame(data = model_residuals)\n",
    "\n",
    "\n",
    "# checking results\n",
    "resid_df.head(n = 5)"
   ]
  },
  {
   "cell_type": "markdown",
   "metadata": {
    "deletable": false,
    "editable": false,
    "run_control": {
     "frozen": true
    }
   },
   "source": [
    "<br><br>\n",
    "<strong>a)</strong> Complete the code to develop a residual plot from <em>resid_df</em>. Plot <em>Predicted</em> on the x-axis and <em>True</em> on the y-axis."
   ]
  },
  {
   "cell_type": "code",
   "execution_count": null,
   "metadata": {
    "solution2": "hidden",
    "solution2_first": true
   },
   "outputs": [],
   "source": [
    "# developing a residual plot\n",
    "sns.residplot(data        = _____,\n",
    "              x           = _____,\n",
    "              y           = _____,\n",
    "              lowess      = True,\n",
    "              color       = 'blue',\n",
    "              scatter_kws = {'alpha': 0.3},   # data point transparency\n",
    "              line_kws    = {'color': 'red'}) # line color\n",
    "\n",
    "\n",
    "# title and axis labels\n",
    "plt.title(label   = \"Residual Plot - Full Model\")\n",
    "plt.xlabel(xlabel = \"Predicted Sale Price\")\n",
    "plt.ylabel(ylabel = \"Residual Sale Price\")\n",
    "\n",
    "\n",
    "# layout and rendering visual\n",
    "plt.tight_layout()\n",
    "plt.show()"
   ]
  },
  {
   "cell_type": "code",
   "execution_count": null,
   "metadata": {
    "deletable": false,
    "editable": false,
    "solution2": "hidden"
   },
   "outputs": [],
   "source": [
    "# developing a residual plot\n",
    "sns.residplot(data        = resid_df,\n",
    "              x           = 'Predicted',\n",
    "              y           = 'True',\n",
    "              lowess      = True,\n",
    "              color       = 'blue',\n",
    "              scatter_kws = {'alpha': 0.3},   # data point transparency\n",
    "              line_kws    = {'color': 'red'}) # line color\n",
    "\n",
    "\n",
    "# title and axis labels\n",
    "plt.title(label   = \"Residual Plot - Full Model\")\n",
    "plt.xlabel(xlabel = \"Predicted Sale Price\")\n",
    "plt.ylabel(ylabel = \"Residual Sale Price\")\n",
    "\n",
    "\n",
    "# layout and rendering visual\n",
    "plt.tight_layout()\n",
    "plt.show()"
   ]
  },
  {
   "cell_type": "markdown",
   "metadata": {
    "deletable": false,
    "editable": false,
    "run_control": {
     "frozen": true
    }
   },
   "source": [
    "<br>\n",
    "<h3>Score</h3>\n",
    "Quantifies the quality of predictions based on a scoring metric (in this case, R-Square). More information on scoring metrics <a href=\"https://scikit-learn.org/stable/modules/model_evaluation.html\">can be found here</a>."
   ]
  },
  {
   "cell_type": "code",
   "execution_count": null,
   "metadata": {
    "deletable": false,
    "editable": false
   },
   "outputs": [],
   "source": [
    "# checking overall predictive quality\n",
    "print('Training Score:', round(model.score(x_train, y_train), ndigits = 4))\n",
    "print('Testing  Score:', round(model.score(x_test, y_test),   ndigits = 4))\n",
    "print('Train-Test Gap:', model_gap)"
   ]
  },
  {
   "cell_type": "markdown",
   "metadata": {
    "deletable": false,
    "editable": false,
    "run_control": {
     "frozen": true
    }
   },
   "source": [
    "<hr style=\"height:.9px;border:none;color:#333;background-color:#333;\" /><br>\n",
    "\n",
    "<h2>Part IV: Practice Time!</h2><br>\n",
    "Run this script again using other X-feature sets.<br>\n",
    "\n",
    "* Which feature set results in the highest R-Square values?\n",
    "* Which feature set results in the lowest train-test gap?\n",
    "* Are there any feature sets that flatten out the lowess estimator in the residual plot?"
   ]
  },
  {
   "cell_type": "markdown",
   "metadata": {
    "deletable": false,
    "editable": false,
    "run_control": {
     "frozen": true
    }
   },
   "source": [
    "<br><br><hr style=\"height:.9px;border:none;color:#333;background-color:#333;\" /><hr style=\"height:.9px;border:none;color:#333;background-color:#333;\" /><br>\n",
    "\n",
    "~~~\n",
    "\n",
    "  _    _                           __  __           _      _ _             _ \n",
    " | |  | |                         |  \\/  |         | |    | (_)           | |\n",
    " | |__| | __ _ _ __  _ __  _   _  | \\  / | ___   __| | ___| |_ _ __   __ _| |\n",
    " |  __  |/ _` | '_ \\| '_ \\| | | | | |\\/| |/ _ \\ / _` |/ _ \\ | | '_ \\ / _` | |\n",
    " | |  | | (_| | |_) | |_) | |_| | | |  | | (_) | (_| |  __/ | | | | | (_| |_|\n",
    " |_|  |_|\\__,_| .__/| .__/ \\__, | |_|  |_|\\___/ \\__,_|\\___|_|_|_| |_|\\__, (_)\n",
    "              | |   | |     __/ |                                     __/ |  \n",
    "              |_|   |_|    |___/                                     |___/   \n",
    "                                                                 \n",
    "~~~\n",
    "\n",
    "<br>\n",
    "<hr style=\"height:.9px;border:none;color:#333;background-color:#333;\" />\n",
    "<hr style=\"height:.9px;border:none;color:#333;background-color:#333;\" /><br>"
   ]
  },
  {
   "cell_type": "markdown",
   "metadata": {
    "deletable": false,
    "editable": false,
    "run_control": {
     "frozen": true
    }
   },
   "source": [
    "<br>"
   ]
  }
 ],
 "metadata": {
  "kernelspec": {
   "display_name": "Python 3 (ipykernel)",
   "language": "python",
   "name": "python3"
  },
  "language_info": {
   "codemirror_mode": {
    "name": "ipython",
    "version": 3
   },
   "file_extension": ".py",
   "mimetype": "text/x-python",
   "name": "python",
   "nbconvert_exporter": "python",
   "pygments_lexer": "ipython3",
   "version": "3.12.11"
  },
  "toc": {
   "base_numbering": 1,
   "nav_menu": {},
   "number_sections": false,
   "sideBar": true,
   "skip_h1_title": false,
   "title_cell": "Table of Contents",
   "title_sidebar": "Contents",
   "toc_cell": false,
   "toc_position": {
    "height": "calc(100% - 180px)",
    "left": "10px",
    "top": "150px",
    "width": "288px"
   },
   "toc_section_display": true,
   "toc_window_display": false
  },
  "varInspector": {
   "cols": {
    "lenName": 16,
    "lenType": 16,
    "lenVar": 40
   },
   "kernels_config": {
    "python": {
     "delete_cmd_postfix": "",
     "delete_cmd_prefix": "del ",
     "library": "var_list.py",
     "varRefreshCmd": "print(var_dic_list())"
    },
    "r": {
     "delete_cmd_postfix": ") ",
     "delete_cmd_prefix": "rm(",
     "library": "var_list.r",
     "varRefreshCmd": "cat(var_dic_list()) "
    }
   },
   "types_to_exclude": [
    "module",
    "function",
    "builtin_function_or_method",
    "instance",
    "_Feature"
   ],
   "window_display": false
  }
 },
 "nbformat": 4,
 "nbformat_minor": 2
}
