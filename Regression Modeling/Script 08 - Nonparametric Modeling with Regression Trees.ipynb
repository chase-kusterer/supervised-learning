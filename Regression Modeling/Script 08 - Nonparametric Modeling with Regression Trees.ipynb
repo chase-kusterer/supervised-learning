{
 "cells": [
  {
   "cell_type": "markdown",
   "metadata": {
    "deletable": false,
    "editable": false,
    "run_control": {
     "frozen": true
    }
   },
   "source": [
    "<hr style=\"height:.9px;border:none;color:#333;background-color:#333;\" />\n",
    "<hr style=\"height:.9px;border:none;color:#333;background-color:#333;\" />\n",
    "\n",
    "<br><h2>Script 08 | Nonparametric Modeling with Regression Trees</h2>\n",
    "<br>\n",
    "Written by Chase Kusterer<br>\n",
    "<a href=\"https://github.com/chase-kusterer\">GitHub</a> | <a href=\"https://www.linkedin.com/in/kusterer/\">LinkedIn</a>\n",
    "<br><br><br>\n",
    "\n",
    "<hr style=\"height:.9px;border:none;color:#333;background-color:#333;\" />\n",
    "<hr style=\"height:.9px;border:none;color:#333;background-color:#333;\" />"
   ]
  },
  {
   "cell_type": "markdown",
   "metadata": {
    "deletable": false,
    "editable": false,
    "run_control": {
     "frozen": true
    }
   },
   "source": [
    "<h2>Part I: Preparation and Exploration</h2>\n",
    "<br><h4>a) Imports and Initial Setup</h4>\n",
    "Run the following code to import packages and load the dataset into Python."
   ]
  },
  {
   "cell_type": "code",
   "execution_count": null,
   "metadata": {
    "deletable": false,
    "editable": false
   },
   "outputs": [],
   "source": [
    "# importing libraries\n",
    "import matplotlib.pyplot as plt                        # data visualization\n",
    "import pandas as pd                                    # data science essentials\n",
    "from sklearn.model_selection import train_test_split   # train-test split\n",
    "from sklearn.tree import DecisionTreeRegressor         # regression trees\n",
    "from sklearn.tree import plot_tree                     # tree plots\n",
    "import warnings                                        # warnings from code\n",
    "\n",
    "\n",
    "\n",
    "# new libraries\n",
    "from sklearn.preprocessing import StandardScaler  # standard scaler\n",
    "import warnings                                   # warnings from code\n",
    "\n",
    "# setting pandas print options\n",
    "pd.set_option('display.max_rows', 500)\n",
    "pd.set_option('display.max_columns', 500)\n",
    "pd.set_option('display.width', 1000)\n",
    "\n",
    "\n",
    "# suppressing warnings\n",
    "warnings.filterwarnings(action = 'ignore')\n",
    "\n",
    "\n",
    "# specifying the path and file name\n",
    "file = './datasets/housing_feature_rich.xlsx'\n",
    "\n",
    "\n",
    "# reading the file into Python\n",
    "housing = pd.read_excel(io     = file,\n",
    "                        header = 0   )\n",
    "\n",
    "\n",
    "housing.drop(labels  = ['property_id'],\n",
    "             axis    = 1,\n",
    "             inplace = True)\n",
    "\n",
    "\n",
    "#####################################\n",
    "# importing model coefficients file #\n",
    "#####################################\n",
    "coef_file = \"./model_results/Model_Coefficients.xlsx\"\n",
    "\n",
    "coef_df   = pd.read_excel(io     = coef_file,\n",
    "                          header = 0        )\n",
    "\n",
    "\n",
    "\n",
    "# checking housing dataset\n",
    "housing.head(n = 5)"
   ]
  },
  {
   "cell_type": "markdown",
   "metadata": {
    "deletable": false,
    "editable": false,
    "run_control": {
     "frozen": true
    }
   },
   "source": [
    "<br>"
   ]
  },
  {
   "cell_type": "code",
   "execution_count": null,
   "metadata": {
    "deletable": false,
    "editable": false
   },
   "outputs": [],
   "source": [
    "#################\n",
    "## full models ##\n",
    "#################\n",
    "\n",
    "# all x-data\n",
    "x_all = list(housing.drop(labels  = ['Sale_Price', 'log_Sale_Price'],\n",
    "                          axis    = 1))\n",
    "\n",
    "# original x-data\n",
    "x_original = list(housing.loc[ : , 'Lot_Area' : 'Porch_Area' ])\n",
    "\n",
    "\n",
    "\n",
    "################\n",
    "## original y ##\n",
    "################\n",
    "\n",
    "# best base model \n",
    "x_base = ['Mas_Vnr_Area',  'Total_Bsmt_SF', 'First_Flr_SF',\n",
    "          'Second_Flr_SF', 'Garage_Area']\n",
    "\n",
    "\n",
    "# best model after feature engineering\n",
    "x_rich = ['Lot_Area', 'Garage_Cars', 'Overall_Qual', 'Total_Bsmt_SF',\n",
    "          'NridgHt', 'Kitchen_AbvGr', 'has_Second_Flr',\n",
    "          'Mas_Vnr_Area', 'has_Garage', 'Porch_Area',\n",
    "          'NWAmes', 'OldTown', 'Overall_Cond', 'NAmes',\n",
    "          'Edwards', 'Somerst', 'Fireplaces', 'Second_Flr_SF',\n",
    "          'First_Flr_SF', 'has_Mas_Vnr', 'CulDSac', 'Total_Bath',\n",
    "          'Crawfor', 'Garage_Area', 'has_Porch']\n",
    "\n",
    "\n",
    "\n",
    "###################\n",
    "## logarithmic y ##\n",
    "###################\n",
    "\n",
    "# best model after feature engineering (log y)\n",
    "x_rich_log_y = ['Lot_Area', 'First_Flr_SF', 'Second_Flr_SF', 'Garage_Cars' ,\n",
    "                'Overall_Qual', 'Overall_Cond', 'Total_Bsmt_SF', 'OldTown',\n",
    "                'Kitchen_AbvGr', 'Total_Bath', 'has_Second_Flr', 'NridgHt',\n",
    "                'Fireplaces', 'Porch_Area', 'Somerst', 'CollgCr', 'Crawfor',\n",
    "                'CulDSac', 'NWAmes', 'Edwards', 'Gilbert']\n",
    "\n",
    "\n",
    "\n",
    "########################\n",
    "## response variables ##\n",
    "########################\n",
    "original_y = 'Sale_Price'\n",
    "log_y      = 'log_Sale_Price'"
   ]
  },
  {
   "cell_type": "markdown",
   "metadata": {
    "deletable": false,
    "editable": false,
    "run_control": {
     "frozen": true
    }
   },
   "source": [
    "<br>"
   ]
  },
  {
   "cell_type": "code",
   "execution_count": null,
   "metadata": {
    "deletable": false,
    "editable": false
   },
   "outputs": [],
   "source": [
    "# preparing x-data\n",
    "x_data = housing[ x_original ]\n",
    "\n",
    "# preparing y-data\n",
    "y_data = housing[ original_y ]"
   ]
  },
  {
   "cell_type": "markdown",
   "metadata": {
    "deletable": false,
    "editable": false,
    "run_control": {
     "frozen": true
    }
   },
   "source": [
    "<br>\n",
    "<h4>Should we standardize the data? Will it make a difference in a nonparametric model? Explore the results to find out!</h4>"
   ]
  },
  {
   "cell_type": "code",
   "execution_count": null,
   "metadata": {
    "solution2": "hidden",
    "solution2_first": true
   },
   "outputs": [],
   "source": [
    "# # INSTANTIATING a StandardScaler() object\n",
    "# scaler = StandardScaler()\n",
    "\n",
    "\n",
    "# # FITTING and TRANSFORMING\n",
    "# x_scaled = scaler.fit_transform(x_data)\n",
    "\n",
    "\n",
    "# # converting scaled data into a DataFrame\n",
    "# x_scaled_df = pd.DataFrame(x_scaled)\n",
    "\n",
    "\n",
    "# # labeling columns\n",
    "# x_scaled_df.columns = x_data.columns\n",
    "\n",
    "\n",
    "# x_data = x_scaled_df.copy()\n",
    "\n",
    "# # checking the results\n",
    "# x_data.describe(include = 'number').round(decimals = 2)"
   ]
  },
  {
   "cell_type": "code",
   "execution_count": null,
   "metadata": {
    "deletable": false,
    "editable": false,
    "solution2": "hidden"
   },
   "outputs": [],
   "source": [
    "# INSTANTIATING a StandardScaler() object\n",
    "scaler = StandardScaler()\n",
    "\n",
    "\n",
    "# FITTING and TRANSFORMING\n",
    "x_scaled = scaler.fit_transform(x_data)\n",
    "\n",
    "\n",
    "# converting scaled data into a DataFrame\n",
    "x_scaled_df = pd.DataFrame(x_scaled)\n",
    "\n",
    "\n",
    "# labeling columns\n",
    "x_scaled_df.columns = x_data.columns\n",
    "\n",
    "\n",
    "x_data = x_scaled_df.copy()\n",
    "\n",
    "# checking the results\n",
    "x_data.describe(include = 'number').round(decimals = 2)"
   ]
  },
  {
   "cell_type": "markdown",
   "metadata": {
    "deletable": false,
    "editable": false,
    "run_control": {
     "frozen": true
    }
   },
   "source": [
    "<br>"
   ]
  },
  {
   "cell_type": "code",
   "execution_count": null,
   "metadata": {
    "deletable": false,
    "editable": false
   },
   "outputs": [],
   "source": [
    "# train-test split with stratification\n",
    "x_train, x_test, y_train, y_test = train_test_split(\n",
    "            x_data,\n",
    "            y_data,\n",
    "            test_size    = 0.25,\n",
    "            random_state = 702)"
   ]
  },
  {
   "cell_type": "markdown",
   "metadata": {
    "deletable": false,
    "editable": false,
    "run_control": {
     "frozen": true
    }
   },
   "source": [
    "<hr style=\"height:.9px;border:none;color:#333;background-color:#333;\" /><br>\n",
    "\n",
    "<h2>Part II: Classification Trees (CART Models)</h2><br>\n",
    "CART models are very useful in regression problems as they output interesting tools such as <strong>tree plots</strong> and <strong>feature importance</strong>. As they are a nonparametric model type, they have no coefficients. <strong>They also assume no model form, meaning that we do not need to transform any features or engineer new ones.</strong> CART models are meant to work out of the box.<br><br>\n",
    "\n",
    "<strong>CART Model Highlights</strong><br>\n",
    "\n",
    "* tend to overfit unless pruned\n",
    "* tend to be worse at prediction than other model types (after pruning)\n",
    "* can generate very useful outputs for developing hypotheses and data-driven findings\n"
   ]
  },
  {
   "cell_type": "markdown",
   "metadata": {
    "deletable": false,
    "editable": false,
    "run_control": {
     "frozen": true
    }
   },
   "source": [
    "Run the following code to load a user-defined function for CART model output."
   ]
  },
  {
   "cell_type": "code",
   "execution_count": null,
   "metadata": {
    "code_folding": [
     3
    ],
    "deletable": false,
    "editable": false
   },
   "outputs": [],
   "source": [
    "########################################\n",
    "# plot_feature_importances\n",
    "########################################\n",
    "def plot_feature_importances(model, train, export = False):\n",
    "    \"\"\"\n",
    "    Plots the importance of features from a CART model.\n",
    "    \n",
    "    PARAMETERS\n",
    "    ----------\n",
    "    model  : CART model\n",
    "    train  : explanatory variable training data\n",
    "    export : whether or not to export as a .png image, default False\n",
    "    \"\"\"\n",
    "    \n",
    "    # declaring the number\n",
    "    n_features = x_train.shape[1]\n",
    "    \n",
    "    # setting plot window\n",
    "    fig, ax = plt.subplots(figsize=(12,9))\n",
    "    \n",
    "    plt.barh(range(n_features), model.feature_importances_, align='center')\n",
    "    plt.yticks(np.arange(n_features), train.columns)\n",
    "    plt.xlabel(\"Feature importance\")\n",
    "    plt.ylabel(\"Feature\")\n",
    "    \n",
    "    if export == True:\n",
    "        plt.savefig('Tree_Leaf_50_Feature_Importance.png')"
   ]
  },
  {
   "cell_type": "markdown",
   "metadata": {
    "deletable": false,
    "editable": false,
    "run_control": {
     "frozen": true
    }
   },
   "source": [
    "<hr style=\"height:.9px;border:none;color:#333;background-color:#333;\" /><br>\n",
    "\n",
    "Run the following code to develop a regression tree model. Notice that it overfits to the training data as it was allowed to continue growing until it could not grow any further. "
   ]
  },
  {
   "cell_type": "code",
   "execution_count": null,
   "metadata": {
    "deletable": false,
    "editable": false
   },
   "outputs": [],
   "source": [
    "model_name = 'Unpruned Regression Tree'\n",
    "\n",
    "# INSTANTIATING a model object\n",
    "model = DecisionTreeRegressor(random_state = 702)\n",
    "\n",
    "\n",
    "# FITTING to the training data\n",
    "model_fit = model.fit(x_train, y_train)\n",
    "\n",
    "\n",
    "# PREDICTING on new data\n",
    "model_pred = model.predict(x_test)\n",
    "\n",
    "\n",
    "# SCORING the results\n",
    "model_train_score = model.score(x_train, y_train) # using R-square\n",
    "model_test_score  = model.score(x_test, y_test)   # using R-square\n",
    "model_gap         = abs(model_train_score - model_test_score)\n",
    "\n",
    "\n",
    "# displaying results\n",
    "print('Training Score :', model_train_score)\n",
    "print('Testing Score  :', model_test_score)\n",
    "print('Train-Test Gap :', model_gap)"
   ]
  },
  {
   "cell_type": "markdown",
   "metadata": {
    "deletable": false,
    "editable": false,
    "run_control": {
     "frozen": true
    }
   },
   "source": [
    "<hr style=\"height:.9px;border:none;color:#333;background-color:#333;\" /><br>\n",
    "<h4>a) Develop a new regression tree.</h4>\n",
    "Develop a regression tree with a maximum depth of 4 and a minimum number of samples per leaf of 25. The following help file may be useful in approaching this challenge."
   ]
  },
  {
   "cell_type": "code",
   "execution_count": null,
   "metadata": {
    "deletable": false,
    "editable": false
   },
   "outputs": [],
   "source": [
    "help(DecisionTreeRegressor)"
   ]
  },
  {
   "cell_type": "markdown",
   "metadata": {
    "deletable": false,
    "editable": false,
    "run_control": {
     "frozen": true
    }
   },
   "source": [
    "<br>"
   ]
  },
  {
   "cell_type": "code",
   "execution_count": null,
   "metadata": {
    "solution2": "hidden",
    "solution2_first": true
   },
   "outputs": [],
   "source": [
    "model_name = 'Pruned Regression Tree'\n",
    "\n",
    "# INSTANTIATING a model object - CHANGE THIS AS NEEDED\n",
    "model = DecisionTreeRegressor(_____,\n",
    "                              _____,\n",
    "                              _____)\n",
    "\n",
    "\n",
    "# FITTING to the training data\n",
    "model_fit = model.fit(x_train, y_train)\n",
    "\n",
    "\n",
    "# PREDICTING on new data\n",
    "model_pred = model.predict(x_test)\n",
    "\n",
    "\n",
    "# SCORING the results\n",
    "model_train_score = model.score(x_train, y_train).round(4) # using R-square\n",
    "model_test_score  = model.score(x_test, y_test).round(4)   # using R-square\n",
    "model_gap         = abs(model_train_score - model_test_score).round(4)\n",
    "\n",
    "\n",
    "# displaying results\n",
    "print('Training Score :', model_train_score)\n",
    "print('Testing Score  :', model_test_score)\n",
    "print('Train-Test Gap :', model_gap)"
   ]
  },
  {
   "cell_type": "code",
   "execution_count": null,
   "metadata": {
    "deletable": false,
    "editable": false,
    "solution2": "hidden"
   },
   "outputs": [],
   "source": [
    "model_name = 'Pruned Regression Tree'\n",
    "\n",
    "# INSTANTIATING a model object - CHANGE THIS AS NEEDED\n",
    "model = DecisionTreeRegressor(max_depth        = 4,\n",
    "                              min_samples_leaf = 25,\n",
    "                              random_state     = 702)\n",
    "\n",
    "\n",
    "# FITTING to the training data\n",
    "model_fit = model.fit(x_train, y_train)\n",
    "\n",
    "\n",
    "# PREDICTING on new data\n",
    "model_pred = model.predict(x_test)\n",
    "\n",
    "\n",
    "# SCORING the results\n",
    "model_train_score = model.score(x_train, y_train) # using R-square\n",
    "model_test_score  = model.score(x_test, y_test)   # using R-square\n",
    "model_gap         = abs(model_train_score - model_test_score)\n",
    "\n",
    "\n",
    "# displaying results\n",
    "print('Training Score :', model_train_score)\n",
    "print('Testing Score  :', model_test_score)\n",
    "print('Train-Test Gap :', model_gap)"
   ]
  },
  {
   "cell_type": "markdown",
   "metadata": {
    "deletable": false,
    "editable": false,
    "run_control": {
     "frozen": true
    }
   },
   "source": [
    "<br>"
   ]
  },
  {
   "cell_type": "code",
   "execution_count": null,
   "metadata": {
    "deletable": false,
    "editable": false,
    "scrolled": false
   },
   "outputs": [],
   "source": [
    "# setting figure size\n",
    "plt.figure(figsize=(50, 10)) # adjusting to better fit the visual\n",
    "\n",
    "\n",
    "# developing a plotted tree\n",
    "plot_tree(decision_tree = model, # changing to pruned_tree_fit\n",
    "          feature_names = x_train.columns,\n",
    "          filled        = True, \n",
    "          rounded       = True, \n",
    "          fontsize      = 14)\n",
    "\n",
    "\n",
    "# rendering the plot\n",
    "plt.show()"
   ]
  },
  {
   "cell_type": "markdown",
   "metadata": {
    "deletable": false,
    "editable": false,
    "run_control": {
     "frozen": true
    }
   },
   "source": [
    "<hr style=\"height:.9px;border:none;color:#333;background-color:#333;\" /><br>\n",
    "\n",
    "CART models have an amazing tool to help evaluate feature performance. This tool, known as <strong>feature importance</strong>, informs as to how \"important\" each feature is in terms of splitting the data into nodes. Run the user-defined function below to see the results of this tool."
   ]
  },
  {
   "cell_type": "code",
   "execution_count": null,
   "metadata": {
    "deletable": false,
    "editable": false
   },
   "outputs": [],
   "source": [
    "# plotting feature importance\n",
    "plot_feature_importances(model,\n",
    "                         train = x_train,\n",
    "                         export = False)"
   ]
  },
  {
   "cell_type": "markdown",
   "metadata": {
    "deletable": false,
    "editable": false,
    "run_control": {
     "frozen": true
    }
   },
   "source": [
    "<br>"
   ]
  },
  {
   "cell_type": "markdown",
   "metadata": {
    "deletable": false,
    "editable": false,
    "run_control": {
     "frozen": true
    }
   },
   "source": [
    "<hr style=\"height:.9px;border:none;color:#333;background-color:#333;\" />\n",
    "<hr style=\"height:.9px;border:none;color:#333;background-color:#333;\" /><br>\n",
    "\n",
    "~~~\n",
    "      ___  ___  __                 \n",
    "|__/ |__  |__  |__)                \n",
    "|  \\ |___ |___ |                   \n",
    "                                   \n",
    " __   __   __               __    /\n",
    "/ _` |__) /  \\ |  | | |\\ | / _`  / \n",
    "\\__> |  \\ \\__/ |/\\| | | \\| \\__> .  \n",
    "\n",
    "\n",
    "\n",
    "~~~\n",
    "\n",
    "<hr style=\"height:.9px;border:none;color:#333;background-color:#333;\" />\n",
    "<hr style=\"height:.9px;border:none;color:#333;background-color:#333;\" />"
   ]
  },
  {
   "cell_type": "markdown",
   "metadata": {
    "deletable": false,
    "editable": false,
    "run_control": {
     "frozen": true
    }
   },
   "source": [
    "<br>"
   ]
  }
 ],
 "metadata": {
  "kernelspec": {
   "display_name": "Python 3 (ipykernel)",
   "language": "python",
   "name": "python3"
  },
  "language_info": {
   "codemirror_mode": {
    "name": "ipython",
    "version": 3
   },
   "file_extension": ".py",
   "mimetype": "text/x-python",
   "name": "python",
   "nbconvert_exporter": "python",
   "pygments_lexer": "ipython3",
   "version": "3.12.11"
  },
  "toc": {
   "base_numbering": 1,
   "nav_menu": {},
   "number_sections": false,
   "sideBar": true,
   "skip_h1_title": false,
   "title_cell": "Table of Contents",
   "title_sidebar": "Contents",
   "toc_cell": false,
   "toc_position": {
    "height": "calc(100% - 180px)",
    "left": "10px",
    "top": "150px",
    "width": "288px"
   },
   "toc_section_display": true,
   "toc_window_display": false
  },
  "varInspector": {
   "cols": {
    "lenName": 16,
    "lenType": 16,
    "lenVar": 40
   },
   "kernels_config": {
    "python": {
     "delete_cmd_postfix": "",
     "delete_cmd_prefix": "del ",
     "library": "var_list.py",
     "varRefreshCmd": "print(var_dic_list())"
    },
    "r": {
     "delete_cmd_postfix": ") ",
     "delete_cmd_prefix": "rm(",
     "library": "var_list.r",
     "varRefreshCmd": "cat(var_dic_list()) "
    }
   },
   "types_to_exclude": [
    "module",
    "function",
    "builtin_function_or_method",
    "instance",
    "_Feature"
   ],
   "window_display": false
  }
 },
 "nbformat": 4,
 "nbformat_minor": 2
}
