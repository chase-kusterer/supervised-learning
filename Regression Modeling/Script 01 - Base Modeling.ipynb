{
 "cells": [
  {
   "cell_type": "markdown",
   "metadata": {
    "deletable": false,
    "editable": false,
    "run_control": {
     "frozen": true
    }
   },
   "source": [
    "<hr style=\"height:.9px;border:none;color:#333;background-color:#333;\" />\n",
    "<hr style=\"height:.9px;border:none;color:#333;background-color:#333;\" />\n",
    "\n",
    "<br><h2>Script 01 | Base Modeling</h2>\n",
    "<br>\n",
    "Written by Chase Kusterer<br>\n",
    "<a href=\"https://github.com/chase-kusterer\">GitHub</a> | <a href=\"https://www.linkedin.com/in/kusterer/\">LinkedIn</a>\n",
    "<br><br><br>\n",
    "\n",
    "<hr style=\"height:.9px;border:none;color:#333;background-color:#333;\" />\n",
    "<hr style=\"height:.9px;border:none;color:#333;background-color:#333;\" />\n",
    "\n",
    "<br><br>\n",
    "In this script, we will:\n",
    "\n",
    "* Refresh our knowledge of Python and important analytical concepts.\n",
    "* Develop a base model using continuous features from the Ames Housing dataset.\n",
    "\n",
    "<br>\n",
    "<h3>What is Predictive Modeling?</h3><br>\n",
    "Base modeling is a form of <strong>predictive modeling</strong>. A straightforward definition of predictive modeling can be found in <a href=\"https://towardsdatascience.com/selecting-the-correct-predictive-modeling-technique-ba459c370d59\">this article from Towards Data Science</a>:\n",
    "<br><br>\n",
    "\n",
    "<div align=\"center\">\n",
    "    Predictive modeling is the process of taking known results and developing<br>a model that can predict values for new occurrences.\n",
    "    \n",
    "<a class=\"tocSkip\"></a></div><br>\n",
    "In other words, predictive modeling is the process of using historic data to estimate the values of unknown observations. The keyword in this definition is estimate. Predictive modeling is all about developing our \"best guess\" given all available information. <font style=color:red><strong>Predictive modeling is NOT about being right. It is about being less wrong.</strong></font>\n",
    "<a class=\"tocSkip\"></a></div>\n",
    "<br><br><br>\n",
    "<hr style=\"height:.9px;border:none;color:#333;background-color:#333;\" /><br>"
   ]
  },
  {
   "cell_type": "markdown",
   "metadata": {
    "deletable": false,
    "editable": false,
    "run_control": {
     "frozen": true
    }
   },
   "source": [
    "<h2>Part I: Imports and Path</h2><br>\n",
    "\n",
    "<strong>a) Import the following packages:</strong>\n",
    "* pandas (as pd)\n",
    "* seaborn (as sns)\n",
    "* matplotlib.pyplot (as plt)\n",
    "\n",
    "Then, import <em>ames_continuous</em> dataset using pd.read_excel()."
   ]
  },
  {
   "cell_type": "code",
   "execution_count": null,
   "metadata": {
    "solution2": "hidden",
    "solution2_first": true
   },
   "outputs": [],
   "source": [
    "# importing libraries\n",
    "_____ pandas _____ pd       # data science essentials\n",
    "import matplotlib.pyplot as _____       # essential graphical output\n",
    "import _____ as sns       # enhanced graphical output\n",
    "from os import listdir                # NEW! paths and directories\n",
    "import statsmodels.formula.api as smf # NEW! model building\n",
    "\n",
    "# setting pandas print options\n",
    "pd.set_option('display.max_rows', 500)\n",
    "pd.set_option('display.max_columns', 500)\n",
    "pd.set_option('display.width', 1000)\n",
    "\n",
    "\n",
    "# specifying file name\n",
    "file = './____/ames_continuous.xlsx'\n",
    "\n",
    "\n",
    "# reading the file into Python\n",
    "housing = _____\n",
    "\n",
    "\n",
    "# outputting the first ten rows of the dataset\n",
    "housing._____"
   ]
  },
  {
   "cell_type": "code",
   "execution_count": null,
   "metadata": {
    "deletable": false,
    "editable": false,
    "solution2": "hidden"
   },
   "outputs": [],
   "source": [
    "# importing libraries\n",
    "import pandas as pd                   # data science essentials\n",
    "import matplotlib.pyplot as plt       # essential graphical output\n",
    "import seaborn as sns                 # enhanced graphical output\n",
    "from os import listdir                # NEW! paths and directories\n",
    "import statsmodels.formula.api as smf # NEW! model building\n",
    "\n",
    "# setting pandas print options\n",
    "pd.set_option('display.max_rows', 500)\n",
    "pd.set_option('display.max_columns', 500)\n",
    "pd.set_option('display.width', 1000)\n",
    "\n",
    "\n",
    "# specifying file name\n",
    "file = './datasets/ames_continuous.xlsx'\n",
    "\n",
    "\n",
    "# reading the file into Python\n",
    "housing = pd.read_excel(io = file)\n",
    "\n",
    "\n",
    "# outputting the first ten rows of the dataset\n",
    "housing.head(n = 10)"
   ]
  },
  {
   "cell_type": "markdown",
   "metadata": {
    "deletable": false,
    "editable": false,
    "run_control": {
     "frozen": true
    }
   },
   "source": [
    "<hr style=\"height:.9px;border:none;color:#333;background-color:#333;\" /><br>\n",
    "\n",
    "<h3>Breaking Down the Path</h3><br>\n",
    "There is tremendous value in understanding the path structure your computer uses to find things. Such knowledge is transferable across a wide variety of technical applications. Our current path is as follows:\n",
    "<br><br>\n",
    "\n",
    "~~~\n",
    "./datasets/ames_continuous.xlsx\n",
    "~~~\n",
    "\n",
    "<br><br>\n",
    "The syntax of this path can be interpreted as follows:\n",
    "<br><br>\n",
    "\n",
    "~~~\n",
    "[FOLDER WHERE THIS NOTEBOOK IS] / [FOLDER WHERE THE DATASET IS] / [EXCEL FILE NAME].xlsx\n",
    "~~~\n",
    "\n",
    "<br><br>\n",
    "If we were to write the path in human language, it would appear as follows:\n",
    "<br><br><br>\n",
    "\n",
    "~~~\n",
    "Start in the folder where this Notebook is located...\n",
    "\n",
    "\\ and then\n",
    "\n",
    "Navigate into the folder named \"datasets\", which is located in the same place as this Notebook... \n",
    "\n",
    "\\ and then\n",
    "\n",
    "Select the file named \"ames_continuous.xlsx\"\n",
    "\n",
    "~~~\n",
    "\n",
    "<br><br>\n",
    "The contents of each part of the directory can be observed with the help of the <a href=\"https://docs.python.org/3/library/os.html#os.listdir\">list directory method</a> coming from <a href=\"https://docs.python.org/3/library/os.html\">the os package</a>."
   ]
  },
  {
   "cell_type": "code",
   "execution_count": null,
   "metadata": {
    "deletable": false,
    "editable": false
   },
   "outputs": [],
   "source": [
    "# calling help on listdir (from the os package)\n",
    "help(listdir)"
   ]
  },
  {
   "cell_type": "markdown",
   "metadata": {
    "deletable": false,
    "editable": false,
    "run_control": {
     "frozen": true
    }
   },
   "source": [
    "<br>"
   ]
  },
  {
   "cell_type": "code",
   "execution_count": null,
   "metadata": {
    "deletable": false,
    "editable": false
   },
   "outputs": [],
   "source": [
    "# everything in this Notebook's folder (current directory)\n",
    "for item in listdir(path=\".\"): # one dot\n",
    "    print(item)"
   ]
  },
  {
   "cell_type": "markdown",
   "metadata": {
    "deletable": false,
    "editable": false,
    "run_control": {
     "frozen": true
    }
   },
   "source": [
    "<br>"
   ]
  },
  {
   "cell_type": "code",
   "execution_count": null,
   "metadata": {
    "deletable": false,
    "editable": false
   },
   "outputs": [],
   "source": [
    "# going backwards in the path (parent directory)\n",
    "for item in listdir(path=\"..\"): # two dots\n",
    "    print(item)"
   ]
  },
  {
   "cell_type": "markdown",
   "metadata": {
    "deletable": false,
    "editable": false,
    "run_control": {
     "frozen": true
    }
   },
   "source": [
    "<br>"
   ]
  },
  {
   "cell_type": "code",
   "execution_count": null,
   "metadata": {
    "deletable": false,
    "editable": false
   },
   "outputs": [],
   "source": [
    "# checking what's in the datasets folder\n",
    "for item in listdir(path=\"./datasets\"): # ./[folder name]\n",
    "    print(item)"
   ]
  },
  {
   "cell_type": "markdown",
   "metadata": {
    "deletable": false,
    "editable": false,
    "run_control": {
     "frozen": true
    }
   },
   "source": [
    "<hr style=\"height:.9px;border:none;color:#333;background-color:#333;\" /><br>\n",
    "\n",
    "<h4>b) Navigate to the <em>script_images</em> folder.</h4>"
   ]
  },
  {
   "cell_type": "code",
   "execution_count": null,
   "metadata": {
    "solution2": "hidden",
    "solution2_first": true
   },
   "outputs": [],
   "source": [
    "# printing all files in the script images directory\n",
    "_____"
   ]
  },
  {
   "cell_type": "code",
   "execution_count": null,
   "metadata": {
    "deletable": false,
    "editable": false,
    "solution2": "hidden"
   },
   "outputs": [],
   "source": [
    "# printing all files in the script images directory\n",
    "for item in listdir(path=\"./script_images\"): # into datasets folder\n",
    "    print(item)"
   ]
  },
  {
   "cell_type": "markdown",
   "metadata": {
    "deletable": false,
    "editable": false,
    "run_control": {
     "frozen": true
    }
   },
   "source": [
    "<hr style=\"height:.9px;border:none;color:#333;background-color:#333;\" /><br>\n",
    "\n",
    "It looks like there's a .gif in this folder. Let's check it out!\n",
    "\n",
    "<h4>c) Complete the code and copy/paste it into the markdown cell below.</h4><br>\n",
    "\n",
    "~~~\n",
    "![dude_gif](./script_images/_____._____)\n",
    "~~~\n"
   ]
  },
  {
   "cell_type": "markdown",
   "metadata": {
    "solution2": "hidden",
    "solution2_first": true
   },
   "source": [
    "~~~\n",
    "--------------------------------------\n",
    " CLICK HERE TO OPEN THE MARKDOWN CELL \n",
    "--------------------------------------\n",
    "~~~"
   ]
  },
  {
   "cell_type": "markdown",
   "metadata": {
    "deletable": false,
    "editable": false,
    "run_control": {
     "frozen": true
    },
    "solution2": "hidden"
   },
   "source": [
    "![dude_gif](./script_images/dude_wheres_my_car.gif)"
   ]
  },
  {
   "cell_type": "markdown",
   "metadata": {
    "deletable": false,
    "editable": false,
    "run_control": {
     "frozen": true
    }
   },
   "source": [
    "<hr style=\"height:.9px;border:none;color:#333;background-color:#333;\" /><br>\n",
    "\n",
    "<h2>Part II: Initial Exploration of the Dataset</h2><br>\n",
    "\n",
    "<h4>a) How many observations (rows) are present in the dataset? How many features (columns)?</h4><br>\n",
    "Use the following code to complete the formatted string (an f-string) that prints the number of observations and the number of features."
   ]
  },
  {
   "cell_type": "code",
   "execution_count": null,
   "metadata": {
    "deletable": false,
    "editable": false
   },
   "outputs": [],
   "source": [
    "# formatting and printing the dimensions of the dataset\n",
    "print(f\"\"\"\n",
    "Size of Original Dataset\n",
    "------------------------\n",
    "Observations (rows): {housing.shape[0]}\n",
    "Features (columns) : {housing.shape[1]}\n",
    "\"\"\")"
   ]
  },
  {
   "cell_type": "markdown",
   "metadata": {
    "deletable": false,
    "editable": false,
    "run_control": {
     "frozen": true
    }
   },
   "source": [
    "<hr style=\"height:.9px;border:none;color:#333;background-color:#333;\" /><br>\n",
    "\n",
    "<h4>b) Access general information about each feature, including data types and the number of non-missing values.</h4>"
   ]
  },
  {
   "cell_type": "code",
   "execution_count": null,
   "metadata": {
    "deletable": false,
    "editable": false
   },
   "outputs": [],
   "source": [
    "# INFOrmation about each variable\n",
    "housing.info(verbose = True)"
   ]
  },
  {
   "cell_type": "markdown",
   "metadata": {
    "deletable": false,
    "editable": false,
    "run_control": {
     "frozen": true
    }
   },
   "source": [
    "<hr style=\"height:.9px;border:none;color:#333;background-color:#333;\" /><br>\n",
    "The dataset has missing values. This is definitely something of interest that we will take care of in a later script.<br><br>\n",
    "<hr style=\"height:.9px;border:none;color:#333;background-color:#333;\" /><br>\n",
    "<h3>Analyzing the Distribution of Sale Prices</h3><br>\n",
    "Notice how the Y-variable (<em>&nbsp;Sale_Price&nbsp;</em>) is encoded as an integer as it does not contain decimal places. While this is common in real estate pricing, it introduces a violation of continuity, which is important for predictive models like linear regression. A truly continuous variable should, in theory, have an infinite range and have an infinite number of decimal places. Our Y-variable violates does not meet either condition. However, we must keep in mind that statistics and real-world applications are expected to have a certain degree of misalignment.\n",
    "<br><br>\n",
    "This is one of the many reasons that we do not expect our predictions to be perfect (for example, our predicted sale prices will have decimal places). We do, however, expect to develop a general understanding as to what features affect the sale price of a house in Ames, Iowa. The word <em>general</em> is important as base models are often built using one of several <a href=\"https://en.wikipedia.org/wiki/Generalized_linear_model\">generalized linear models</a>.\n",
    "<br><br>\n",
    "Note that a <strong>y-variable</strong> is often referred to as a <strong>response variable</strong> or a <strong>dependent variable</strong>. Think of this in terms of the following:<br>\n",
    "\n",
    "* Question: How much is the sale price of a home in Ames, Iowa?<br>\n",
    "* <strong>Response</strong>: Well, it <strong>depends</strong> on the features of each house.\n",
    "\n",
    "<br>\n",
    "Additional names for the X- and y-variables can be found in <a href=\"https://www.statsmodels.org/stable/endog_exog.html\">the User Guide for statsmodels</a>.\n",
    "<br><br>\n",
    "Next, we will use a histogram to visualize <em>Sale_Price</em>. We are hoping to find a normal distribution that is symmetrical. Symmetry is important for modeling with straight lines, as in linear regression.\n",
    "<br>\n",
    "<hr style=\"height:.9px;border:none;color:#333;background-color:#333;\" />\n",
    "<br>\n",
    "<h4>e) Develop a histogram to analyze the distribution of the Y-variable.</h4><br>\n",
    "Does it look as if this variable is normally distributed? Does it appear to be skewed positive or negative? The following help(&nbsp;) file may be useful in completing this task."
   ]
  },
  {
   "cell_type": "code",
   "execution_count": null,
   "metadata": {
    "deletable": false,
    "editable": false
   },
   "outputs": [],
   "source": [
    "# documentation for making histograms with seaborn\n",
    "help(sns.histplot)"
   ]
  },
  {
   "cell_type": "markdown",
   "metadata": {
    "deletable": false,
    "editable": false,
    "run_control": {
     "frozen": true
    }
   },
   "source": [
    "<br>"
   ]
  },
  {
   "cell_type": "code",
   "execution_count": null,
   "metadata": {
    "solution2": "hidden",
    "solution2_first": true
   },
   "outputs": [],
   "source": [
    "# developing a histogram using HISTPLOT\n",
    "sns.____(data  = ____,\n",
    "         x     = ____,\n",
    "         kde   = True)\n",
    "\n",
    "\n",
    "# title and axis labels\n",
    "plt.title(label   = \"Distribution of Housing Sale Prices\")\n",
    "plt.xlabel(xlabel = \"Sale Price\") # avoiding using dataset labels\n",
    "plt.ylabel(ylabel = \"Count\")\n",
    "\n",
    "\n",
    "# displaying the histogram\n",
    "____.____()"
   ]
  },
  {
   "cell_type": "code",
   "execution_count": null,
   "metadata": {
    "deletable": false,
    "editable": false,
    "solution2": "hidden"
   },
   "outputs": [],
   "source": [
    "# developing a histogram using HISTPLOT\n",
    "sns.histplot(data   = housing,\n",
    "             x      = 'Sale_Price',\n",
    "             kde    = True)\n",
    "\n",
    "\n",
    "# title and axis labels\n",
    "plt.title(label   = \"Distribution of Housing Sale Prices\")\n",
    "plt.xlabel(xlabel = \"Sale Price\") # avoiding using dataset labels\n",
    "plt.ylabel(ylabel = \"Count\")\n",
    "\n",
    "# displaying the histogram\n",
    "plt.show()"
   ]
  },
  {
   "cell_type": "markdown",
   "metadata": {
    "deletable": false,
    "editable": false,
    "run_control": {
     "frozen": true
    }
   },
   "source": [
    "<br>\n",
    "As can be observed from the histogram above, sale prices are skewed positive. This also something of interest that we will take care of in a later script. For now, let's move forward as the distribution of sale prices appear to be relatively normal. \n",
    "\n",
    "<h4>a) Complete the code below to generate descriptive statistics, rounded to two decimal places.</h4>"
   ]
  },
  {
   "cell_type": "code",
   "execution_count": null,
   "metadata": {
    "solution2": "hidden",
    "solution2_first": true
   },
   "outputs": [],
   "source": [
    "# descriptive statistics for numeric data\n",
    "housing_stats = housing.iloc[ :, 1: ]._____(include = 'number')._____\n",
    "\n",
    "\n",
    "# checking results\n",
    "housing_stats"
   ]
  },
  {
   "cell_type": "code",
   "execution_count": null,
   "metadata": {
    "deletable": false,
    "editable": false,
    "solution2": "hidden"
   },
   "outputs": [],
   "source": [
    "# descriptive statistics for numeric data\n",
    "housing_stats = housing.describe(include = 'number').round(decimals = 2)\n",
    "\n",
    "\n",
    "# checking results\n",
    "housing_stats"
   ]
  },
  {
   "cell_type": "markdown",
   "metadata": {
    "deletable": false,
    "editable": false,
    "run_control": {
     "frozen": true
    }
   },
   "source": [
    "<hr style=\"height:.9px;border:none;color:#333;background-color:#333;\" /><br>\n",
    "\n",
    "Let's subset the results to focus on the distributions of each feature."
   ]
  },
  {
   "cell_type": "code",
   "execution_count": null,
   "metadata": {
    "deletable": false,
    "editable": false
   },
   "outputs": [],
   "source": [
    "# analyzing feature distributions\n",
    "housing_stats.iloc[ 3:, : ].round(decimals = -2) # negative rounding"
   ]
  },
  {
   "cell_type": "markdown",
   "metadata": {
    "deletable": false,
    "editable": false,
    "run_control": {
     "frozen": true
    }
   },
   "source": [
    "<br>\n",
    "\n",
    "Everything is looking good with the exception of pool areas (&nbsp;<em>Pool_Area</em>&nbsp;). The dataset might not have enough houses with pools for this feature to be useful in base modeling.\n",
    "\n",
    "<h4>b) Create a frequency table for <em>Pool_Area</em> using value_counts(&nbsp;).</h4>"
   ]
  },
  {
   "cell_type": "code",
   "execution_count": null,
   "metadata": {
    "solution2": "hidden",
    "solution2_first": true
   },
   "outputs": [],
   "source": [
    "# frequency table for Pool_Area\n",
    "_____"
   ]
  },
  {
   "cell_type": "code",
   "execution_count": null,
   "metadata": {
    "deletable": false,
    "editable": false,
    "solution2": "hidden"
   },
   "outputs": [],
   "source": [
    "# frequency table for Pool_Area\n",
    "housing['Pool_Area'].value_counts()"
   ]
  },
  {
   "cell_type": "markdown",
   "metadata": {
    "deletable": false,
    "editable": false,
    "run_control": {
     "frozen": true
    }
   },
   "source": [
    "<hr style=\"height:.9px;border:none;color:#333;background-color:#333;\" /><br>\n",
    "<strong>c) Modify the code to show:</strong>\n",
    "    \n",
    "* True if a pool area is greater than zero.\n",
    "* False if a pool area is equal to zero."
   ]
  },
  {
   "cell_type": "code",
   "execution_count": null,
   "metadata": {
    "solution2": "hidden",
    "solution2_first": true
   },
   "outputs": [],
   "source": [
    "# house has pool True or False\n"
   ]
  },
  {
   "cell_type": "code",
   "execution_count": null,
   "metadata": {
    "deletable": false,
    "editable": false,
    "solution2": "hidden"
   },
   "outputs": [],
   "source": [
    "# house has pool True or False\n",
    "(housing['Pool_Area'] > 0).value_counts(sort      = True,\n",
    "                                        ascending = True)"
   ]
  },
  {
   "cell_type": "markdown",
   "metadata": {
    "deletable": false,
    "editable": false,
    "run_control": {
     "frozen": true
    }
   },
   "source": [
    "<hr style=\"height:.9px;border:none;color:#333;background-color:#333;\" /><br>\n",
    "\n",
    "There aren't enough houses with pools in the dataset. Thus, we will need to drop <em>Pool_Area</em> until more data is collected. This is also a good time to drop <em>property_id</em> as it does not serve an analytical purpose in our situation."
   ]
  },
  {
   "cell_type": "code",
   "execution_count": null,
   "metadata": {
    "deletable": false,
    "editable": false
   },
   "outputs": [],
   "source": [
    "# dropping Order and Pool_Area\n",
    "housing.drop(columns = ['property_id', 'Pool_Area'],\n",
    "             axis    = 1,\n",
    "             inplace = True,\n",
    "             errors  = 'ignore')"
   ]
  },
  {
   "cell_type": "markdown",
   "metadata": {
    "deletable": false,
    "editable": false,
    "run_control": {
     "frozen": true
    }
   },
   "source": [
    "<br>"
   ]
  },
  {
   "cell_type": "code",
   "execution_count": null,
   "metadata": {
    "deletable": false,
    "editable": false
   },
   "outputs": [],
   "source": [
    "# checking results\n",
    "housing.columns"
   ]
  },
  {
   "cell_type": "markdown",
   "metadata": {
    "deletable": false,
    "editable": false,
    "run_control": {
     "frozen": true
    }
   },
   "source": [
    "<hr style=\"height:.9px;border:none;color:#333;background-color:#333;\" /><br>\n",
    "<h2>Part III: Base Modeling</h2><br>\n",
    "It's time to develop a base model. Base models are very important as they:\n",
    "\n",
    "* Allow us to confirm our original (base) data, assumptions, and domain knowledge. Think of this as a common sense test. If the findings from our base model don't make sense, we likely need new data, different assumptions about the relationships between our features, or better domain knowledge before moving forward.\n",
    "* Provide a benchmark to compare to more complex models. Additionally, as models get more complex, they tend to get less interpretable and even harder to take action from.\n",
    "* Are built with features that follow the assumptions of the type of model we are using. This will be discussed in more detail in class.\n",
    "\n",
    "<br>\n",
    "Base modeling will also help us understand the value of the analytical techniques covered throughout this course (missing value analysis, feature engineering, etc.). To get started, let's analyze the linear correlations between our <em>Sale_Price</em> and our X-features. This will help us find good X-candidates for our model.\n",
    "<br>\n",
    "<h4>a) Complete the code below and analyze the correlations with <em>Sale_Price</em>.</h4>"
   ]
  },
  {
   "cell_type": "code",
   "execution_count": null,
   "metadata": {
    "solution2": "hidden",
    "solution2_first": true
   },
   "outputs": [],
   "source": [
    "# developing a correlation matrix\n",
    "housing_corr = housing.____(method = 'pearson')\n",
    "\n",
    "\n",
    "# filtering results to show correlations with Sale_Price\n",
    "housing_corr.loc[ : , ____].round(decimals = 2).sort_values(ascending = False)"
   ]
  },
  {
   "cell_type": "code",
   "execution_count": null,
   "metadata": {
    "deletable": false,
    "editable": false,
    "solution2": "hidden"
   },
   "outputs": [],
   "source": [
    "# developing a correlation matrix\n",
    "housing_corr = housing.corr(method = 'pearson')\n",
    "\n",
    "\n",
    "# filtering results to show correlations with Sale_Price\n",
    "housing_corr.loc[ : , 'Sale_Price'].round(decimals = 2).sort_values(ascending = False)"
   ]
  },
  {
   "cell_type": "markdown",
   "metadata": {
    "deletable": false,
    "editable": false,
    "run_control": {
     "frozen": true
    }
   },
   "source": [
    "<hr style=\"height:.9px;border:none;color:#333;background-color:#333;\" /><br>\n",
    "\n",
    "<h4>b) Develop a scatter plot between <em>Sale_Price</em> and the feature with the strongest correlation to <em>Sale_Price</em>.</h4>"
   ]
  },
  {
   "cell_type": "code",
   "execution_count": null,
   "metadata": {
    "solution2": "hidden",
    "solution2_first": true
   },
   "outputs": [],
   "source": [
    "# setting figure size\n",
    "fig, ax = plt.subplots(figsize = (9, 6))\n",
    "\n",
    "\n",
    "# developing a scatterplot\n",
    "sns.____(x    = ____,\n",
    "         y    = ____,\n",
    "         data = ____)\n",
    "\n",
    "\n",
    "# SHOWing the results\n",
    "____.____()"
   ]
  },
  {
   "cell_type": "code",
   "execution_count": null,
   "metadata": {
    "deletable": false,
    "editable": false,
    "solution2": "hidden"
   },
   "outputs": [],
   "source": [
    "# setting figure size\n",
    "fig, ax = plt.subplots(figsize = (9, 6))\n",
    "\n",
    "\n",
    "# developing a scatterplot\n",
    "sns.scatterplot(x    = 'Gr_Liv_Area',\n",
    "                y    = 'Sale_Price',\n",
    "                data = housing)\n",
    "\n",
    "\n",
    "# SHOWing the results\n",
    "plt.show()"
   ]
  },
  {
   "cell_type": "markdown",
   "metadata": {
    "deletable": false,
    "editable": false,
    "run_control": {
     "frozen": true
    }
   },
   "source": [
    "<hr style=\"height:.9px;border:none;color:#333;background-color:#333;\" /><br>\n",
    "\n",
    "<h3>Building A Base Model</h3><br>\n",
    "The following code has been provided for you. Its purpose is to provide a basic framework for developing a predictive model in Python using the <a href=\"https://www.statsmodels.org/stable/index.html\">statsmodels</a> package. Keep in mind that there are several techniques we can employ to make this model more optimal, which we will cover in our later sessions."
   ]
  },
  {
   "cell_type": "code",
   "execution_count": null,
   "metadata": {
    "deletable": false,
    "editable": false
   },
   "outputs": [],
   "source": [
    "## using the statsmodels package ##\n",
    "\n",
    "# Step 1: INSTANTIATE a model object\n",
    "lm_best = smf.ols(formula = \"\"\"Sale_Price ~ Gr_Liv_Area\"\"\",\n",
    "                  data = housing)\n",
    "\n",
    "\n",
    "# Step 2: FIT the data into the model object\n",
    "results = lm_best.fit()\n",
    "\n",
    "\n",
    "# Step 3: analyze the SUMMARY output\n",
    "print(results.summary())"
   ]
  },
  {
   "cell_type": "markdown",
   "metadata": {
    "deletable": false,
    "editable": false,
    "run_control": {
     "frozen": true
    }
   },
   "source": [
    "<hr style=\"height:.9px;border:none;color:#333;background-color:#333;\" /><br>\n",
    "<h2>Challenge</h2>\n",
    "\n",
    "<h4>Develop an optimal base model using more than one x-feature.</h4><br>\n",
    "Your task is to find the combination of X-features that maximizes adjusted R-squared, where all coefficients have p-values of $\\leq$ 0.05.\n",
    "<br><br><br>\n",
    "<strong><u>Tips</u></strong>\n",
    "\n",
    "* A common approach is to start with all of the X-features in the model and remove insignificant ones one at a time (also known as backward selection).\n",
    "* If a feature is removed from a model, expect the p-values for other features to change. Try not to remove too many at a time and test out different combinations."
   ]
  },
  {
   "cell_type": "code",
   "execution_count": null,
   "metadata": {
    "solution2": "hidden",
    "solution2_first": true
   },
   "outputs": [],
   "source": [
    "# Step 1: INSTANTIATE a model object\n",
    "lm_best = smf.ols(formula =  \"\"\"Sale_Price ~ ____ +\n",
    "                                             ____ +\"\"\",\n",
    "                                data = housing)\n",
    "\n",
    "\n",
    "# Step 2: FIT the data into the model object\n",
    "results = lm_best.fit()\n",
    "\n",
    "\n",
    "# Step 3: analyze the SUMMARY output\n",
    "print(results.summary())"
   ]
  },
  {
   "cell_type": "code",
   "execution_count": null,
   "metadata": {
    "deletable": false,
    "editable": false,
    "solution2": "hidden"
   },
   "outputs": [],
   "source": [
    "## Sample Solution ##\n",
    "\n",
    "# Step 1: INSTANTIATE a model object\n",
    "lm_best = smf.ols(formula =  \"\"\"Sale_Price ~ Mas_Vnr_Area  +\n",
    "                                             Total_Bsmt_SF +\n",
    "                                             First_Flr_SF  +\n",
    "                                             Second_Flr_SF +\n",
    "                                             Garage_Area   +\n",
    "                                             Porch_Area\"\"\",\n",
    "                                data = housing)\n",
    "\n",
    "\n",
    "# Step 2: FIT the data into the model object\n",
    "results = lm_best.fit()\n",
    "\n",
    "\n",
    "# Step 3: analyze the SUMMARY output\n",
    "print(results.summary())"
   ]
  },
  {
   "cell_type": "markdown",
   "metadata": {
    "deletable": false,
    "editable": false,
    "run_control": {
     "frozen": true
    }
   },
   "source": [
    "<hr style=\"height:.9px;border:none;color:#333;background-color:#333;\" />\n",
    "<hr style=\"height:.9px;border:none;color:#333;background-color:#333;\" /><br>\n",
    "<h2>Part IV: statsmodels OLS Study Sheet</h2><br>\n",
    "Below is a summary of the OLS regression output from statsmodels.\n",
    "<br>\n",
    "\n",
    "<br><br>\n",
    "<div style = \"width:image width px; font-size:80%; text-align:center;\">\n",
    "<br>\n",
    "<img src=\"./script_images/statsmodels_OLS_output_2.png\" width=\"800\" height=\"500\" style=\"padding-bottom:0.5em;\"><em>Figure 1a: statsmodels OLS Regression Output Study Sheet - Part I</em>\n",
    "<br><br><br><hr style=\"height:.9px;border:none;color:#333;background-color:#333;\" /><br><br>\n",
    "<img src=\"./script_images/statsmodels_OLS_output_3.png\" width=\"800\" height=\"500\" style=\"padding-bottom:0.5em;\"><em>Figure 1b: statsmodels OLS Regression Output Study Sheet - Part II</em>\n",
    "</div>"
   ]
  },
  {
   "cell_type": "markdown",
   "metadata": {
    "deletable": false,
    "editable": false,
    "run_control": {
     "frozen": true
    }
   },
   "source": [
    "<hr style=\"height:.9px;border:none;color:#333;background-color:#333;\" />\n",
    "<hr style=\"height:.9px;border:none;color:#333;background-color:#333;\" /><br>\n",
    "\n",
    "~~~\n",
    " _    _      _                          \n",
    "| |  | |    | |                         \n",
    "| |  | | ___| | ___ ___  _ __ ___   ___ \n",
    "| |/\\| |/ _ \\ |/ __/ _ \\| '_ ` _ \\ / _ \\\n",
    "\\  /\\  /  __/ | (_| (_) | | | | | |  __/\n",
    " \\/  \\/ \\___|_|\\___\\___/|_| |_| |_|\\___|\n",
    "                                        \n",
    "                                        \n",
    "______            _    _ _ _            \n",
    "| ___ \\          | |  | | | |           \n",
    "| |_/ / __ _  ___| | _| | | |           \n",
    "| ___ \\/ _` |/ __| |/ / | | |           \n",
    "| |_/ / (_| | (__|   <|_|_|_|           \n",
    "\\____/ \\__,_|\\___|_|\\_(_|_|_)           \n",
    "                                        \n",
    "~~~\n",
    "\n",
    "<br><br><hr style=\"height:.9px;border:none;color:#333;background-color:#333;\" />\n",
    "<hr style=\"height:.9px;border:none;color:#333;background-color:#333;\" />"
   ]
  },
  {
   "cell_type": "markdown",
   "metadata": {
    "deletable": false,
    "editable": false,
    "run_control": {
     "frozen": true
    }
   },
   "source": [
    "<br>"
   ]
  }
 ],
 "metadata": {
  "kernelspec": {
   "display_name": "Python 3 (ipykernel)",
   "language": "python",
   "name": "python3"
  },
  "language_info": {
   "codemirror_mode": {
    "name": "ipython",
    "version": 3
   },
   "file_extension": ".py",
   "mimetype": "text/x-python",
   "name": "python",
   "nbconvert_exporter": "python",
   "pygments_lexer": "ipython3",
   "version": "3.12.11"
  },
  "toc": {
   "base_numbering": 1,
   "nav_menu": {},
   "number_sections": false,
   "sideBar": true,
   "skip_h1_title": false,
   "title_cell": "Table of Contents",
   "title_sidebar": "Contents",
   "toc_cell": false,
   "toc_position": {},
   "toc_section_display": true,
   "toc_window_display": false
  },
  "varInspector": {
   "cols": {
    "lenName": 16,
    "lenType": 16,
    "lenVar": 40
   },
   "kernels_config": {
    "python": {
     "delete_cmd_postfix": "",
     "delete_cmd_prefix": "del ",
     "library": "var_list.py",
     "varRefreshCmd": "print(var_dic_list())"
    },
    "r": {
     "delete_cmd_postfix": ") ",
     "delete_cmd_prefix": "rm(",
     "library": "var_list.r",
     "varRefreshCmd": "cat(var_dic_list()) "
    }
   },
   "types_to_exclude": [
    "module",
    "function",
    "builtin_function_or_method",
    "instance",
    "_Feature"
   ],
   "window_display": false
  }
 },
 "nbformat": 4,
 "nbformat_minor": 2
}
