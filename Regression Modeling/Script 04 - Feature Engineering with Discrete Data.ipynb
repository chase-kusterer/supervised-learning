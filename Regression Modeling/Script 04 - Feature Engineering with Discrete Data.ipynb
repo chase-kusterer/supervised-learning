{
 "cells": [
  {
   "cell_type": "markdown",
   "metadata": {
    "deletable": false,
    "editable": false,
    "run_control": {
     "frozen": true
    }
   },
   "source": [
    "<hr style=\"height:.9px;border:none;color:#333;background-color:#333;\" />\n",
    "<hr style=\"height:.9px;border:none;color:#333;background-color:#333;\" />\n",
    "\n",
    "\n",
    "<br><h2>Script 04 | Feature Engineering with Discrete Data</h2>\n",
    "<br>\n",
    "Written by Chase Kusterer<br>\n",
    "<a href=\"https://github.com/chase-kusterer\">GitHub</a> | <a href=\"https://www.linkedin.com/in/kusterer/\">LinkedIn</a>\n",
    "<br><br><br>\n",
    "\n",
    "<hr style=\"height:.9px;border:none;color:#333;background-color:#333;\" />\n",
    "<hr style=\"height:.9px;border:none;color:#333;background-color:#333;\" />\n",
    "\n",
    "\n",
    "<br>\n",
    "\n",
    "~~~\n",
    "Where there is variance, there is value.\n",
    "    - Prof. Chase\n",
    "~~~\n",
    "\n",
    "<br>\n",
    "\n",
    "<hr style=\"height:.9px;border:none;color:#333;background-color:#333;\" />\n",
    "<hr style=\"height:.9px;border:none;color:#333;background-color:#333;\" />"
   ]
  },
  {
   "cell_type": "markdown",
   "metadata": {
    "deletable": false,
    "editable": false,
    "run_control": {
     "frozen": true
    }
   },
   "source": [
    "<h2>Part I: Working with Email Addresses</h2><br>\n",
    "\n",
    "In this script, we will use the <em>gender_guesser</em> package, which can be installed using the following code.\n",
    "<br>\n",
    "\n",
    "~~~\n",
    "\n",
    "%pip install gender_guesser\n",
    "\n",
    "\n",
    "~~~\n",
    "\n",
    "<strong>a)</strong> Remove the comment from the code below to install <em>gender_guesser</em>."
   ]
  },
  {
   "cell_type": "code",
   "execution_count": null,
   "metadata": {
    "solution2": "hidden",
    "solution2_first": true
   },
   "outputs": [],
   "source": [
    "#%pip install gender_guesser"
   ]
  },
  {
   "cell_type": "code",
   "execution_count": null,
   "metadata": {
    "deletable": false,
    "editable": false,
    "solution2": "hidden"
   },
   "outputs": [],
   "source": [
    "%pip install gender_guesser"
   ]
  },
  {
   "cell_type": "markdown",
   "metadata": {
    "deletable": false,
    "editable": false,
    "run_control": {
     "frozen": true
    }
   },
   "source": [
    "<hr style=\"height:.9px;border:none;color:#333;background-color:#333;\" /><br>\n",
    "<strong>b)</strong> Imports and Loading the Dataset<br>\n",
    "\n",
    "1. Import the following packages:\n",
    "    * random (as rand)\n",
    "    * pandas (as pd)\n",
    "\n",
    "<br>\n",
    "2. Load the <strong>friends.xlsx</strong> dataset into Python. The characters in this dataset come from the TV show <a href=\"https://en.wikipedia.org/wiki/List_of_Friends_and_Joey_characters\">Friends (Seasons 1 and 2)</a>.\n",
    "<br><br>\n",
    "<img src=\"./script_images/friends.png\" alt=\"friends\" width=\"600\">\n",
    "<br>\n",
    "\n",
    "\n"
   ]
  },
  {
   "cell_type": "code",
   "execution_count": null,
   "metadata": {
    "solution2": "hidden",
    "solution2_first": true
   },
   "outputs": [],
   "source": [
    "# importing libraries\n",
    "_____ # random number generation\n",
    "_____ # data science essentials\n",
    "\n",
    "\n",
    "# New! (may need to be downloaded)\n",
    "import gender_guesser.detector as gender # guess gender based on (given) name\n",
    "\n",
    "\n",
    "# setting random seed\n",
    "rand.seed(a = 327)\n",
    "\n",
    "\n",
    "# setting pandas print options\n",
    "pd.set_option('display.max_rows', 500)\n",
    "pd.set_option('display.max_columns', 500)\n",
    "pd.set_option('display.width', 1000)\n",
    "\n",
    "\n",
    "# specifying path and file name\n",
    "file = _____ \n",
    "\n",
    "\n",
    "# reading the file into Python\n",
    "friends_df = _____\n",
    "\n",
    "# checking the first 10 rows of the dataset\n",
    "friends_df.head(n = 10)"
   ]
  },
  {
   "cell_type": "code",
   "execution_count": null,
   "metadata": {
    "deletable": false,
    "editable": false,
    "solution2": "hidden"
   },
   "outputs": [],
   "source": [
    "# importing libraries\n",
    "import random as rand # random number generation\n",
    "import pandas as pd   # data science essentials\n",
    "\n",
    "\n",
    "# New! (may need to be downloaded)\n",
    "import gender_guesser.detector as gender # guess gender based on (given) name\n",
    "\n",
    "\n",
    "# setting random seed\n",
    "rand.seed(a = 327)\n",
    "\n",
    "\n",
    "# setting pandas print options\n",
    "pd.set_option('display.max_rows', 500)\n",
    "pd.set_option('display.max_columns', 500)\n",
    "pd.set_option('display.width', 1000)\n",
    "\n",
    "\n",
    "# specifying path and file name\n",
    "file = './datasets/friends.xlsx' \n",
    "\n",
    "\n",
    "# reading the file into Python\n",
    "friends_df = pd.read_excel(file)\n",
    "\n",
    "# checking the first 10 rows of the dataset\n",
    "friends_df.head(n = 10)"
   ]
  },
  {
   "cell_type": "markdown",
   "metadata": {
    "deletable": false,
    "editable": false,
    "run_control": {
     "frozen": true
    }
   },
   "source": [
    "<hr style=\"height:.9px;border:none;color:#333;background-color:#333;\" /><br>\n",
    "\n",
    "<strong>c)</strong> Complete the code to:\n",
    "\n",
    "1. Instantiate an empty list (<strong>email_lst</strong>)\n",
    "2. Loop over each email address, splitting it into two parts (username and domain).\n",
    "3. Append the results to <strong>email_lst</strong>.\n",
    "4. Store <strong>email_lst</strong> as a feature in the <strong>friends</strong> DataFrame.\n",
    "\n",
    "<br>\n",
    "The following help file may be useful in completing this challenge."
   ]
  },
  {
   "cell_type": "code",
   "execution_count": null,
   "metadata": {
    "deletable": false,
    "editable": false
   },
   "outputs": [],
   "source": [
    "# documentation for str.split\n",
    "help(str.split)"
   ]
  },
  {
   "cell_type": "markdown",
   "metadata": {
    "deletable": false,
    "editable": false,
    "run_control": {
     "frozen": true
    }
   },
   "source": [
    "<br>"
   ]
  },
  {
   "cell_type": "code",
   "execution_count": null,
   "metadata": {
    "solution2": "hidden",
    "solution2_first": true
   },
   "outputs": [],
   "source": [
    "## splitting personal emails ##\n",
    "\n",
    "# empty list for split emails\n",
    "email_lst = []\n",
    "\n",
    "\n",
    "# looping over each personal email address\n",
    "for email in friends_df['personal_email']:\n",
    "    \n",
    "    # splitting at '@'\n",
    "    split_email = _____.split(sep = _____)\n",
    "    \n",
    "    # appending email_lst with domain\n",
    "    email_lst._____(split_email[1])\n",
    "    \n",
    "\n",
    "# converting email_lst into a DataFrame \n",
    "friends_df['personal_email_domain'] = _____\n",
    "\n",
    "\n",
    "# checking the results\n",
    "friends_df.head(n = 5)"
   ]
  },
  {
   "cell_type": "code",
   "execution_count": null,
   "metadata": {
    "deletable": false,
    "editable": false,
    "solution2": "hidden"
   },
   "outputs": [],
   "source": [
    "## splitting personal emails ##\n",
    "\n",
    "# empty list for split emails\n",
    "email_lst = []\n",
    "\n",
    "\n",
    "# looping over each personal email address\n",
    "for email in friends_df['personal_email']:\n",
    "    \n",
    "    # splitting at '@'\n",
    "    split_email = email.split(sep = '@')\n",
    "    \n",
    "    # appending email_lst with domain\n",
    "    email_lst.append(split_email[1])\n",
    "    \n",
    "\n",
    "# converting email_lst into a DataFrame \n",
    "friends_df['personal_email_domain'] = email_lst\n",
    "\n",
    "\n",
    "# checking the results\n",
    "friends_df.head(n = 5)"
   ]
  },
  {
   "cell_type": "markdown",
   "metadata": {
    "deletable": false,
    "editable": false,
    "run_control": {
     "frozen": true
    }
   },
   "source": [
    "<hr style=\"height:.9px;border:none;color:#333;background-color:#333;\" /><br>\n",
    "\n",
    "<strong>d)</strong> Aggregate the email domains into two categories: personal and professional.\n",
    "<br><br>\n",
    "Now that we have a feature for email domains, let's go one step further to <strong>aggregate</strong> them into categories. This can help alleviate issues when some categories have small sample sizes."
   ]
  },
  {
   "cell_type": "code",
   "execution_count": null,
   "metadata": {
    "solution2": "hidden",
    "solution2_first": true
   },
   "outputs": [],
   "source": [
    "# email domain types\n",
    "personal_email_domains = ['@gmail.com', '@qq.com']\n",
    "student_email_domains  = ['@student.hult.edu']\n",
    "\n",
    "\n",
    "# empty list for domain categories\n",
    "domain_lst = _____\n",
    "\n",
    "\n",
    "# looping to group observations by domain type\n",
    "for domain in friends_df['personal_email_domain']:\n",
    "    \n",
    "    # personal category\n",
    "    if _____:\n",
    "        domain_lst.append('personal')\n",
    "        \n",
    "\n",
    "    # student category\n",
    "    elif _____:\n",
    "        domain_lst.append('student')\n",
    "\n",
    "\n",
    "    # everything else\n",
    "    else:\n",
    "        print('Unknown email domain.')\n",
    "\n",
    "\n",
    "# concatenating with original DataFrame\n",
    "friends_df['domain_group'] = _____\n",
    "\n",
    "\n",
    "# checking results\n",
    "friends_df['domain_group'].value_counts()"
   ]
  },
  {
   "cell_type": "code",
   "execution_count": null,
   "metadata": {
    "deletable": false,
    "editable": false,
    "solution2": "hidden"
   },
   "outputs": [],
   "source": [
    "# email domain types\n",
    "personal_email_domains = ['@gmail.com', '@qq.com']\n",
    "student_email_domains  = ['@student.hult.edu']\n",
    "\n",
    "\n",
    "# empty list for domain categories\n",
    "domain_lst = []\n",
    "\n",
    "\n",
    "# looping to group observations by domain type\n",
    "for domain in friends_df['personal_email_domain']:\n",
    "    \n",
    "    # personal category\n",
    "    if '@' + domain in personal_email_domains:\n",
    "        domain_lst.append('personal')\n",
    "        \n",
    "\n",
    "    # student category\n",
    "    elif '@' + domain in student_email_domains:\n",
    "        domain_lst.append('student')\n",
    "\n",
    "\n",
    "    # everything else\n",
    "    else:\n",
    "        print('Unknown email domain.')\n",
    "\n",
    "\n",
    "# concatenating with original DataFrame\n",
    "friends_df['domain_group'] = domain_lst\n",
    "\n",
    "\n",
    "# checking results\n",
    "friends_df['domain_group'].value_counts()"
   ]
  },
  {
   "cell_type": "markdown",
   "metadata": {
    "deletable": false,
    "editable": false,
    "run_control": {
     "frozen": true
    }
   },
   "source": [
    "<hr style=\"height:.9px;border:none;color:#333;background-color:#333;\" /><br>\n",
    "\n",
    "<h2>Part II: Working with Names</h2><br>\n",
    "The <strong>gender_guesser</strong> package will infer whether a name is in one of the following categories:\n",
    "\n",
    "* <strong>mostly_female</strong>\n",
    "* <strong>mostly_male</strong>\n",
    "* <strong>female</strong>\n",
    "* <strong>male</strong>\n",
    "* <strong>andy</strong> (valid equally for both male and female)\n",
    "* <strong>unknown</strong> (name not recognized)\n",
    "\n",
    "<br><br>\n",
    "<strong>a)</strong> Complete the following steps to have Python guess the gender of each name.\n",
    "\n",
    "1. Create an empty list named <strong>gender_lst</strong>\n",
    "2. Loop over the <strong>first_name</strong> feature of the <strong>friends</strong> DataFrame to guess the gender of each name.\n",
    "3. Append your results to <strong>gender_lst</strong>.\n",
    "4. Store <strong>gender_lst</strong> as a feature in the friends DataFrame.\n",
    "\n",
    "<br>\n",
    "The following help file may be useful in completing this challenge."
   ]
  },
  {
   "cell_type": "code",
   "execution_count": null,
   "metadata": {
    "deletable": false,
    "editable": false
   },
   "outputs": [],
   "source": [
    "help(gender.Detector().get_gender)"
   ]
  },
  {
   "cell_type": "markdown",
   "metadata": {
    "deletable": false,
    "editable": false,
    "run_control": {
     "frozen": true
    }
   },
   "source": [
    "<br>"
   ]
  },
  {
   "cell_type": "code",
   "execution_count": null,
   "metadata": {
    "solution2": "hidden",
    "solution2_first": true
   },
   "outputs": [],
   "source": [
    "# guessing gender based on (given) name\n",
    "\n",
    "# empty list for gender guesses\n",
    "gender_lst = _____\n",
    "\n",
    "\n",
    "# looping to guess gender\n",
    "for name in _____:\n",
    "    \n",
    "    \n",
    "    # looking up gender\n",
    "    guess = gender.Detector().get_gender(_____)\n",
    "    \n",
    "    \n",
    "    # printing each gender guess\n",
    "    print(guess)\n",
    "    \n",
    "    \n",
    "    # appending to gender_lst\n",
    "    gender_lst.append(_____)\n",
    "\n",
    "\n",
    "# concatenating with original DataFrame\n",
    "friends_df['gender_guess'] = _____\n",
    "\n",
    "\n",
    "# checking results\n",
    "friends_df"
   ]
  },
  {
   "cell_type": "code",
   "execution_count": null,
   "metadata": {
    "deletable": false,
    "editable": false,
    "solution2": "hidden"
   },
   "outputs": [],
   "source": [
    "# guessing gender based on (given) name\n",
    "\n",
    "# empty list for gender guesses\n",
    "gender_lst = []\n",
    "\n",
    "\n",
    "# looping to guess gender\n",
    "for name in friends_df['first_name']:\n",
    "    \n",
    "    \n",
    "    # looking up gender\n",
    "    guess = gender.Detector().get_gender(name)\n",
    "    \n",
    "    \n",
    "    # printing each gender guess\n",
    "    print(guess)\n",
    "    \n",
    "    \n",
    "    # appending to gender_lst\n",
    "    gender_lst.append(guess)\n",
    "\n",
    "\n",
    "# concatenating with original DataFrame\n",
    "friends_df['gender_guess'] = gender_lst\n",
    "\n",
    "\n",
    "# checking results\n",
    "friends_df"
   ]
  },
  {
   "cell_type": "markdown",
   "metadata": {
    "deletable": false,
    "editable": false,
    "run_control": {
     "frozen": true
    }
   },
   "source": [
    "<hr style=\"height:.9px;border:none;color:#333;background-color:#333;\" />\n",
    "<hr style=\"height:.9px;border:none;color:#333;background-color:#333;\" /><br>\n",
    "\n",
    "\n",
    "~~~\n",
    "  _____              _  __  __ _      _ \n",
    " |_   _|__ _ __ _ __(_)/ _|/ _(_) ___| |\n",
    "   | |/ _ \\ '__| '__| | |_| |_| |/ __| |\n",
    "   | |  __/ |  | |  | |  _|  _| | (__|_|\n",
    "   |_|\\___|_|  |_|  |_|_| |_| |_|\\___(_)\n",
    "                                                                                 \n",
    "\n",
    "\n",
    "~~~\n",
    "\n",
    "<hr style=\"height:.9px;border:none;color:#333;background-color:#333;\" />\n",
    "<hr style=\"height:.9px;border:none;color:#333;background-color:#333;\" />\n"
   ]
  },
  {
   "cell_type": "markdown",
   "metadata": {
    "deletable": false,
    "editable": false,
    "run_control": {
     "frozen": true
    }
   },
   "source": [
    "<br>"
   ]
  }
 ],
 "metadata": {
  "kernelspec": {
   "display_name": "Python 3 (ipykernel)",
   "language": "python",
   "name": "python3"
  },
  "language_info": {
   "codemirror_mode": {
    "name": "ipython",
    "version": 3
   },
   "file_extension": ".py",
   "mimetype": "text/x-python",
   "name": "python",
   "nbconvert_exporter": "python",
   "pygments_lexer": "ipython3",
   "version": "3.12.11"
  },
  "toc": {
   "base_numbering": 1,
   "nav_menu": {},
   "number_sections": false,
   "sideBar": true,
   "skip_h1_title": false,
   "title_cell": "Table of Contents",
   "title_sidebar": "Contents",
   "toc_cell": false,
   "toc_position": {},
   "toc_section_display": true,
   "toc_window_display": false
  },
  "varInspector": {
   "cols": {
    "lenName": 16,
    "lenType": 16,
    "lenVar": 40
   },
   "kernels_config": {
    "python": {
     "delete_cmd_postfix": "",
     "delete_cmd_prefix": "del ",
     "library": "var_list.py",
     "varRefreshCmd": "print(var_dic_list())"
    },
    "r": {
     "delete_cmd_postfix": ") ",
     "delete_cmd_prefix": "rm(",
     "library": "var_list.r",
     "varRefreshCmd": "cat(var_dic_list()) "
    }
   },
   "types_to_exclude": [
    "module",
    "function",
    "builtin_function_or_method",
    "instance",
    "_Feature"
   ],
   "window_display": false
  }
 },
 "nbformat": 4,
 "nbformat_minor": 2
}
