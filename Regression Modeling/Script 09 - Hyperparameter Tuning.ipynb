{
 "cells": [
  {
   "cell_type": "markdown",
   "metadata": {
    "deletable": false,
    "editable": false,
    "run_control": {
     "frozen": true
    }
   },
   "source": [
    "<hr style=\"height:.9px;border:none;color:#333;background-color:#333;\" />\n",
    "<hr style=\"height:.9px;border:none;color:#333;background-color:#333;\" />\n",
    "\n",
    "<br><h2>Script 09 | Hyperparameter Tuning</h2>\n",
    "<br>\n",
    "Written by Chase Kusterer<br>\n",
    "<a href=\"https://github.com/chase-kusterer\">GitHub</a> | <a href=\"https://www.linkedin.com/in/kusterer/\">LinkedIn</a>\n",
    "<br><br><br>\n",
    "\n",
    "<hr style=\"height:.9px;border:none;color:#333;background-color:#333;\" />\n",
    "<hr style=\"height:.9px;border:none;color:#333;background-color:#333;\" />"
   ]
  },
  {
   "cell_type": "markdown",
   "metadata": {
    "deletable": false,
    "editable": false,
    "run_control": {
     "frozen": true
    }
   },
   "source": [
    "<h2>Part I: Preparation</h2><br>\n",
    "Run the following code to import necessary packages, load data, and set display options for pandas. "
   ]
  },
  {
   "cell_type": "code",
   "execution_count": null,
   "metadata": {
    "deletable": false,
    "editable": false
   },
   "outputs": [],
   "source": [
    "# importing libraries\n",
    "import matplotlib.pyplot as plt                        # data visualization\n",
    "import pandas as pd                                    # data science essentials\n",
    "from sklearn.model_selection import train_test_split   # train-test split\n",
    "from sklearn.tree import DecisionTreeRegressor         # regression trees\n",
    "from sklearn.tree import plot_tree                     # tree plots\n",
    "from sklearn.model_selection import RandomizedSearchCV # hyperparameter tuning\n",
    "import warnings                                        # warnings from code\n",
    "\n",
    "\n",
    "\n",
    "# setting pandas print options\n",
    "pd.set_option('display.max_rows', 500)\n",
    "pd.set_option('display.max_columns', 500)\n",
    "pd.set_option('display.width', 1000)\n",
    "\n",
    "\n",
    "# suppressing warnings\n",
    "warnings.filterwarnings(action = 'ignore')\n",
    "\n",
    "\n",
    "# specifying the path and file name\n",
    "file = './datasets/housing_feature_rich.xlsx'\n",
    "\n",
    "\n",
    "# reading the file into Python\n",
    "housing = pd.read_excel(io     = file,\n",
    "                        header = 0   )\n",
    "\n",
    "\n",
    "housing.drop(labels  = ['property_id'],\n",
    "             axis    = 1,\n",
    "             inplace = True)\n",
    "\n",
    "\n",
    "# checking housing dataset\n",
    "housing.head(n = 5)"
   ]
  },
  {
   "cell_type": "markdown",
   "metadata": {
    "deletable": false,
    "editable": false,
    "run_control": {
     "frozen": true
    }
   },
   "source": [
    "<br>"
   ]
  },
  {
   "cell_type": "code",
   "execution_count": null,
   "metadata": {
    "deletable": false,
    "editable": false
   },
   "outputs": [],
   "source": [
    "#################\n",
    "## full models ##\n",
    "#################\n",
    "\n",
    "# all x-data\n",
    "x_all = list(housing.drop(labels  = ['Sale_Price', 'log_Sale_Price'],\n",
    "                          axis    = 1))\n",
    "\n",
    "# original x-data\n",
    "x_original = list(housing.loc[ : , 'Lot_Area' : 'Porch_Area' ])\n",
    "\n",
    "\n",
    "\n",
    "################\n",
    "## original y ##\n",
    "################\n",
    "\n",
    "# best base model \n",
    "x_base = ['Mas_Vnr_Area',  'Total_Bsmt_SF', 'First_Flr_SF',\n",
    "          'Second_Flr_SF', 'Garage_Area']\n",
    "\n",
    "\n",
    "# best model after feature engineering\n",
    "x_rich = ['Lot_Area', 'Garage_Cars', 'Overall_Qual', 'Total_Bsmt_SF',\n",
    "          'NridgHt', 'Kitchen_AbvGr', 'has_Second_Flr',\n",
    "          'Mas_Vnr_Area', 'has_Garage', 'Porch_Area',\n",
    "          'NWAmes', 'OldTown', 'Overall_Cond', 'NAmes',\n",
    "          'Edwards', 'Somerst', 'Fireplaces', 'Second_Flr_SF',\n",
    "          'First_Flr_SF', 'has_Mas_Vnr', 'CulDSac', 'Total_Bath',\n",
    "          'Crawfor', 'Garage_Area', 'has_Porch']\n",
    "\n",
    "\n",
    "\n",
    "###################\n",
    "## logarithmic y ##\n",
    "###################\n",
    "\n",
    "# best model after feature engineering (log y)\n",
    "x_rich_log_y = ['Lot_Area', 'First_Flr_SF', 'Second_Flr_SF', 'Garage_Cars' ,\n",
    "                'Overall_Qual', 'Overall_Cond', 'Total_Bsmt_SF', 'OldTown',\n",
    "                'Kitchen_AbvGr', 'Total_Bath', 'has_Second_Flr', 'NridgHt',\n",
    "                'Fireplaces', 'Porch_Area', 'Somerst', 'CollgCr', 'Crawfor',\n",
    "                'CulDSac', 'NWAmes', 'Edwards', 'Gilbert']\n",
    "\n",
    "\n",
    "\n",
    "########################\n",
    "## response variables ##\n",
    "########################\n",
    "original_y = 'Sale_Price'\n",
    "log_y      = 'log_Sale_Price'"
   ]
  },
  {
   "cell_type": "markdown",
   "metadata": {
    "deletable": false,
    "editable": false,
    "run_control": {
     "frozen": true
    }
   },
   "source": [
    "<br>"
   ]
  },
  {
   "cell_type": "code",
   "execution_count": null,
   "metadata": {
    "deletable": false,
    "editable": false
   },
   "outputs": [],
   "source": [
    "# preparing x-data\n",
    "x_data = housing[ x_original ]\n",
    "\n",
    "# preparing y-data\n",
    "y_data = housing[ original_y ]"
   ]
  },
  {
   "cell_type": "markdown",
   "metadata": {
    "deletable": false,
    "editable": false,
    "run_control": {
     "frozen": true
    }
   },
   "source": [
    "<br>"
   ]
  },
  {
   "cell_type": "code",
   "execution_count": null,
   "metadata": {
    "deletable": false,
    "editable": false
   },
   "outputs": [],
   "source": [
    "# train-test split\n",
    "x_train, x_test, y_train, y_test = train_test_split(x_data, # x\n",
    "                                                    y_data, # y\n",
    "                                                    test_size    = 0.25,\n",
    "                                                    random_state = 702 )"
   ]
  },
  {
   "cell_type": "markdown",
   "metadata": {
    "deletable": false,
    "editable": false,
    "run_control": {
     "frozen": true
    }
   },
   "source": [
    "<hr style=\"height:.9px;border:none;color:#333;background-color:#333;\" /><br>\n",
    "\n",
    "<strong>The Analytics Kitchen</strong><br>\n",
    "Model selection can be though of as selecting from the various appliances that can be used for cooking. Hyperparameter tuning can be thought of as an extension of this. For example, if we wanted to cook something in the oven, how hot should the oven be in order to get the best results? How does this compare to using a microwave given its best settings for the job (time, wattage, etc.)?<br><br>\n",
    "In the same way that we might adjust the temperature of an oven, we can make adjustments to the <strong>hyperparameters</strong> of a machine learning algorithm in order to optimize its results. <a href = \"https://en.wikipedia.org/wiki/Hyperparameter_(machine_learning)\">This Wikipedia page</a> does an excellent job of defining a hyperparameter as: <em>a parameter whose value is set before the learning process begins</em>. In other words, these are arguments that are set before a model is fit and predictions are made. Hyperparameters can be found in the optional arguments of a model object."
   ]
  },
  {
   "cell_type": "markdown",
   "metadata": {
    "deletable": false,
    "editable": false,
    "run_control": {
     "frozen": true
    }
   },
   "source": [
    "<hr style=\"height:.9px;border:none;color:#333;background-color:#333;\" /><br>\n",
    "\n",
    "<h2>Part II: Hyperparameter Tuning with RandomizedSearchCV</h2><br>\n",
    "\n",
    "We could manually analyze each combination of hyperparameter values one by one, but that would take a very long time. Instead, we can automate this process using <a href=\"https://scikit-learn.org/stable/modules/generated/sklearn.model_selection.RandomizedSearchCV.html\">RandomizedSearchCV</a> from scikit-learn.<br><br>\n",
    "<strong>Note:</strong> RandomizedSearchCV searches various combinations of hyperparameters, optimizing for a given metric. <font color='red'><strong>This can take a LONG time.</strong></font> To alleviate this, make sure your ranges are reasonably small."
   ]
  },
  {
   "cell_type": "markdown",
   "metadata": {
    "deletable": false,
    "editable": false,
    "run_control": {
     "frozen": true
    }
   },
   "source": [
    "<hr style=\"height:.9px;border:none;color:#333;background-color:#333;\" /><br>\n",
    "\n",
    "<h4>a) Use the help file to tune hyperparameters for a decision tree regressor model."
   ]
  },
  {
   "cell_type": "code",
   "execution_count": null,
   "metadata": {
    "deletable": false,
    "editable": false
   },
   "outputs": [],
   "source": [
    "help(DecisionTreeRegressor)"
   ]
  },
  {
   "cell_type": "markdown",
   "metadata": {
    "deletable": false,
    "editable": false,
    "run_control": {
     "frozen": true
    }
   },
   "source": [
    "<br>"
   ]
  },
  {
   "cell_type": "code",
   "execution_count": null,
   "metadata": {
    "solution2": "hidden",
    "solution2_first": true
   },
   "outputs": [],
   "source": [
    "# declaring a hyperparameter space\n",
    "criterion_range = [\"squared_error\", \"friedman_mse\", \"absolute_error\", \"poisson\"]\n",
    "#splitter_range  = _____\n",
    "#depth_range     = _____\n",
    "#leaf_range      = _____\n",
    "\n",
    "\n",
    "# creating a hyperparameter grid\n",
    "param_grid = {'criterion' : criterion_range,}\n",
    "              #'NAME OF HYPERPARAMETER' : HYPERPARAMETER_RANGE,\n",
    "              #'NAME OF HYPERPARAMETER' : HYPERPARAMETER_RANGE,\n",
    "              #'NAME OF HYPERPARAMETER' : HYPERPARAMETER_RANGE}\n",
    "\n",
    "\n",
    "# INSTANTIATING the model object without hyperparameters\n",
    "tuned_tree = DecisionTreeRegressor(random_state = 219)\n",
    "\n",
    "\n",
    "# RandomizedSearchCV object\n",
    "tuned_tree_cv = RandomizedSearchCV(estimator             = tuned_tree,\n",
    "                                   param_distributions   = param_grid,\n",
    "                                   cv                    = 5,\n",
    "                                   n_iter                = 1000,\n",
    "                                   random_state          = 702)\n",
    "\n",
    "\n",
    "# FITTING to the FULL DATASET (due to cross-validation)\n",
    "tuned_tree_cv.fit(x_data, y_data)\n",
    "\n",
    "\n",
    "# printing the optimal parameters and best score\n",
    "print(\"Tuned Parameters  :\", tuned_tree_cv.best_params_)\n",
    "print(\"Tuned Training AUC:\", tuned_tree_cv.best_score_.round(4))"
   ]
  },
  {
   "cell_type": "code",
   "execution_count": null,
   "metadata": {
    "deletable": false,
    "editable": false,
    "solution2": "hidden"
   },
   "outputs": [],
   "source": [
    "# declaring a hyperparameter space\n",
    "criterion_range = [\"mse\", \"friedman_mse\", \"mae\", \"poisson\"]\n",
    "splitter_range  = ['best', 'random']\n",
    "depth_range     = np.arange(1, 11, 1)\n",
    "leaf_range      = np.arange(1, 1001, 1)\n",
    "\n",
    "\n",
    "# creating a hyperparameter grid\n",
    "param_grid = {'criterion'        : criterion_range,\n",
    "              'splitter'         : splitter_range,\n",
    "              'max_depth'        : depth_range,\n",
    "              'min_samples_leaf' : leaf_range}\n",
    "\n",
    "\n",
    "# INSTANTIATING the model object without hyperparameters\n",
    "tuned_tree = DecisionTreeRegressor(random_state = 219)\n",
    "\n",
    "\n",
    "# RandomizedSearchCV object\n",
    "tuned_tree_cv = RandomizedSearchCV(estimator             = tuned_tree,\n",
    "                                   param_distributions   = param_grid,\n",
    "                                   cv                    = 5,\n",
    "                                   n_iter                = 1000,\n",
    "                                   random_state          = 702)\n",
    "\n",
    "\n",
    "# FITTING to the FULL DATASET (due to cross-validation)\n",
    "tuned_tree_cv.fit(x_data, y_data)\n",
    "\n",
    "\n",
    "# printing the optimal parameters and best score\n",
    "print(\"Tuned Parameters  :\", tuned_tree_cv.best_params_)\n",
    "print(\"Tuned Training AUC:\", tuned_tree_cv.best_score_.round(4))"
   ]
  },
  {
   "cell_type": "markdown",
   "metadata": {},
   "source": [
    "<hr style=\"height:.9px;border:none;color:#333;background-color:#333;\" /><br>\n",
    "\n",
    "<h4>b) Build a classification tree model based on the hyperparameter tuning results.</h4>"
   ]
  },
  {
   "cell_type": "code",
   "execution_count": null,
   "metadata": {
    "solution2": "hidden",
    "solution2_first": true
   },
   "outputs": [],
   "source": [
    "# naming the model\n",
    "model_name = _____\n",
    "\n",
    "\n",
    "# INSTANTIATING a logistic regression model with tuned values\n",
    "model = DecisionTreeRegressor(_____)\n",
    "\n",
    "\n",
    "# FITTING to the TRAINING data\n",
    "model.fit(x_train, y_train)\n",
    "\n",
    "\n",
    "# PREDICTING based on the testing set\n",
    "model.predict(x_test)\n",
    "\n",
    "\n",
    "# SCORING results\n",
    "model_train_score = model.score(x_train, y_train).round(4)\n",
    "model_test_score  = model.score(x_test, y_test).round(4)\n",
    "model_gap         = abs(model_train_score - model_test_score).round(4)\n",
    "\n",
    "\n",
    "# displaying results\n",
    "print('Training Score :', model_train_score)\n",
    "print('Testing Score  :', model_test_score)\n",
    "print('Train-Test Gap :', model_gap)"
   ]
  },
  {
   "cell_type": "code",
   "execution_count": null,
   "metadata": {
    "deletable": false,
    "editable": false,
    "scrolled": true,
    "solution2": "hidden"
   },
   "outputs": [],
   "source": [
    "# building a model based on hyperparameter tuning results\n",
    "\n",
    "# INSTANTIATING a logistic regression model with tuned values\n",
    "model = DecisionTreeRegressor(splitter         = 'best',\n",
    "                              min_samples_leaf = 19,\n",
    "                              max_depth        = 10,\n",
    "                              criterion        = 'mae',\n",
    "                              random_state     = 702)\n",
    "\n",
    "\n",
    "# FITTING to the TRAINING data\n",
    "model_fit = model.fit(x_train, y_train)\n",
    "\n",
    "\n",
    "# PREDICTING based on the testing set\n",
    "model_pred = model.predict(x_test)\n",
    "\n",
    "\n",
    "# SCORING the results\n",
    "model_train_score = model.score(x_train, y_train).round(4) # using R-square\n",
    "model_test_score  = model.score(x_test, y_test).round(4)   # using R-square\n",
    "model_gap         = abs(model_train_score - model_test_score).round(4)\n",
    "\n",
    "\n",
    "# displaying results\n",
    "print('Training Score :', model_train_score)\n",
    "print('Testing Score  :', model_test_score)\n",
    "print('Train-Test Gap :', model_gap)"
   ]
  },
  {
   "cell_type": "markdown",
   "metadata": {
    "deletable": false,
    "editable": false,
    "run_control": {
     "frozen": true
    }
   },
   "source": [
    "<hr style=\"height:.9px;border:none;color:#333;background-color:#333;\" /><br>\n",
    "\n",
    "<h4>c) (Optional) Plot the tree graphically.</h4>"
   ]
  },
  {
   "cell_type": "code",
   "execution_count": null,
   "metadata": {
    "solution2": "hidden",
    "solution2_first": true
   },
   "outputs": [],
   "source": [
    "# setting figure size\n",
    "plt.figure(figsize=(60, 20))\n",
    "\n",
    "\n",
    "# developing a plotted tree\n",
    "_____\n",
    "\n",
    "\n",
    "# rendering the plot\n",
    "_____"
   ]
  },
  {
   "cell_type": "code",
   "execution_count": null,
   "metadata": {
    "deletable": false,
    "editable": false,
    "solution2": "hidden"
   },
   "outputs": [],
   "source": [
    "# setting figure size\n",
    "plt.figure(figsize=(60, 20))\n",
    "\n",
    "\n",
    "# developing a plotted tree\n",
    "plot_tree(decision_tree = model, \n",
    "          feature_names = x_train.columns,\n",
    "          filled        = True, \n",
    "          rounded       = True, \n",
    "          fontsize      = 14)\n",
    "\n",
    "\n",
    "# rendering the plot\n",
    "plt.show()"
   ]
  },
  {
   "cell_type": "markdown",
   "metadata": {
    "deletable": false,
    "editable": false,
    "run_control": {
     "frozen": true
    }
   },
   "source": [
    "<hr style=\"height:.9px;border:none;color:#333;background-color:#333;\" /><br>\n",
    "\n",
    "<h2>Part III: Analyzing Hyperparameter Results</h2><br>\n",
    "The following codes will help in analyzing the results of hyperparameter tuning."
   ]
  },
  {
   "cell_type": "code",
   "execution_count": null,
   "metadata": {
    "deletable": false,
    "editable": false
   },
   "outputs": [],
   "source": [
    "tuned_tree_cv.cv_results_"
   ]
  },
  {
   "cell_type": "markdown",
   "metadata": {
    "deletable": false,
    "editable": false,
    "run_control": {
     "frozen": true
    }
   },
   "source": [
    "<br>"
   ]
  },
  {
   "cell_type": "code",
   "execution_count": null,
   "metadata": {
    "code_folding": [
     0
    ],
    "deletable": false,
    "editable": false
   },
   "outputs": [],
   "source": [
    "def tuning_results(cv_results, n=5):\n",
    "    \"\"\"\n",
    "    This function will display the top \"n\" models from hyperparameter tuning,\n",
    "    based on \"rank_test_score\".\n",
    "\n",
    "    PARAMETERS\n",
    "    ----------\n",
    "    cv_results = results dictionary from the attribute \".cv_results_\"\n",
    "    n          = number of models to display\n",
    "    \"\"\"\n",
    "    param_lst = []\n",
    "\n",
    "    for result in cv_results[\"params\"]:\n",
    "        result = str(result).replace(\":\", \"=\")\n",
    "        param_lst.append(result[1:-1])\n",
    "\n",
    "\n",
    "    results_df = pd.DataFrame(data = {\n",
    "        \"Model_Rank\" : cv_results[\"rank_test_score\"],\n",
    "        \"Mean_Test_Score\" : cv_results[\"mean_test_score\"],\n",
    "        \"SD_Test_Score\" : cv_results[\"std_test_score\"],\n",
    "        \"Parameters\" : param_lst\n",
    "    })\n",
    "\n",
    "\n",
    "    results_df = results_df.sort_values(by = \"Model_Rank\", axis = 0)\n",
    "    return results_df.head(n = n)"
   ]
  },
  {
   "cell_type": "markdown",
   "metadata": {
    "deletable": false,
    "editable": false,
    "run_control": {
     "frozen": true
    }
   },
   "source": [
    "<br>"
   ]
  },
  {
   "cell_type": "code",
   "execution_count": null,
   "metadata": {
    "deletable": false,
    "editable": false
   },
   "outputs": [],
   "source": [
    "help(tuning_results)"
   ]
  },
  {
   "cell_type": "markdown",
   "metadata": {
    "deletable": false,
    "editable": false,
    "run_control": {
     "frozen": true
    }
   },
   "source": [
    "<hr style=\"height:.9px;border:none;color:#333;background-color:#333;\" /><br>\n",
    "\n",
    "<h4>a) Use the function to see the top ranked models after hyperparameter tuning.</h4>"
   ]
  },
  {
   "cell_type": "code",
   "execution_count": null,
   "metadata": {
    "deletable": false,
    "editable": false
   },
   "outputs": [],
   "source": [
    "# run tuning_results() on the hyperparameter tuning results\n",
    "tuning_results(cv_results = tuned_tree_cv.cv_results_, n = 5)"
   ]
  },
  {
   "cell_type": "markdown",
   "metadata": {
    "deletable": false,
    "editable": false,
    "run_control": {
     "frozen": true
    }
   },
   "source": [
    "<hr style=\"height:.9px;border:none;color:#333;background-color:#333;\" />\n",
    "<hr style=\"height:.9px;border:none;color:#333;background-color:#333;\" />\n",
    "\n",
    "~~~\n",
    " _____             _                   \n",
    "/__   \\_   _ _ __ (_)_ __   __ _       \n",
    "  / /\\/ | | | '_ \\| | '_ \\ / _` |      \n",
    " / /  | |_| | | | | | | | | (_| |      \n",
    " \\/    \\__,_|_| |_|_|_| |_|\\__, |      \n",
    "                           |___/       \n",
    " _____                           _     \n",
    "/__   \\_____      ____ _ _ __ __| |___ \n",
    "  / /\\/ _ \\ \\ /\\ / / _` | '__/ _` / __|\n",
    " / / | (_) \\ V  V / (_| | | | (_| \\__ \\\n",
    " \\/   \\___/ \\_/\\_/ \\__,_|_|  \\__,_|___/\n",
    "                                       \n",
    " __                                _   \n",
    "/ _\\_   _  ___ ___ ___  ___ ___   / \\  \n",
    "\\ \\| | | |/ __/ __/ _ \\/ __/ __| /  /  \n",
    "_\\ \\ |_| | (_| (_|  __/\\__ \\__ \\/\\_/   \n",
    "\\__/\\__,_|\\___\\___\\___||___/___/\\/     \n",
    "                                       \n",
    "\n",
    "\n",
    "~~~\n",
    "\n",
    "\n",
    "<hr style=\"height:.9px;border:none;color:#333;background-color:#333;\" />\n",
    "<hr style=\"height:.9px;border:none;color:#333;background-color:#333;\" />"
   ]
  },
  {
   "cell_type": "markdown",
   "metadata": {
    "deletable": false,
    "editable": false,
    "run_control": {
     "frozen": true
    }
   },
   "source": [
    "<br> "
   ]
  }
 ],
 "metadata": {
  "kernelspec": {
   "display_name": "Python 3 (ipykernel)",
   "language": "python",
   "name": "python3"
  },
  "language_info": {
   "codemirror_mode": {
    "name": "ipython",
    "version": 3
   },
   "file_extension": ".py",
   "mimetype": "text/x-python",
   "name": "python",
   "nbconvert_exporter": "python",
   "pygments_lexer": "ipython3",
   "version": "3.12.11"
  },
  "toc": {
   "base_numbering": 1,
   "nav_menu": {},
   "number_sections": false,
   "sideBar": true,
   "skip_h1_title": false,
   "title_cell": "Table of Contents",
   "title_sidebar": "Contents",
   "toc_cell": false,
   "toc_position": {
    "height": "calc(100% - 180px)",
    "left": "10px",
    "top": "150px",
    "width": "257px"
   },
   "toc_section_display": true,
   "toc_window_display": false
  },
  "varInspector": {
   "cols": {
    "lenName": 16,
    "lenType": 16,
    "lenVar": 40
   },
   "kernels_config": {
    "python": {
     "delete_cmd_postfix": "",
     "delete_cmd_prefix": "del ",
     "library": "var_list.py",
     "varRefreshCmd": "print(var_dic_list())"
    },
    "r": {
     "delete_cmd_postfix": ") ",
     "delete_cmd_prefix": "rm(",
     "library": "var_list.r",
     "varRefreshCmd": "cat(var_dic_list()) "
    }
   },
   "types_to_exclude": [
    "module",
    "function",
    "builtin_function_or_method",
    "instance",
    "_Feature"
   ],
   "window_display": false
  }
 },
 "nbformat": 4,
 "nbformat_minor": 2
}
