{
 "cells": [
  {
   "cell_type": "markdown",
   "metadata": {
    "deletable": false,
    "editable": false,
    "run_control": {
     "frozen": true
    }
   },
   "source": [
    "<hr style=\"height:.9px;border:none;color:#333;background-color:#333;\" />\n",
    "<hr style=\"height:.9px;border:none;color:#333;background-color:#333;\" />\n",
    "\n",
    "<br>\n",
    "<h2>Script 07 | K-Nearest Neighbors and Distance Standardization</h2>\n",
    "<br>\n",
    "Written by Chase Kusterer<br>\n",
    "<a href=\"https://github.com/chase-kusterer\">GitHub</a> | <a href=\"https://www.linkedin.com/in/kusterer/\">LinkedIn</a>\n",
    "<br><br><br>\n",
    "\n",
    "<hr style=\"height:.9px;border:none;color:#333;background-color:#333;\" />\n",
    "<hr style=\"height:.9px;border:none;color:#333;background-color:#333;\" />"
   ]
  },
  {
   "cell_type": "markdown",
   "metadata": {
    "deletable": false,
    "editable": false,
    "run_control": {
     "frozen": true
    }
   },
   "source": [
    "<h3>Part I: Preparing for Model Building</h3><br>\n",
    "In this script, we will move into distance-based modeling with k-Nearest Neighbors (KNN). Like OLS regression, KNN is a widely used model type because:\n",
    "\n",
    "* Predictions are based on an intuitive concept.\n",
    "* It works in both regression and classification settings\n",
    "\n",
    "<br><br><strong>a)</strong> Imports and Loading the Dataset\n",
    "\n",
    "1. Import the following packages:\n",
    "    * pandas (as pd)\n",
    "    * matplotlib.pyplot (as plt)\n",
    "    * seaborn (as sns)\n",
    "    * numpy (as np)\n",
    "    * train_test_split (from sklearn.model_selection)<br><br>\n",
    "\n",
    "2. Load the 'housing_feature_rich.xlsx' dataset into Python as <em>housing</em>."
   ]
  },
  {
   "cell_type": "code",
   "execution_count": null,
   "metadata": {
    "solution2": "hidden",
    "solution2_first": true
   },
   "outputs": [],
   "source": [
    "# importing libraries\n",
    "_____\n",
    "\n",
    "\n",
    "# new libraries\n",
    "from sklearn.neighbors import KNeighborsRegressor # KNN for Regression\n",
    "from sklearn.preprocessing import StandardScaler  # standard scaler\n",
    "\n",
    "\n",
    "# setting print options for pandas and numpy\n",
    "pd.set_option('display.max_rows', 500)\n",
    "pd.set_option('display.max_columns', 500)\n",
    "pd.set_option('display.width', 1000)\n",
    "np.set_printoptions(suppress=True)\n",
    "\n",
    "\n",
    "# specifying file names\n",
    "file     = _____\n",
    "\n",
    "\n",
    "# reading into Python\n",
    "housing     = pd.read_excel(io         = file,\n",
    "                            header     = 0   ,\n",
    "                            sheet_name = 0   )\n",
    "\n",
    "\n",
    "# this code will not produce an output"
   ]
  },
  {
   "cell_type": "code",
   "execution_count": null,
   "metadata": {
    "deletable": false,
    "editable": false,
    "solution2": "hidden"
   },
   "outputs": [],
   "source": [
    "# importing libraries\n",
    "import pandas as pd                                  # data science essentials\n",
    "import matplotlib.pyplot as plt                      # data visualization\n",
    "import seaborn as sns                                # enhanced data viz\n",
    "import numpy as np                                   # mathematical essentials\n",
    "from sklearn.model_selection import train_test_split # train/test split\n",
    "\n",
    "\n",
    "# new libraries\n",
    "from sklearn.neighbors import KNeighborsRegressor # KNN for Regression\n",
    "from sklearn.preprocessing import StandardScaler  # standard scaler\n",
    "\n",
    "\n",
    "# setting print options for pandas and numpy\n",
    "pd.set_option('display.max_rows', 500)\n",
    "pd.set_option('display.max_columns', 500)\n",
    "pd.set_option('display.width', 1000)\n",
    "np.set_printoptions(suppress=True)\n",
    "\n",
    "\n",
    "# specifying file name\n",
    "file     = './datasets/housing_feature_rich.xlsx'\n",
    "\n",
    "# reading into Python\n",
    "housing     = pd.read_excel(io         = file,\n",
    "                            header     = 0   ,\n",
    "                            sheet_name = 0   )\n",
    "\n",
    "\n",
    "# this code will not produce an output"
   ]
  },
  {
   "cell_type": "markdown",
   "metadata": {
    "deletable": false,
    "editable": false,
    "run_control": {
     "frozen": true
    }
   },
   "source": [
    "<br>"
   ]
  },
  {
   "cell_type": "code",
   "execution_count": null,
   "metadata": {
    "deletable": false,
    "editable": false
   },
   "outputs": [],
   "source": [
    "# checking the dataset\n",
    "housing.head(n = 5)"
   ]
  },
  {
   "cell_type": "markdown",
   "metadata": {
    "deletable": false,
    "editable": false,
    "run_control": {
     "frozen": true
    }
   },
   "source": [
    "<hr style=\"height:.9px;border:none;color:#333;background-color:#333;\" /><br>\n",
    "\n",
    "<strong>b)</strong> Fill in the blanks to separate features for modeling."
   ]
  },
  {
   "cell_type": "code",
   "execution_count": null,
   "metadata": {
    "solution2": "hidden",
    "solution2_first": true
   },
   "outputs": [],
   "source": [
    "# preparing X-features\n",
    "housing_data   = housing.drop(['Sale_Price',\n",
    "                               'log_Sale_Price'],\n",
    "                                axis = 1)\n",
    "\n",
    "\n",
    "# preparing y-feature\n",
    "housing_target = housing.loc[ : , _____]\n",
    "\n",
    "\n",
    "# this code will not produce an output"
   ]
  },
  {
   "cell_type": "code",
   "execution_count": null,
   "metadata": {
    "deletable": false,
    "editable": false,
    "solution2": "hidden"
   },
   "outputs": [],
   "source": [
    "# preparing X-features\n",
    "housing_data   = housing.drop(['Sale_Price',\n",
    "                               'log_Sale_Price',\n",
    "                               'property_id'],\n",
    "                                axis = 1)\n",
    "\n",
    "\n",
    "# preparing y-feature\n",
    "housing_target = housing.loc[ : , 'Sale_Price']\n",
    "\n",
    "\n",
    "# this code will not produce an output"
   ]
  },
  {
   "cell_type": "markdown",
   "metadata": {
    "deletable": false,
    "editable": false,
    "run_control": {
     "frozen": true
    }
   },
   "source": [
    "<hr style=\"height:.9px;border:none;color:#333;background-color:#333;\" /><br>\n",
    "\n",
    "Run the following code to create a <strong>standardized</strong> version of the the dataset."
   ]
  },
  {
   "cell_type": "code",
   "execution_count": null,
   "metadata": {
    "deletable": false,
    "editable": false
   },
   "outputs": [],
   "source": [
    "# INSTANTIATING a StandardScaler() object\n",
    "scaler = StandardScaler()\n",
    "\n",
    "\n",
    "# FITTING the scaler with the data\n",
    "scaler.fit(housing_data)\n",
    "\n",
    "\n",
    "# TRANSFORMING our data after fit\n",
    "x_scaled = scaler.transform(housing_data)\n",
    "\n",
    "\n",
    "# converting scaled data into a DataFrame\n",
    "x_scaled_df = pd.DataFrame(x_scaled)\n",
    "\n",
    "\n",
    "# checking the results\n",
    "x_scaled_df.describe(include = 'number').round(decimals = 2)"
   ]
  },
  {
   "cell_type": "markdown",
   "metadata": {
    "deletable": false,
    "editable": false,
    "run_control": {
     "frozen": true
    }
   },
   "source": [
    "<hr style=\"height:.9px;border:none;color:#333;background-color:#333;\" /><br>\n",
    "\n",
    "Notice that the headers (feature names) have disappeared. Let's add them back and then analyze how variance has changed after scaling."
   ]
  },
  {
   "cell_type": "code",
   "execution_count": null,
   "metadata": {
    "deletable": false,
    "editable": false
   },
   "outputs": [],
   "source": [
    "# adding labels to the scaled DataFrame\n",
    "x_scaled_df.columns = housing_data.columns\n",
    "\n",
    "#  Checking pre- and post-scaling of the data\n",
    "print(f\"\"\"\n",
    "Dataset BEFORE Scaling\n",
    "----------------------\n",
    "{np.var(housing_data.iloc[ : , 0:5 ],\n",
    "        axis = 0)}\n",
    "\n",
    "\n",
    "Dataset AFTER Scaling\n",
    "----------------------\n",
    "{np.var(x_scaled_df.iloc[ : , 0:5 ],\n",
    "        axis = 0)}\n",
    "\"\"\")"
   ]
  },
  {
   "cell_type": "markdown",
   "metadata": {
    "deletable": false,
    "editable": false,
    "run_control": {
     "frozen": true
    }
   },
   "source": [
    "<hr style=\"height:.9px;border:none;color:#333;background-color:#333;\" /><br>\n",
    "\n",
    "<h3>Correlation Analysis: Pre- and Post-Standardization</h3><br>\n",
    "Let's observe what happens to correlation after standardizing the dataset. In order to best see the results, we will limit our analysis to a small set of features."
   ]
  },
  {
   "cell_type": "code",
   "execution_count": null,
   "metadata": {
    "deletable": false,
    "editable": false,
    "scrolled": false
   },
   "outputs": [],
   "source": [
    "##############################################################################\n",
    "# Unscaled Dataset\n",
    "##############################################################################\n",
    "\n",
    "# subsetting the original dataset\n",
    "housing_subset = housing_data.loc[ : , ['Garage_Cars',\n",
    "                                        'Overall_Qual',\n",
    "                                        'Total_Bsmt_SF',\n",
    "                                        'NridgHt',\n",
    "                                        'Kitchen_AbvGr',\n",
    "                                        'has_Second_Flr']]\n",
    "\n",
    "\n",
    "# UNSCALED correlation matrix\n",
    "df_corr = housing_subset.corr().round(2)\n",
    "\n",
    "\n",
    "# heatmap of UNSCALED correlations\n",
    "sns.heatmap(df_corr,\n",
    "            cmap = 'coolwarm',\n",
    "            square = True,\n",
    "            annot = True,\n",
    "            cbar = False,\n",
    "            linecolor  = 'black', \n",
    "            linewidths = 0.5)\n",
    "\n",
    "\n",
    "plt.show()\n",
    "\n",
    "##############################################################################\n",
    "# Scaled Dataset\n",
    "##############################################################################\n",
    "\n",
    "# SCALED correlation matrix\n",
    "df_scaled_corr = x_scaled_df.loc[ : , ['Garage_Cars',\n",
    "                                       'Overall_Qual',\n",
    "                                       'Total_Bsmt_SF',\n",
    "                                       'NridgHt',\n",
    "                                       'Kitchen_AbvGr',\n",
    "                                       'has_Second_Flr']].corr().round(2)\n",
    "\n",
    "\n",
    "# titling the plot\n",
    "plt.title(\"BEFORE Standardization\")\n",
    "\n",
    "\n",
    "\n",
    "# heatmap of SCALED correlations\n",
    "sns.heatmap(df_scaled_corr,\n",
    "            cmap = 'coolwarm',\n",
    "            square = True,\n",
    "            annot = True,\n",
    "            cbar = False,\n",
    "            linecolor  = 'black',\n",
    "            linewidths = 0.5)\n",
    "\n",
    "\n",
    "# titling the plot\n",
    "plt.title(\"AFTER Standardization\")\n",
    "plt.show()"
   ]
  },
  {
   "cell_type": "markdown",
   "metadata": {
    "deletable": false,
    "editable": false,
    "run_control": {
     "frozen": true
    }
   },
   "source": [
    "<hr style=\"height:.9px;border:none;color:#333;background-color:#333;\" /><br>\n",
    "\n",
    "Notice how the correlations remain unchanged. Not a single linear relationship has changed. However, standardization has profound effects on distance-based algorithms, as we will discover below.\n",
    "<br><br>\n",
    "<h2>Part III: k-Nearest Neighbors with Non-Standardized Data</h2><br>\n",
    "<strong>a)</strong> Develop training and testing sets using the non-standardized dataset."
   ]
  },
  {
   "cell_type": "code",
   "execution_count": null,
   "metadata": {
    "solution2": "hidden",
    "solution2_first": true
   },
   "outputs": [],
   "source": [
    "# this is the exact code we were using before\n",
    "_____, _____, _____, _____ = _____(\n",
    "            _____,\n",
    "            _____,\n",
    "            test_size    = 0.25,\n",
    "            random_state = 702 )\n",
    "\n",
    "\n",
    "# this code will not produce an output"
   ]
  },
  {
   "cell_type": "code",
   "execution_count": null,
   "metadata": {
    "deletable": false,
    "editable": false,
    "solution2": "hidden"
   },
   "outputs": [],
   "source": [
    "# this is the exact code we were using before\n",
    "x_train, x_test, y_train, y_test = train_test_split(\n",
    "            housing_data,\n",
    "            housing_target,\n",
    "            test_size    = 0.25,\n",
    "            random_state = 702 )\n",
    "\n",
    "\n",
    "# this code will not produce an output"
   ]
  },
  {
   "cell_type": "markdown",
   "metadata": {
    "deletable": false,
    "editable": false,
    "run_control": {
     "frozen": true
    }
   },
   "source": [
    "<hr style=\"height:.9px;border:none;color:#333;background-color:#333;\" /><br>\n",
    "<h3>KNN with Non-Standardized Data</h3><br>\n",
    "<strong>b)</strong> Fill in the blanks below to develop a k-Nearest Neighbors model."
   ]
  },
  {
   "cell_type": "code",
   "execution_count": null,
   "metadata": {
    "solution2": "hidden",
    "solution2_first": true
   },
   "outputs": [],
   "source": [
    "# INSTANTIATING a KNN model object\n",
    "knn_reg = KNeighborsRegressor(algorithm = 'auto',\n",
    "                              n_neighbors = 1)\n",
    "\n",
    "\n",
    "# FITTING to the training data\n",
    "knn_fit = knn_reg._____(_____, _____)\n",
    "\n",
    "\n",
    "# PREDICTING on new data\n",
    "knn_reg_pred = knn_fit._____(_____)\n",
    "\n",
    "\n",
    "# SCORING the results\n",
    "knn_reg_score_train = round(knn_reg._____(_____, _____), ndigits = 4)\n",
    "knn_reg_score_test  = round(knn_reg._____(_____, _____), ndigits = 4)\n",
    "knn_reg_test_gap = round(abs(knn_reg_score_train - knn_reg_score_test), ndigits = 4)\n",
    "\n",
    "\n",
    "# checking results\n",
    "print(f\"\"\"\n",
    "K-Nearest Neighbors\n",
    "-------------------\n",
    "Training Score: {knn_reg_score_train}\n",
    "Testing Score : {knn_reg_score_test}\n",
    "Train-Test Gap: {knn_reg_test_gap}\n",
    "\"\"\")"
   ]
  },
  {
   "cell_type": "code",
   "execution_count": null,
   "metadata": {
    "deletable": false,
    "editable": false,
    "solution2": "hidden"
   },
   "outputs": [],
   "source": [
    "# INSTANTIATING a KNN model object\n",
    "knn_reg = KNeighborsRegressor(algorithm   = 'auto',\n",
    "                              n_neighbors = 1     )\n",
    "\n",
    "\n",
    "# FITTING to the training data\n",
    "knn_fit = knn_reg.fit(x_train, y_train)\n",
    "\n",
    "\n",
    "# PREDICTING on new data\n",
    "knn_reg_pred = knn_fit.predict(x_test)\n",
    "\n",
    "\n",
    "# SCORING the results\n",
    "knn_reg_score_train = round(knn_reg.score(x_train, y_train), ndigits = 4)\n",
    "knn_reg_score_test  = round(knn_reg.score(x_test, y_test), ndigits = 4)\n",
    "knn_reg_test_gap = round(abs(knn_reg_score_train - knn_reg_score_test), ndigits = 4)\n",
    "\n",
    "\n",
    "# checking results\n",
    "print(f\"\"\"\n",
    "K-Nearest Neighbors\n",
    "-------------------\n",
    "Training Score: {knn_reg_score_train}\n",
    "Testing Score : {knn_reg_score_test}\n",
    "Train-Test Gap: {knn_reg_test_gap}\n",
    "\"\"\")"
   ]
  },
  {
   "cell_type": "markdown",
   "metadata": {
    "deletable": false,
    "editable": false,
    "run_control": {
     "frozen": true
    }
   },
   "source": [
    "<hr style=\"height:.9px;border:none;color:#333;background-color:#333;\" /><br>\n",
    "\n",
    "<strong>c)</strong> How Many Neighbors?<br>\n",
    "We can spend time testing out several different neighbor values, but it would be much more efficient to develop a function to automate this, as in the code below."
   ]
  },
  {
   "cell_type": "code",
   "execution_count": null,
   "metadata": {
    "deletable": false,
    "editable": false
   },
   "outputs": [],
   "source": [
    "## optimal neighbors ##\n",
    "def opt_neighbors(x_train   = x_train,\n",
    "                  y_train   = y_train,\n",
    "                  x_test    = x_test,\n",
    "                  y_test    = y_test,\n",
    "                  max_neighbors = 50):\n",
    "    \n",
    "    \"\"\"\n",
    "    This function visualizes R-Square values for the K-Nearest Neighbors\n",
    "    algorithm.\n",
    "    \n",
    "    \n",
    "    Parameters\n",
    "    ----------\n",
    "    x_train       | training data for x | default: x_train\n",
    "    y_train       | training data for y | default: y_train\n",
    "    x_test        | testing data for x  | default: x_test\n",
    "    y_test        | testing data for y  | default: y_test\n",
    "    max_neighbors | maximum number of neighbors to visualize | default: 50\n",
    "    \"\"\"\n",
    "\n",
    "    # lists to store metrics\n",
    "    train_rsq = []\n",
    "    test_rsq  = []\n",
    "    tt_gap    = []\n",
    "    \n",
    "    \n",
    "    # creating range object for neighbors\n",
    "    neighbors = range(max_neighbors)\n",
    "    \n",
    "    \n",
    "    # visualizing results\n",
    "    for n_neighbors in neighbors:\n",
    "\n",
    "        # instantiating KNN\n",
    "        clf = KNeighborsRegressor(n_neighbors = n_neighbors + 1, p = 1)\n",
    "\n",
    "        # fitting to the data\n",
    "        clf.fit(x_train, y_train)\n",
    "\n",
    "        # storing the training set accuracy\n",
    "        train_rsq.append(clf.score(x_train, y_train))\n",
    "\n",
    "        # recording the generalization accuracy\n",
    "        test_rsq.append(clf.score(x_test, y_test))\n",
    "\n",
    "        # train\n",
    "        tt_gap.append(abs(clf.score(x_train, y_train) - clf.score(x_test, y_test)))\n",
    "\n",
    "\n",
    "    # plotting the visualization\n",
    "    fig, ax = plt.subplots(figsize=(12,8))\n",
    "    plt.plot(neighbors, train_rsq, label = \"R-Square (Training Set)\")\n",
    "    plt.plot(neighbors, test_rsq,  label = \"R-Square (Testing Set)\")\n",
    "    plt.ylabel(ylabel = \"Coefficient of Determination\")\n",
    "    plt.xlabel(xlabel = \"Number of Neighbors\")\n",
    "    plt.legend()\n",
    "    plt.show()\n",
    "\n",
    "\n",
    "    # finding the optimal number of neighbors\n",
    "    opt_neighbors = tt_gap.index(min(tt_gap)) + 1\n",
    "    print(f\"\"\"The optimal number of neighbors is {opt_neighbors}\"\"\")\n",
    "    \n",
    "    return train_rsq, test_rsq, tt_gap"
   ]
  },
  {
   "cell_type": "markdown",
   "metadata": {
    "deletable": false,
    "editable": false,
    "run_control": {
     "frozen": true
    }
   },
   "source": [
    "<br>"
   ]
  },
  {
   "cell_type": "code",
   "execution_count": null,
   "metadata": {
    "deletable": false,
    "editable": false
   },
   "outputs": [],
   "source": [
    "# visualizing KNN results\n",
    "x = opt_neighbors(x_train   = x_train,\n",
    "              y_train   = y_train,\n",
    "              x_test    = x_test,\n",
    "              y_test    = y_test,\n",
    "              max_neighbors = 50)"
   ]
  },
  {
   "cell_type": "markdown",
   "metadata": {
    "deletable": false,
    "editable": false,
    "run_control": {
     "frozen": true
    }
   },
   "source": [
    "<hr style=\"height:.9px;border:none;color:#333;background-color:#333;\" /><br>\n",
    "\n",
    "<strong>d)</strong> Fill in the blanks below to develop a KNN model using the optimal number of neighbors."
   ]
  },
  {
   "cell_type": "code",
   "execution_count": null,
   "metadata": {
    "solution2": "hidden",
    "solution2_first": true
   },
   "outputs": [],
   "source": [
    "# INSTANTIATING a model with the optimal number of neighbors\n",
    "knn_opt = _____(algorithm = 'auto',\n",
    "                n_neighbors = _____)\n",
    "\n",
    "\n",
    "\n",
    "# FITTING the model based on the training data\n",
    "knn_opt_fit = knn_opt._____(_____, _____)\n",
    "\n",
    "\n",
    "\n",
    "# PREDITCING on new data\n",
    "knn_opt_pred = _____._____(x_test)\n",
    "\n",
    "\n",
    "# SCORING the results\n",
    "knn_opt_score_train = round(knn_opt.score(_____, _____), ndigits = 4)\n",
    "knn_opt_score_test  = round(knn_opt.score(_____, _____), ndigits = 4)\n",
    "knn_opt_test_gap    = round(abs(knn_opt_score_train - knn_opt_score_test), ndigits = 4)\n",
    "\n",
    "\n",
    "# checking results\n",
    "print(f\"\"\"\n",
    "K-Nearest Neighbors\n",
    "-------------------\n",
    "Training Score: {knn_opt_score_train}\n",
    "Testing Score : {knn_opt_score_test}\n",
    "Train-Test Gap: {knn_opt_test_gap}\n",
    "\"\"\")"
   ]
  },
  {
   "cell_type": "code",
   "execution_count": null,
   "metadata": {
    "deletable": false,
    "editable": false,
    "solution2": "hidden"
   },
   "outputs": [],
   "source": [
    "# INSTANTIATING a model with the optimal number of neighbors\n",
    "knn_opt = KNeighborsRegressor(algorithm   = 'auto',\n",
    "                              n_neighbors = 47)\n",
    "\n",
    "\n",
    "\n",
    "# FITTING the model based on the training data\n",
    "knn_opt_fit = knn_opt.fit(x_train, y_train)\n",
    "\n",
    "\n",
    "\n",
    "# PREDITCING on new data\n",
    "knn_opt_pred = knn_opt_fit.predict(x_test)\n",
    "\n",
    "\n",
    "# SCORING the results\n",
    "knn_opt_score_train = round(knn_opt.score(x_train, y_train), ndigits = 4)\n",
    "knn_opt_score_test  = round(knn_opt.score(x_test, y_test), ndigits = 4)\n",
    "knn_opt_test_gap    = round(abs(knn_opt_score_train - knn_opt_score_test), ndigits = 4)\n",
    "\n",
    "\n",
    "# checking results\n",
    "print(f\"\"\"\n",
    "K-Nearest Neighbors\n",
    "-------------------\n",
    "Training Score: {knn_opt_score_train}\n",
    "Testing Score : {knn_opt_score_test}\n",
    "Train-Test Gap: {knn_opt_test_gap}\n",
    "\"\"\")"
   ]
  },
  {
   "cell_type": "markdown",
   "metadata": {
    "deletable": false,
    "editable": false,
    "run_control": {
     "frozen": true
    }
   },
   "source": [
    "<hr style=\"height:.9px;border:none;color:#333;background-color:#333;\" /><br>\n",
    "\n",
    "<h2>Part IV: k-Nearest Neighbors with Standardized Data</h2><br>\n",
    "<strong>a)</strong> Develop training and testing sets using the standardized dataset."
   ]
  },
  {
   "cell_type": "code",
   "execution_count": null,
   "metadata": {
    "solution2": "hidden",
    "solution2_first": true
   },
   "outputs": [],
   "source": [
    "# this is the exact code we were using before\n",
    "x_train_STAND, x_test_STAND, y_train_STAND, y_test_STAND = _____(\n",
    "            _____,\n",
    "            _____,\n",
    "            test_size = 0.25,\n",
    "            random_state = 702)\n",
    "\n",
    "\n",
    "# this code will not produce an output"
   ]
  },
  {
   "cell_type": "code",
   "execution_count": null,
   "metadata": {
    "deletable": false,
    "editable": false,
    "solution2": "hidden"
   },
   "outputs": [],
   "source": [
    "# this is the exact code we were using before\n",
    "x_train_STAND, x_test_STAND, y_train_STAND, y_test_STAND = train_test_split(\n",
    "            x_scaled_df,\n",
    "            housing_target,\n",
    "            test_size = 0.25,\n",
    "            random_state = 702)\n",
    "\n",
    "\n",
    "# this code will not produce an output"
   ]
  },
  {
   "cell_type": "markdown",
   "metadata": {
    "deletable": false,
    "editable": false,
    "run_control": {
     "frozen": true
    }
   },
   "source": [
    "<hr style=\"height:.9px;border:none;color:#333;background-color:#333;\" /><br>\n",
    "\n",
    "<strong>b)</strong> Complete the code below and determine the optimal number of neighbors."
   ]
  },
  {
   "cell_type": "code",
   "execution_count": null,
   "metadata": {
    "solution2": "hidden",
    "solution2_first": true
   },
   "outputs": [],
   "source": [
    "# visualizing KNN results on standardized data\n",
    "opt_neighbors(x_train   = _____,\n",
    "              y_train   = _____,\n",
    "              x_test    = _____,\n",
    "              y_test    = _____,\n",
    "              max_neighbors = 50)"
   ]
  },
  {
   "cell_type": "code",
   "execution_count": null,
   "metadata": {
    "deletable": false,
    "editable": false,
    "solution2": "hidden"
   },
   "outputs": [],
   "source": [
    "# visualizing KNN results on standardized data\n",
    "opt_neighbors(x_train   = x_train_STAND,\n",
    "              y_train   = y_train_STAND,\n",
    "              x_test    = x_test_STAND,\n",
    "              y_test    = y_test_STAND,\n",
    "              max_neighbors = 50)"
   ]
  },
  {
   "cell_type": "markdown",
   "metadata": {
    "deletable": false,
    "editable": false,
    "run_control": {
     "frozen": true
    }
   },
   "source": [
    "<hr style=\"height:.9px;border:none;color:#333;background-color:#333;\" /><br>\n",
    "\n",
    "<strong>c)</strong> Fill in the blanks below to develop a KNN algorithm based on the standardized data.<br>"
   ]
  },
  {
   "cell_type": "code",
   "execution_count": null,
   "metadata": {
    "deletable": false,
    "editable": false
   },
   "outputs": [],
   "source": [
    "# INSTANTIATING a model with the optimal number of neighbors\n",
    "knn_stand = KNeighborsRegressor(algorithm   = 'auto',\n",
    "                                n_neighbors = 13,\n",
    "                                p = 1)\n",
    "\n",
    "\n",
    "\n",
    "# FITTING the model based on the training data\n",
    "knn_stand_fit = knn_stand.fit(x_train_STAND, y_train_STAND)\n",
    "\n",
    "\n",
    "\n",
    "# PREDITCING on new data\n",
    "knn_stand_pred = knn_stand_fit.predict(x_test_STAND)\n",
    "\n",
    "\n",
    "\n",
    "# SCORING the results\n",
    "knn_stand_score_train = round(knn_stand.score(x_train_STAND, y_train_STAND), ndigits = 4)\n",
    "knn_stand_score_test  = round(knn_stand.score(x_test_STAND, y_test_STAND), ndigits = 4)\n",
    "knn_stand_test_gap = round(abs(knn_stand_score_train - knn_stand_score_test), ndigits = 4)\n",
    "\n",
    "\n",
    "# checking results\n",
    "print(f\"\"\"\n",
    "K-Nearest Neighbors\n",
    "-------------------\n",
    "Training Score: {knn_stand_score_train}\n",
    "Testing Score : {knn_stand_score_test}\n",
    "Train-Test Gap: {knn_stand_test_gap}\n",
    "\"\"\")"
   ]
  },
  {
   "cell_type": "markdown",
   "metadata": {
    "deletable": false,
    "editable": false,
    "run_control": {
     "frozen": true
    }
   },
   "source": [
    "<hr style=\"height:.9px;border:none;color:#333;background-color:#333;\" /><br>\n",
    "\n",
    "\n",
    "<strong>d)</strong> Fill in the blanks below to create an summary output for each KNN model's performance.<br>"
   ]
  },
  {
   "cell_type": "code",
   "execution_count": null,
   "metadata": {
    "solution2": "hidden",
    "solution2_first": true
   },
   "outputs": [],
   "source": [
    "# comparing results\n",
    "\n",
    "print(f\"\"\"\n",
    "KNN Model             Neighbors     Train Score      Test Score\n",
    "----------------      ---------     ----------       ----------\n",
    "Non-Standardized      _____          {_____}           {_____}\n",
    "Non-Standardized      _____          {_____}           {_____}\n",
    "Standardized          _____          {_____}           {_____}\n",
    "\"\"\")"
   ]
  },
  {
   "cell_type": "code",
   "execution_count": null,
   "metadata": {
    "deletable": false,
    "editable": false,
    "solution2": "hidden"
   },
   "outputs": [],
   "source": [
    "## Sample Solution ##\n",
    "\n",
    "# comparing results\n",
    "\n",
    "print(f\"\"\"\n",
    "KNN Model             Neighbors     Train Score      Test Score\n",
    "----------------      ---------     ----------       ----------\n",
    "Non-Standardized      1             {knn_reg_score_train}              {knn_reg_score_test}\n",
    "Non-Standardized      47            {knn_opt_score_train}           {knn_opt_score_test}\n",
    "Standardized          13            {knn_stand_score_train}           {knn_stand_score_test}\n",
    "\"\"\")"
   ]
  },
  {
   "cell_type": "markdown",
   "metadata": {
    "deletable": false,
    "editable": false,
    "run_control": {
     "frozen": true
    }
   },
   "source": [
    "<hr style=\"height:.9px;border:none;color:#333;background-color:#333;\" /><br>\n",
    "\n",
    "A great <a href=\"https://www.youtube.com/watch?v=HVXime0nQeI\">video on KNN can be found here</a>.\n",
    "Also, more linear model types can be found in <a href=\"https://scikit-learn.org/stable/modules/classes.html#module-sklearn.linear_model\">scikit-learn's linear model documentation</a>.\n",
    "<br>"
   ]
  },
  {
   "cell_type": "markdown",
   "metadata": {
    "deletable": false,
    "editable": false,
    "run_control": {
     "frozen": true
    }
   },
   "source": [
    "<hr style=\"height:.9px;border:none;color:#333;background-color:#333;\" />\n",
    "\n",
    "~~~\n",
    "\n",
    "\n",
    "____ ____ ___ ___ _ _  _ ____          \n",
    "[__  |___  |   |  | |\\ | | __          \n",
    "___] |___  |   |  | | \\| |__]          \n",
    "                                       \n",
    "___ _  _ ____                          \n",
    " |  |__| |___                          \n",
    " |  |  | |___                          \n",
    "                                       \n",
    "____ ___ ____ _  _ ___  ____ ____ ___  \n",
    "[__   |  |__| |\\ | |  \\ |__| |__/ |  \\ \n",
    "___]  |  |  | | \\| |__/ |  | |  \\ |__/ \n",
    "                                       \n",
    "_  _ _ ____ _  _   /                   \n",
    "|__| | | __ |__|  /                    \n",
    "|  | | |__] |  | .                     \n",
    "                                       \n",
    "\n",
    "\n",
    "\n",
    "~~~\n",
    "\n",
    "<hr style=\"height:.9px;border:none;color:#333;background-color:#333;\" />"
   ]
  },
  {
   "cell_type": "markdown",
   "metadata": {
    "deletable": false,
    "editable": false,
    "run_control": {
     "frozen": true
    }
   },
   "source": [
    "<br>"
   ]
  }
 ],
 "metadata": {
  "kernelspec": {
   "display_name": "Python 3 (ipykernel)",
   "language": "python",
   "name": "python3"
  },
  "language_info": {
   "codemirror_mode": {
    "name": "ipython",
    "version": 3
   },
   "file_extension": ".py",
   "mimetype": "text/x-python",
   "name": "python",
   "nbconvert_exporter": "python",
   "pygments_lexer": "ipython3",
   "version": "3.12.11"
  },
  "toc": {
   "base_numbering": 1,
   "nav_menu": {},
   "number_sections": false,
   "sideBar": true,
   "skip_h1_title": false,
   "title_cell": "Table of Contents",
   "title_sidebar": "Contents",
   "toc_cell": false,
   "toc_position": {},
   "toc_section_display": true,
   "toc_window_display": false
  },
  "varInspector": {
   "cols": {
    "lenName": 16,
    "lenType": 16,
    "lenVar": 40
   },
   "kernels_config": {
    "python": {
     "delete_cmd_postfix": "",
     "delete_cmd_prefix": "del ",
     "library": "var_list.py",
     "varRefreshCmd": "print(var_dic_list())"
    },
    "r": {
     "delete_cmd_postfix": ") ",
     "delete_cmd_prefix": "rm(",
     "library": "var_list.r",
     "varRefreshCmd": "cat(var_dic_list()) "
    }
   },
   "types_to_exclude": [
    "module",
    "function",
    "builtin_function_or_method",
    "instance",
    "_Feature"
   ],
   "window_display": false
  }
 },
 "nbformat": 4,
 "nbformat_minor": 2
}
