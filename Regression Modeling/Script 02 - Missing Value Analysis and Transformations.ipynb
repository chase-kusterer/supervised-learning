{
 "cells": [
  {
   "cell_type": "markdown",
   "metadata": {
    "deletable": false,
    "editable": false,
    "run_control": {
     "frozen": true
    }
   },
   "source": [
    "<hr style=\"height:.9px;border:none;color:#333;background-color:#333;\" />\n",
    "<hr style=\"height:.9px;border:none;color:#333;background-color:#333;\" />\n",
    "\n",
    "<br><h2>Script 02 | Missing Value Analysis and Transformations</h2>\n",
    "<br>\n",
    "Written by Chase Kusterer<br>\n",
    "<a href=\"https://github.com/chase-kusterer\">GitHub</a> | <a href=\"https://www.linkedin.com/in/kusterer/\">LinkedIn</a>\n",
    "<br><br><br>\n",
    "\n",
    "<hr style=\"height:.9px;border:none;color:#333;background-color:#333;\" />\n",
    "<hr style=\"height:.9px;border:none;color:#333;background-color:#333;\" />"
   ]
  },
  {
   "cell_type": "markdown",
   "metadata": {
    "deletable": false,
    "editable": false,
    "run_control": {
     "frozen": true
    }
   },
   "source": [
    "<h2>Part I: Missing Value Analysis</h2><br>\n",
    "There are three common approaches to filling in missing values, more formally known as <strong>imputation</strong>.\n",
    "\n",
    "* <strong>Univariate</strong> - Consistently impute with the same value (mean, median, or any other constant)\n",
    "* <strong>Multivariate</strong> - Analyze relationships with other features to determine imputation values\n",
    "* <strong>Algorithmic</strong> - Apply a machine learning model to predict imputation values\n",
    "\n",
    "<br>\n",
    "<br>\n",
    "Let's start our analysis by importing libraries and the data."
   ]
  },
  {
   "cell_type": "code",
   "execution_count": null,
   "metadata": {
    "deletable": false,
    "editable": false
   },
   "outputs": [],
   "source": [
    "# importing libraries\n",
    "import pandas as pd                   # data science essentials\n",
    "import matplotlib.pyplot as plt       # essential graphical output\n",
    "import seaborn as sns                 # enhanced graphical output\n",
    "import numpy as np                    # mathematical essentials\n",
    "import statsmodels.formula.api as smf # regression modeling\n",
    "\n",
    "\n",
    "# setting pandas print options\n",
    "pd.set_option('display.max_rows', 500)\n",
    "pd.set_option('display.max_columns', 500)\n",
    "pd.set_option('display.width', 1000)\n",
    "\n",
    "\n",
    "# specifying file path\n",
    "file = './datasets/ames_continuous.xlsx'\n",
    "\n",
    "\n",
    "# reading the file into Python\n",
    "housing = pd.read_excel(io     = file,\n",
    "                        header = 0   )\n",
    "\n",
    "\n",
    "# dropping property_id and Pool_Area\n",
    "housing.drop(labels  = ['property_id', 'Pool_Area'],\n",
    "             axis    = 1,\n",
    "             inplace = True)\n",
    "\n",
    "\n",
    "# code will not produce an output"
   ]
  },
  {
   "cell_type": "markdown",
   "metadata": {
    "cell_style": "center",
    "deletable": false,
    "editable": false,
    "run_control": {
     "frozen": true
    }
   },
   "source": [
    "<hr style=\"height:.9px;border:none;color:#333;background-color:#333;\" /><br>\n",
    "\n",
    "<h4>a) Use method chaining to show the number of missing values in the dataset.</h4>\n",
    "\n",
    "Write a code to show the number of missing values in the dataset.<br>\n",
    "<em>Hint: Your goal is to check if a value is missing (i.e., is null) and then sum the values together column-wise.</em>\n"
   ]
  },
  {
   "cell_type": "code",
   "execution_count": null,
   "metadata": {
    "solution2": "hidden",
    "solution2_first": true
   },
   "outputs": [],
   "source": [
    "# taking the housing dataset\n",
    "# and then\n",
    "# transforming it into boolean based on if a value is null\n",
    "# and then\n",
    "# summing together the results per feature\n",
    "\n",
    "housing._____()._____()"
   ]
  },
  {
   "cell_type": "code",
   "execution_count": null,
   "metadata": {
    "deletable": false,
    "editable": false,
    "solution2": "hidden"
   },
   "outputs": [],
   "source": [
    "# taking the housing dataset\n",
    "# and then\n",
    "# transforming it into boolean based on if a value is null\n",
    "# and then\n",
    "# summing together the results per feature\n",
    "housing.isnull().sum(axis = 0)"
   ]
  },
  {
   "cell_type": "markdown",
   "metadata": {
    "deletable": false,
    "editable": false,
    "run_control": {
     "frozen": true
    }
   },
   "source": [
    "<hr style=\"height:.9px;border:none;color:#333;background-color:#333;\" /><br>\n",
    "<h4>b) Run the code below to flag missing values and analyze the results.</h4>"
   ]
  },
  {
   "cell_type": "code",
   "execution_count": null,
   "metadata": {
    "deletable": false,
    "editable": false
   },
   "outputs": [],
   "source": [
    "# looping to flag features with missing values\n",
    "for col in housing:\n",
    "\n",
    "    # creating columns with 1s if missing and 0 if not\n",
    "    if housing[col].isnull().astype(int).sum() > 0:\n",
    "        housing['m_'+col] = housing[col].isnull().astype(int)"
   ]
  },
  {
   "cell_type": "markdown",
   "metadata": {
    "deletable": false,
    "editable": false,
    "run_control": {
     "frozen": true
    }
   },
   "source": [
    "<br>"
   ]
  },
  {
   "cell_type": "code",
   "execution_count": null,
   "metadata": {
    "deletable": false,
    "editable": false
   },
   "outputs": [],
   "source": [
    "# checking results - summing missing value flags\n",
    "housing[ ['m_Lot_Area', 'm_Mas_Vnr_Area', 'm_Second_Flr_SF'] ].sum(axis = 0)"
   ]
  },
  {
   "cell_type": "markdown",
   "metadata": {
    "deletable": false,
    "editable": false,
    "run_control": {
     "frozen": true
    }
   },
   "source": [
    "<br>"
   ]
  },
  {
   "cell_type": "code",
   "execution_count": null,
   "metadata": {
    "deletable": false,
    "editable": false
   },
   "outputs": [],
   "source": [
    "# subsetting for mv features\n",
    "mv_flag_check = housing[ ['Lot_Area'     , 'm_Lot_Area',\n",
    "                          'Mas_Vnr_Area' , 'm_Mas_Vnr_Area',\n",
    "                          'Second_Flr_SF', 'm_Second_Flr_SF'] ]\n",
    "\n",
    "\n",
    "# checking results - feature comparison\n",
    "mv_flag_check.sort_values(by = ['m_Lot_Area', 'm_Mas_Vnr_Area', 'm_Second_Flr_SF'],\n",
    "                          ascending = False).head(n = 10)"
   ]
  },
  {
   "cell_type": "markdown",
   "metadata": {
    "deletable": false,
    "editable": false,
    "run_control": {
     "frozen": true
    }
   },
   "source": [
    "<hr style=\"height:.9px;border:none;color:#333;background-color:#333;\" /><br>\n",
    "\n",
    "<h4>c) Analyze the distribution of <em>Mas_Vnr_Area</em>.</h4><br>\n",
    "Histograms can be very useful in determining imputation values."
   ]
  },
  {
   "cell_type": "code",
   "execution_count": null,
   "metadata": {
    "deletable": false,
    "editable": false
   },
   "outputs": [],
   "source": [
    "# plotting 'Mas Vnr Area'\n",
    "sns.histplot(x = 'Mas_Vnr_Area',\n",
    "            data = housing,\n",
    "            kde = True)\n",
    "\n",
    "\n",
    "# title and labels\n",
    "plt.title (label  = 'Distribution of Masonic Veneer Area')\n",
    "plt.xlabel(xlabel = 'Masonic Veneer Area')\n",
    "plt.ylabel(ylabel = 'Count')\n",
    "\n",
    "\n",
    "# displaying the plot\n",
    "plt.show()"
   ]
  },
  {
   "cell_type": "markdown",
   "metadata": {
    "deletable": false,
    "editable": false,
    "run_control": {
     "frozen": true
    }
   },
   "source": [
    "<hr style=\"height:.9px;border:none;color:#333;background-color:#333;\" /><br>\n",
    "\n",
    "<h4>d) What would be an appropriate imputation value <em>Mas_Vnr_Area</em>?</h4>"
   ]
  },
  {
   "cell_type": "raw",
   "metadata": {
    "solution2": "hidden",
    "solution2_first": true
   },
   "source": [
    "~ Use this space to input your solution to the question above ~"
   ]
  },
  {
   "cell_type": "raw",
   "metadata": {
    "solution2": "hidden"
   },
   "source": [
    "Imputing with zero would be appropriate. This strategy assumes that the reason this data is missing is simply because there was no masonic veneer area to record."
   ]
  },
  {
   "cell_type": "markdown",
   "metadata": {
    "deletable": false,
    "editable": false,
    "run_control": {
     "frozen": true
    }
   },
   "source": [
    "<hr style=\"height:.9px;border:none;color:#333;background-color:#333;\" /><br>\n",
    "<h4>e) Complete the code below to impute missing values for <em>Mas_Vnr_Area</em>.</h4><br>Note that we are applying a univariate imputation strategy."
   ]
  },
  {
   "cell_type": "code",
   "execution_count": null,
   "metadata": {
    "solution2": "hidden",
    "solution2_first": true
   },
   "outputs": [],
   "source": [
    "# documentation: help(pd.DataFrame.fillna)\n",
    "\n",
    "# imputing Mas_Vnr_Area\n",
    "housing['Mas_Vnr_Area'].fillna(value   = ____,\n",
    "                               inplace = True)"
   ]
  },
  {
   "cell_type": "code",
   "execution_count": null,
   "metadata": {
    "deletable": false,
    "editable": false,
    "solution2": "hidden"
   },
   "outputs": [],
   "source": [
    "# documentation: help(pd.DataFrame.fillna)\n",
    "\n",
    "# imputing Mas_Vnr_Area\n",
    "housing['Mas_Vnr_Area'].fillna(value   = 0   ,\n",
    "                               inplace = True)"
   ]
  },
  {
   "cell_type": "markdown",
   "metadata": {
    "deletable": false,
    "editable": false,
    "run_control": {
     "frozen": true
    }
   },
   "source": [
    "<br>"
   ]
  },
  {
   "cell_type": "code",
   "execution_count": null,
   "metadata": {
    "deletable": false,
    "editable": false
   },
   "outputs": [],
   "source": [
    "housing[ ['Mas_Vnr_Area', 'm_Mas_Vnr_Area'] ][housing['m_Mas_Vnr_Area'] == 1].head(n = 10)"
   ]
  },
  {
   "cell_type": "markdown",
   "metadata": {
    "deletable": false,
    "editable": false,
    "run_control": {
     "frozen": true
    }
   },
   "source": [
    "<hr style=\"height:.9px;border:none;color:#333;background-color:#333;\" />\n",
    "<br>\n",
    "<h4>f) Use the code cells below to explore <em>Lot_Area</em> and <em>Second_Flr_SF</em>.</h4>"
   ]
  },
  {
   "cell_type": "code",
   "execution_count": null,
   "metadata": {},
   "outputs": [],
   "source": [
    "# Lot_Area\n",
    "\n"
   ]
  },
  {
   "cell_type": "markdown",
   "metadata": {
    "deletable": false,
    "editable": false,
    "run_control": {
     "frozen": true
    }
   },
   "source": [
    "<br>"
   ]
  },
  {
   "cell_type": "code",
   "execution_count": null,
   "metadata": {
    "solution2": "hidden",
    "solution2_first": true
   },
   "outputs": [],
   "source": [
    "# Second_Flr_SF\n",
    "\n"
   ]
  },
  {
   "cell_type": "code",
   "execution_count": null,
   "metadata": {
    "deletable": false,
    "editable": false,
    "solution2": "hidden"
   },
   "outputs": [],
   "source": [
    "## Lot_Area exploration results ##\n",
    "\n",
    "# summing building features\n",
    "buildings = housing[[\"Gr_Liv_Area\", \"Garage_Area\", \"Porch_Area\"]].sum(axis = 1)\n",
    "\n",
    "\n",
    "# ratio between buildings and lot area\n",
    "ratio_building_lot = (buildings / housing[\"Lot_Area\"])\n",
    "\n",
    "\n",
    "# instantiating a scatterplot\n",
    "sns.histplot(data = housing,\n",
    "             x    = ratio_building_lot,\n",
    "             fill = False)\n",
    "\n",
    "\n",
    "# mean and median lines\n",
    "plt.axvline(ratio_building_lot.mean()  , color = \"red\")\n",
    "plt.axvline(ratio_building_lot.median(), color = \"blue\")\n",
    "\n",
    "\n",
    "# labels and rendering\n",
    "plt.title (label = \"Distribution of Building to Lot Area Ratios\")\n",
    "plt.xlabel(xlabel = \"Building to Lot Area Ratio\")\n",
    "plt.ylabel(ylabel = \"Frequency\")\n",
    "plt.show()"
   ]
  },
  {
   "cell_type": "markdown",
   "metadata": {
    "deletable": false,
    "editable": false,
    "run_control": {
     "frozen": true
    },
    "solution2": "hidden"
   },
   "source": [
    "<br>"
   ]
  },
  {
   "cell_type": "code",
   "execution_count": null,
   "metadata": {
    "deletable": false,
    "editable": false,
    "solution2": "hidden"
   },
   "outputs": [],
   "source": [
    "## Second_Flr_SF exploration results ##\n",
    "area_check = housing[\"First_Flr_SF\"] + housing[\"Second_Flr_SF\"] == housing[\"Gr_Liv_Area\"]\n",
    "total_rows = housing.shape[0]\n",
    "\n",
    "\n",
    "# proportion of observations with \n",
    "print(f\"\"\"\n",
    "In {((area_check.sum() / total_rows * 100)).round(decimals = 1)}% of cases:\n",
    "First Floor SF + Second Floor SF == Gross Living Area\n",
    "\"\"\")"
   ]
  },
  {
   "cell_type": "markdown",
   "metadata": {
    "deletable": false,
    "editable": false,
    "run_control": {
     "frozen": true
    }
   },
   "source": [
    "<hr style=\"height:.9px;border:none;color:#333;background-color:#333;\" />\n",
    "<br>\n",
    "<h4>g) Impute the missing values for <em>Lot_Area</em> and <em>Second_Flr_SF</em>.</h4>"
   ]
  },
  {
   "cell_type": "code",
   "execution_count": null,
   "metadata": {
    "solution2": "hidden",
    "solution2_first": true
   },
   "outputs": [],
   "source": [
    "# imputing Lot_Area (univariate approach)\n",
    "housing['Lot_Area'] = _____\n",
    "\n",
    "\n",
    "# imputing Second_Flr_SF (multivariate approach)\n",
    "housing['Second_Flr_SF'] = _____\n",
    "\n",
    "\n",
    "# converting Lot_Area into integer type data\n",
    "housing['Lot_Area'] = housing['Lot_Area'].astype(int)"
   ]
  },
  {
   "cell_type": "code",
   "execution_count": null,
   "metadata": {
    "deletable": false,
    "editable": false,
    "scrolled": true,
    "solution2": "hidden"
   },
   "outputs": [],
   "source": [
    "# taking a multivariate approach\n",
    "fill = buildings/ratio_building_lot.median() # both defined above\n",
    "\n",
    "# imputing Lot_Area\n",
    "housing['Lot_Area'] = housing['Lot_Area'].fillna(value   = fill)\n",
    "\n",
    "\n",
    "# converting Lot_Area into integer type data\n",
    "housing['Lot_Area'] = housing['Lot_Area'].astype(int)"
   ]
  },
  {
   "cell_type": "markdown",
   "metadata": {
    "deletable": false,
    "editable": false,
    "run_control": {
     "frozen": true
    },
    "solution2": "hidden"
   },
   "source": [
    "<br>"
   ]
  },
  {
   "cell_type": "code",
   "execution_count": null,
   "metadata": {
    "deletable": false,
    "editable": false,
    "solution2": "hidden"
   },
   "outputs": [],
   "source": [
    "# taking a multivariate approach\n",
    "fill = housing[\"Gr_Liv_Area\"] - housing[\"First_Flr_SF\"]\n",
    "\n",
    "# imputing Second_Flr_SF\n",
    "housing['Second_Flr_SF'] = housing['Second_Flr_SF'].fillna(value   = fill)"
   ]
  },
  {
   "cell_type": "markdown",
   "metadata": {
    "deletable": false,
    "editable": false,
    "run_control": {
     "frozen": true
    }
   },
   "source": [
    "<br>"
   ]
  },
  {
   "cell_type": "code",
   "execution_count": null,
   "metadata": {
    "deletable": false,
    "editable": false
   },
   "outputs": [],
   "source": [
    "# checking results\n",
    "housing[ ['Lot_Area', 'm_Lot_Area'] ][housing['m_Lot_Area'] == 1].head(n = 10)"
   ]
  },
  {
   "cell_type": "markdown",
   "metadata": {
    "deletable": false,
    "editable": false,
    "run_control": {
     "frozen": true
    }
   },
   "source": [
    "<br>"
   ]
  },
  {
   "cell_type": "code",
   "execution_count": null,
   "metadata": {
    "deletable": false,
    "editable": false
   },
   "outputs": [],
   "source": [
    "# checking results\n",
    "housing[ ['Second_Flr_SF', 'm_Second_Flr_SF'] ][housing['m_Second_Flr_SF'] == 1].head(n = 10)"
   ]
  },
  {
   "cell_type": "markdown",
   "metadata": {
    "deletable": false,
    "editable": false,
    "run_control": {
     "frozen": true
    }
   },
   "source": [
    "<hr style=\"height:.9px;border:none;color:#333;background-color:#333;\" /><br>\n",
    "<h4>h) Run the code below to confirm that all missing values have been imputed.</h4>"
   ]
  },
  {
   "cell_type": "code",
   "execution_count": null,
   "metadata": {
    "deletable": false,
    "editable": false
   },
   "outputs": [],
   "source": [
    "# making sure all missing values have been taken care of\n",
    "housing.isnull().any().any()"
   ]
  },
  {
   "cell_type": "markdown",
   "metadata": {
    "deletable": false,
    "editable": false,
    "run_control": {
     "frozen": true
    }
   },
   "source": [
    "<hr style=\"height:.9px;border:none;color:#333;background-color:#333;\" /><br>\n",
    "\n",
    "The following codes will generate histograms to analyze each distribution before and after imputation."
   ]
  },
  {
   "cell_type": "code",
   "execution_count": null,
   "metadata": {
    "deletable": false,
    "editable": false
   },
   "outputs": [],
   "source": [
    "# importing the original dataset for comparison (has missing values)\n",
    "housing_mv = pd.read_excel(io = file) # same Excel file as before"
   ]
  },
  {
   "cell_type": "markdown",
   "metadata": {
    "deletable": false,
    "editable": false,
    "run_control": {
     "frozen": true
    }
   },
   "source": [
    "<br>"
   ]
  },
  {
   "cell_type": "code",
   "execution_count": null,
   "metadata": {
    "deletable": false,
    "editable": false
   },
   "outputs": [],
   "source": [
    "####################\n",
    "## Masonic Veneer ##\n",
    "####################\n",
    "# scatterplot AFTER missing values\n",
    "sns.histplot(data  = housing,\n",
    "             x     = 'Mas_Vnr_Area',\n",
    "             fill  = True,\n",
    "             color = \"red\",\n",
    "             stat  = 'proportion')\n",
    "\n",
    "\n",
    "# scatterplot BEFORE missing values\n",
    "sns.histplot(data  = housing_mv,\n",
    "             x     = 'Mas_Vnr_Area',\n",
    "             fill  = True,\n",
    "             color = 'black',\n",
    "             stat  = 'proportion')\n",
    "\n",
    "\n",
    "# mean lines\n",
    "plt.axvline(housing['Mas_Vnr_Area'].mean()   , color = \"red\")\n",
    "plt.axvline(housing_mv['Mas_Vnr_Area'].mean(), color = \"blue\")\n",
    "\n",
    "\n",
    "# labels and rendering\n",
    "plt.title (label  = \"Imputation Results (Mas_Vnr_Area)\")\n",
    "plt.xlabel(xlabel = \"Masonic Veneer Area\")\n",
    "plt.ylabel(ylabel = \"Frequency\")\n",
    "plt.show()"
   ]
  },
  {
   "cell_type": "markdown",
   "metadata": {
    "deletable": false,
    "editable": false,
    "run_control": {
     "frozen": true
    }
   },
   "source": [
    "<br>"
   ]
  },
  {
   "cell_type": "code",
   "execution_count": null,
   "metadata": {
    "deletable": false,
    "editable": false
   },
   "outputs": [],
   "source": [
    "##############\n",
    "## Lot Area ##\n",
    "##############\n",
    "# scatterplot AFTER missing values\n",
    "sns.histplot(data  = housing,\n",
    "             x     = 'Lot_Area',\n",
    "             fill  = True,\n",
    "             color = \"red\",\n",
    "             stat  = 'proportion')\n",
    "\n",
    "\n",
    "# scatterplot BEFORE missing values\n",
    "sns.histplot(data  = housing_mv,\n",
    "             x     = 'Lot_Area',\n",
    "             fill  = True,\n",
    "             color = 'black',\n",
    "             stat  = 'proportion')\n",
    "\n",
    "\n",
    "# mean lines\n",
    "plt.axvline(housing['Lot_Area'].mean()   , color = \"red\")\n",
    "plt.axvline(housing_mv['Lot_Area'].mean(), color = \"blue\")\n",
    "\n",
    "# setting x limit\n",
    "plt.xlim(left = 0, right = 50000)\n",
    "\n",
    "# labels and rendering\n",
    "plt.title (label  = \"Imputation Results (Lot_Area)\")\n",
    "plt.xlabel(xlabel = \"Lot Area\")\n",
    "plt.ylabel(ylabel = \"Frequency\")\n",
    "plt.show()"
   ]
  },
  {
   "cell_type": "markdown",
   "metadata": {
    "deletable": false,
    "editable": false,
    "run_control": {
     "frozen": true
    }
   },
   "source": [
    "<br>"
   ]
  },
  {
   "cell_type": "code",
   "execution_count": null,
   "metadata": {
    "deletable": false,
    "editable": false
   },
   "outputs": [],
   "source": [
    "################################\n",
    "## Second Floor Square Footage ##\n",
    "################################\n",
    "# scatterplot AFTER missing values\n",
    "sns.histplot(data  = housing,\n",
    "             x     = 'Second_Flr_SF',\n",
    "             fill  = True,\n",
    "             color = \"red\",\n",
    "             stat  = 'proportion')\n",
    "\n",
    "\n",
    "# scatterplot BEFORE missing values\n",
    "sns.histplot(data  = housing_mv,\n",
    "             x     = 'Second_Flr_SF',\n",
    "             fill  = True,\n",
    "             color = 'black',\n",
    "             stat  = 'proportion')\n",
    "\n",
    "\n",
    "# mean lines\n",
    "plt.axvline(housing['Second_Flr_SF'].mean()   , color = \"red\")\n",
    "plt.axvline(housing_mv['Second_Flr_SF'].mean(), color = \"blue\")\n",
    "\n",
    "\n",
    "# labels and rendering\n",
    "plt.title (label  = \"Imputation Results (Second_Flr_SF)\")\n",
    "plt.xlabel(xlabel = \"Second Floor Square Footage\")\n",
    "plt.ylabel(ylabel = \"Frequency\")\n",
    "plt.show()"
   ]
  },
  {
   "cell_type": "markdown",
   "metadata": {
    "deletable": false,
    "editable": false,
    "run_control": {
     "frozen": true
    }
   },
   "source": [
    "<hr style=\"height:.9px;border:none;color:#333;background-color:#333;\" /><br>\n",
    "\n",
    "The distributions appear to be well aligned before and after imputation. This is ideal as it indicates a minimal \"noise\" impact, which can occur when a missing value strategy creates a high degree undue variance. Remember, we have no feasible way of checking the true value of each missing data point. Therefore, it is in our best interest to implement a missing value strategy that more or less mimics the original distribution of a feature."
   ]
  },
  {
   "cell_type": "markdown",
   "metadata": {
    "deletable": false,
    "editable": false,
    "run_control": {
     "frozen": true
    }
   },
   "source": [
    "<hr style=\"height:.9px;border:none;color:#333;background-color:#333;\" />\n",
    "<hr style=\"height:.9px;border:none;color:#333;background-color:#333;\" /><br>\n",
    "<h2>Part II: Transformations</h2><br>\n",
    "In our previous script, we discovered skewness in several features of the dataset. Let's analyze this further and learn how transformations can be utilized to address this. In this section, we will cover the logarithmic transformation, which helps alleviate positive skewness. The results of this transformation are easy to interpret: model coefficients are read as percentage changes instead of unit changes. Other common transformations include roots and reciprocals.\n",
    "<br>\n",
    "<h4>a) Develop a histogram and analyze the distribution of <em>Sale_Price</em>.</h4>"
   ]
  },
  {
   "cell_type": "code",
   "execution_count": null,
   "metadata": {
    "solution2": "hidden",
    "solution2_first": true
   },
   "outputs": [],
   "source": [
    "# developing a histogram using HISTPLOT\n",
    "sns._____(data   = _____,\n",
    "          x      = _____,\n",
    "          kde    = True)\n",
    "\n",
    "\n",
    "# title and axis labels\n",
    "plt.title(label   = \"Original Distribution of Housing Sale Prices\")\n",
    "plt.xlabel(xlabel = \"Sale Price\") # avoiding using dataset labels\n",
    "plt.ylabel(ylabel = \"Count\")\n",
    "\n",
    "# displaying the histogram\n",
    "plt.show()"
   ]
  },
  {
   "cell_type": "code",
   "execution_count": null,
   "metadata": {
    "deletable": false,
    "editable": false,
    "solution2": "hidden"
   },
   "outputs": [],
   "source": [
    "# developing a histogram using HISTPLOT\n",
    "sns.histplot(data   = housing,\n",
    "             x      = 'Sale_Price',\n",
    "             kde    = True)\n",
    "\n",
    "\n",
    "# title and axis labels\n",
    "plt.title(label   = \"Original Distribution of Housing Sale Prices\")\n",
    "plt.xlabel(xlabel = \"Sale Price\") # avoiding using dataset labels\n",
    "plt.ylabel(ylabel = \"Count\")\n",
    "\n",
    "# displaying the histogram\n",
    "plt.show()"
   ]
  },
  {
   "cell_type": "markdown",
   "metadata": {
    "deletable": false,
    "editable": false,
    "run_control": {
     "frozen": true
    }
   },
   "source": [
    "<hr style=\"height:.9px;border:none;color:#333;background-color:#333;\" /><br>\n",
    "\n",
    "The code below will logarithmically transform <em>Sale_Price</em>."
   ]
  },
  {
   "cell_type": "code",
   "execution_count": null,
   "metadata": {
    "deletable": false,
    "editable": false
   },
   "outputs": [],
   "source": [
    "# documentation: help(np.log1p)\n",
    "\n",
    "# log transforming Sale_Price and saving it to the dataset\n",
    "housing['log_Sale_Price'] = np.log1p(housing['Sale_Price'])"
   ]
  },
  {
   "cell_type": "markdown",
   "metadata": {
    "deletable": false,
    "editable": false,
    "run_control": {
     "frozen": true
    }
   },
   "source": [
    "<br>\n",
    "<h4>b) Develop a histogram and analyze the distribution of <em>log_Sale_Price</em>.</h4>"
   ]
  },
  {
   "cell_type": "code",
   "execution_count": null,
   "metadata": {
    "solution2": "hidden",
    "solution2_first": true
   },
   "outputs": [],
   "source": [
    "# developing a histogram using HISTPLOT\n",
    "sns._____(data   = _____,\n",
    "          x      = _____,\n",
    "          kde    = True)\n",
    "\n",
    "\n",
    "# title and axis labels\n",
    "plt.title(label   = \"Logarithmic Distribution of Housing Sale Prices\")\n",
    "plt.xlabel(xlabel = \"Sale Price\") # avoiding using dataset labels\n",
    "plt.ylabel(ylabel = \"Count\")\n",
    "\n",
    "# displaying the histogram\n",
    "plt.show()"
   ]
  },
  {
   "cell_type": "code",
   "execution_count": null,
   "metadata": {
    "deletable": false,
    "editable": false,
    "solution2": "hidden"
   },
   "outputs": [],
   "source": [
    "# developing a histogram using HISTPLOT\n",
    "sns.histplot(data   = housing,\n",
    "             x      = 'log_Sale_Price',\n",
    "             kde    = True)\n",
    "\n",
    "\n",
    "# title and axis labels\n",
    "plt.title(label   = \"Logarithmic Distribution of Housing Sale Prices\")\n",
    "plt.xlabel(xlabel = \"Sale Price\") # avoiding using dataset labels\n",
    "plt.ylabel(ylabel = \"Count\")\n",
    "\n",
    "# displaying the histogram\n",
    "plt.show()"
   ]
  },
  {
   "cell_type": "markdown",
   "metadata": {
    "deletable": false,
    "editable": false,
    "run_control": {
     "frozen": true
    }
   },
   "source": [
    "<br>"
   ]
  },
  {
   "cell_type": "markdown",
   "metadata": {
    "deletable": false,
    "editable": false,
    "run_control": {
     "frozen": true
    }
   },
   "source": [
    "<hr style=\"height:.9px;border:none;color:#333;background-color:#333;\" /><br>\n",
    "\n",
    "<strong>Skewness in Y can indicate skewness in X.</strong> It is likely that since the y-variable was skewed, some of the x-variables will be skewed as well. Run the following code to analyze this further."
   ]
  },
  {
   "cell_type": "code",
   "execution_count": null,
   "metadata": {
    "deletable": false,
    "editable": false
   },
   "outputs": [],
   "source": [
    "housing.skew(axis = 0).round(decimals = 2)"
   ]
  },
  {
   "cell_type": "markdown",
   "metadata": {
    "deletable": false,
    "editable": false,
    "run_control": {
     "frozen": true
    }
   },
   "source": [
    "<hr style=\"height:.9px;border:none;color:#333;background-color:#333;\" /><br>\n",
    "\n",
    "The skewness results above are misleading as some features are subject to zero inflation (having a large proportion of zero values). Run the modified code below to generate more practical results."
   ]
  },
  {
   "cell_type": "code",
   "execution_count": null,
   "metadata": {
    "deletable": false,
    "editable": false
   },
   "outputs": [],
   "source": [
    "# modified skewness (zero inflation)\n",
    "for col in housing:\n",
    "    print(f\"\"\"{col}:\\t {housing[col][ housing[col] > 0 ].skew(axis = 0).round(decimals = 2)}\"\"\")"
   ]
  },
  {
   "cell_type": "markdown",
   "metadata": {
    "deletable": false,
    "editable": false,
    "run_control": {
     "frozen": true
    }
   },
   "source": [
    "<hr style=\"height:.9px;border:none;color:#333;background-color:#333;\" /><br>\n",
    "\n",
    "<h4>c) Logarithmically transform any X-features that have an absolute skewness value greater than 1.0.</h4>"
   ]
  },
  {
   "cell_type": "code",
   "execution_count": null,
   "metadata": {
    "solution2": "hidden",
    "solution2_first": true
   },
   "outputs": [],
   "source": [
    "# log transforming Lot_Area\n",
    "housing['log_Lot_Area'] = np.log1p(housing['Lot_Area'])\n",
    "\n",
    "\n",
    "## Code more below ##\n",
    "\n",
    "\n"
   ]
  },
  {
   "cell_type": "code",
   "execution_count": null,
   "metadata": {
    "deletable": false,
    "editable": false,
    "solution2": "hidden"
   },
   "outputs": [],
   "source": [
    "# log transforming skewed features\n",
    "housing['log_Lot_Area']      = np.log1p(housing['Lot_Area'])\n",
    "housing['log_Mas_Vnr_Area']  = np.log1p(housing['Mas_Vnr_Area'])\n",
    "housing['log_Total_Bsmt_SF'] = np.log1p(housing['Total_Bsmt_SF'])\n",
    "housing['log_First_Flr_SF']  = np.log1p(housing['First_Flr_SF'])\n",
    "housing['log_Gr_Liv_Area']   = np.log1p(housing['Gr_Liv_Area'])\n",
    "housing['log_Porch_Area']    = np.log1p(housing['Porch_Area'])"
   ]
  },
  {
   "cell_type": "markdown",
   "metadata": {
    "deletable": false,
    "editable": false,
    "run_control": {
     "frozen": true
    }
   },
   "source": [
    "<hr style=\"height:.9px;border:none;color:#333;background-color:#333;\" /><br>\n",
    "\n",
    "<h4>d) Run the codes below and analyze the results of each logarithmic transformation.</h4><br>"
   ]
  },
  {
   "cell_type": "code",
   "execution_count": null,
   "metadata": {
    "cell_style": "center",
    "deletable": false,
    "editable": false
   },
   "outputs": [],
   "source": [
    "# skewness BEFORE logarithmic transformations\n",
    "housing.loc[ : , :'Sale_Price' ].skew(axis = 0).round(decimals = 2).sort_index(ascending = False)"
   ]
  },
  {
   "cell_type": "markdown",
   "metadata": {
    "deletable": false,
    "editable": false,
    "run_control": {
     "frozen": true
    }
   },
   "source": [
    "<br>"
   ]
  },
  {
   "cell_type": "code",
   "execution_count": null,
   "metadata": {
    "cell_style": "center",
    "deletable": false,
    "editable": false
   },
   "outputs": [],
   "source": [
    "# skewness AFTER logarithmic transformations\n",
    "housing.loc[ : , 'log_Sale_Price': ].skew(axis = 0).round(decimals = 2).sort_index(ascending = False)"
   ]
  },
  {
   "cell_type": "markdown",
   "metadata": {
    "deletable": false,
    "editable": false,
    "run_control": {
     "frozen": true
    }
   },
   "source": [
    "<br>"
   ]
  },
  {
   "cell_type": "code",
   "execution_count": null,
   "metadata": {
    "deletable": false,
    "editable": false
   },
   "outputs": [],
   "source": [
    "# analyzing (Pearson) correlations\n",
    "df_corr = housing.corr(method = 'pearson').round(2)\n",
    "\n",
    "df_corr.loc[ : , ['Sale_Price', 'log_Sale_Price'] ].sort_values(by = 'Sale_Price',\n",
    "                                                                ascending = False)"
   ]
  },
  {
   "cell_type": "markdown",
   "metadata": {
    "deletable": false,
    "editable": false,
    "run_control": {
     "frozen": true
    }
   },
   "source": [
    "<hr style=\"height:.9px;border:none;color:#333;background-color:#333;\" /><br>\n",
    "\n",
    "Some of the transformations resulted in lower correlations. Even so, we are in better shape than before as we are more aligned with the assumptions of linear modeling. If nothing else, we have more options, giving us flexibility while navigating the many statistical schools of thought (beyond the scope of this course).\n",
    "<br>\n",
    "<h4>e) Develop a histogram for each logarithmic feature that resulted in a lower correlation with the response variables.</h4><br>\n",
    "We will discuss these distributions in more detail in a later script."
   ]
  },
  {
   "cell_type": "code",
   "execution_count": null,
   "metadata": {
    "solution2": "hidden",
    "solution2_first": true
   },
   "outputs": [],
   "source": [
    "## Code Here ##\n",
    "_____"
   ]
  },
  {
   "cell_type": "code",
   "execution_count": null,
   "metadata": {
    "cell_style": "split",
    "deletable": false,
    "editable": false,
    "solution2": "hidden"
   },
   "outputs": [],
   "source": [
    "## Sample Code 1 ##\n",
    "\n",
    "# Porch_Area\n",
    "sns.histplot(data   = housing,\n",
    "             x      = 'Porch_Area',\n",
    "             kde    = True)\n",
    "\n",
    "\n",
    "# displaying the histogram\n",
    "plt.show()"
   ]
  },
  {
   "cell_type": "code",
   "execution_count": null,
   "metadata": {
    "cell_style": "split",
    "deletable": false,
    "editable": false,
    "solution2": "hidden"
   },
   "outputs": [],
   "source": [
    "## Sample Code 2 ##\n",
    "\n",
    "# log_Porch_Area\n",
    "sns.histplot(data   = housing,\n",
    "             x      = 'log_Porch_Area',\n",
    "             kde    = True)\n",
    "\n",
    "\n",
    "# displaying the histogram\n",
    "plt.show()"
   ]
  },
  {
   "cell_type": "markdown",
   "metadata": {
    "deletable": false,
    "editable": false,
    "run_control": {
     "frozen": true
    }
   },
   "source": [
    "<hr style=\"height:.9px;border:none;color:#333;background-color:#333;\" /><br>\n",
    "\n",
    "Let's take a moment to observe the effect of transformations on our modeling efforts. The codes below compare the original and logarithmic forms of <em>Sale_Price</em> and <em>Lot_Area</em>."
   ]
  },
  {
   "cell_type": "code",
   "execution_count": null,
   "metadata": {
    "deletable": false,
    "editable": false
   },
   "outputs": [],
   "source": [
    "## Original Y and Original X ##\n",
    "\n",
    "# INSTANTIATING a model type\n",
    "lm_price_qual = smf.ols(formula = \"\"\"Sale_Price ~ Lot_Area\"\"\",\n",
    "                        data = housing)\n",
    "\n",
    "\n",
    "# telling Python to FIT the data to the blueprint\n",
    "results = lm_price_qual.fit()\n",
    "\n",
    "\n",
    "# printing a summary of the results\n",
    "print(results.summary())"
   ]
  },
  {
   "cell_type": "markdown",
   "metadata": {
    "deletable": false,
    "editable": false,
    "run_control": {
     "frozen": true
    }
   },
   "source": [
    "<br>"
   ]
  },
  {
   "cell_type": "code",
   "execution_count": null,
   "metadata": {
    "deletable": false,
    "editable": false
   },
   "outputs": [],
   "source": [
    "## Log Y and Original X ##\n",
    "\n",
    "# INSTANTIATING a model type\n",
    "lm_price_qual = smf.ols(formula = \"\"\"log_Sale_Price ~ Lot_Area\"\"\",\n",
    "                        data = housing)\n",
    "\n",
    "\n",
    "# telling Python to FIT the data to the blueprint\n",
    "results = lm_price_qual.fit()\n",
    "\n",
    "\n",
    "# printing a summary of the results\n",
    "print(results.summary())"
   ]
  },
  {
   "cell_type": "markdown",
   "metadata": {
    "deletable": false,
    "editable": false,
    "run_control": {
     "frozen": true
    }
   },
   "source": [
    "<br>"
   ]
  },
  {
   "cell_type": "code",
   "execution_count": null,
   "metadata": {
    "deletable": false,
    "editable": false
   },
   "outputs": [],
   "source": [
    "## Original Y and Log X ##\n",
    "\n",
    "# INSTANTIATING a model type\n",
    "lm_price_qual = smf.ols(formula = \"\"\"Sale_Price ~ log_Lot_Area\"\"\",\n",
    "                        data = housing)\n",
    "\n",
    "\n",
    "# telling Python to FIT the data to the blueprint\n",
    "results = lm_price_qual.fit()\n",
    "\n",
    "\n",
    "# printing a summary of the results\n",
    "print(results.summary())"
   ]
  },
  {
   "cell_type": "markdown",
   "metadata": {
    "deletable": false,
    "editable": false,
    "run_control": {
     "frozen": true
    }
   },
   "source": [
    "<br>"
   ]
  },
  {
   "cell_type": "code",
   "execution_count": null,
   "metadata": {
    "deletable": false,
    "editable": false
   },
   "outputs": [],
   "source": [
    "## Log Y and Log X ##\n",
    "\n",
    "# INSTANTIATING a model type\n",
    "lm_price_qual = smf.ols(formula = \"\"\"log_Sale_Price ~ log_Lot_Area\"\"\",\n",
    "                        data = housing)\n",
    "\n",
    "\n",
    "# telling Python to FIT the data to the blueprint\n",
    "results = lm_price_qual.fit()\n",
    "\n",
    "\n",
    "# printing a summary of the results\n",
    "print(results.summary())"
   ]
  },
  {
   "cell_type": "markdown",
   "metadata": {
    "deletable": false,
    "editable": false,
    "run_control": {
     "frozen": true
    }
   },
   "source": [
    "<hr style=\"height:.9px;border:none;color:#333;background-color:#333;\" /><br>\n",
    "<h2>Team Challenge</h2>\n",
    "\n",
    "<h4>Develop one optimal linear model for each version of the response variable (&nbsp;<em>Sale_Price</em> and <em>log_Sale_Price</em>&nbsp;).</h4>\n",
    "\n",
    "* Use p-values as your feature significance criteria (&nbsp;<em>p</em> $\\le$ 0.05&nbsp;).\n",
    "* Optimize the model based on adjusted R-squared (<em>&nbsp;Adj. R-squared&nbsp;</em>)."
   ]
  },
  {
   "cell_type": "code",
   "execution_count": null,
   "metadata": {
    "deletable": false,
    "editable": false
   },
   "outputs": [],
   "source": [
    "# looping for an easier statsmodels input\n",
    "for feature in housing:\n",
    "    print(f'{feature} +')"
   ]
  },
  {
   "cell_type": "markdown",
   "metadata": {
    "deletable": false,
    "editable": false,
    "run_control": {
     "frozen": true
    }
   },
   "source": [
    "<br>"
   ]
  },
  {
   "cell_type": "code",
   "execution_count": null,
   "metadata": {
    "solution2": "hidden",
    "solution2_first": true
   },
   "outputs": [],
   "source": [
    "## optimal model using Sale_Price ##\n",
    "\n"
   ]
  },
  {
   "cell_type": "code",
   "execution_count": null,
   "metadata": {
    "deletable": false,
    "editable": false,
    "solution2": "hidden"
   },
   "outputs": [],
   "source": [
    "## Sample Solution ##\n",
    "\n",
    "# INSTANTIATING a model type\n",
    "lm_price_qual = smf.ols(formula = \"\"\"Sale_Price ~\n",
    "                                     Mas_Vnr_Area +\n",
    "                                     Total_Bsmt_SF +\n",
    "                                     Second_Flr_SF +\n",
    "                                     Garage_Area +\n",
    "                                     Porch_Area +\n",
    "                                     log_Total_Bsmt_SF +\n",
    "                                     log_First_Flr_SF\"\"\",\n",
    "                        data = housing)\n",
    "\n",
    "\n",
    "# telling Python to FIT the data to the blueprint\n",
    "results = lm_price_qual.fit()\n",
    "\n",
    "\n",
    "# printing a summary of the results\n",
    "print(results.summary())"
   ]
  },
  {
   "cell_type": "markdown",
   "metadata": {
    "deletable": false,
    "editable": false,
    "run_control": {
     "frozen": true
    }
   },
   "source": [
    "<br>"
   ]
  },
  {
   "cell_type": "code",
   "execution_count": null,
   "metadata": {
    "solution2": "hidden",
    "solution2_first": true
   },
   "outputs": [],
   "source": [
    "## optimal model using log_Sale_Price ##\n",
    "\n"
   ]
  },
  {
   "cell_type": "code",
   "execution_count": null,
   "metadata": {
    "deletable": false,
    "editable": false,
    "solution2": "hidden"
   },
   "outputs": [],
   "source": [
    "## Sample Solution ##\n",
    "\n",
    "# INSTANTIATING a model type\n",
    "lm_price_qual = smf.ols(formula = \"\"\"log_Sale_Price ~\n",
    "                                     Mas_Vnr_Area +\n",
    "                                     Total_Bsmt_SF +\n",
    "                                     Second_Flr_SF +\n",
    "                                     Gr_Liv_Area +\n",
    "                                     Garage_Area +\n",
    "                                     log_Mas_Vnr_Area +\n",
    "                                     log_First_Flr_SF +\n",
    "                                     log_Gr_Liv_Area +\n",
    "                                     log_Porch_Area\"\"\",\n",
    "                        data = housing)\n",
    "\n",
    "\n",
    "# telling Python to FIT the data to the blueprint\n",
    "results = lm_price_qual.fit()\n",
    "\n",
    "# printing a summary of the results\n",
    "print(results.summary())"
   ]
  },
  {
   "cell_type": "markdown",
   "metadata": {
    "deletable": false,
    "editable": false,
    "run_control": {
     "frozen": true
    }
   },
   "source": [
    "<br><br><hr style=\"height:.9px;border:none;color:#333;background-color:#333;\" /><hr style=\"height:.9px;border:none;color:#333;background-color:#333;\" /><br>\n",
    "\n",
    "~~~\n",
    "\n",
    "  _   _ _                                             \n",
    " | \\ | (_)                                            \n",
    " |  \\| |_  ___ ___                                    \n",
    " | . ` | |/ __/ _ \\                                   \n",
    " | |\\  | | (_|  __/                                   \n",
    " |_| \\_|_|\\___\\___|    _                              \n",
    " \\ \\        / /       | |                             \n",
    "  \\ \\  /\\  / /__  _ __| | __                          \n",
    "   \\ \\/  \\/ / _ \\| '__| |/ /                          \n",
    "    \\  /\\  / (_) | |  |   <                           \n",
    "  ___\\/_ \\/ \\___/|_|  |_|\\_\\_               _       _ \n",
    " |  ____|                  | |             | |     | |\n",
    " | |____   _____ _ __ _   _| |__   ___   __| |_   _| |\n",
    " |  __\\ \\ / / _ \\ '__| | | | '_ \\ / _ \\ / _` | | | | |\n",
    " | |___\\ V /  __/ |  | |_| | |_) | (_) | (_| | |_| |_|\n",
    " |______\\_/ \\___|_|   \\__, |_.__/ \\___/ \\__,_|\\__, (_)\n",
    "                       __/ |                   __/ |  \n",
    "                      |___/                   |___/   \n",
    "                                                                    \n",
    "~~~\n",
    "\n",
    "<br>\n",
    "<hr style=\"height:.9px;border:none;color:#333;background-color:#333;\" />\n",
    "<hr style=\"height:.9px;border:none;color:#333;background-color:#333;\" /><br>"
   ]
  },
  {
   "cell_type": "markdown",
   "metadata": {
    "deletable": false,
    "editable": false,
    "run_control": {
     "frozen": true
    }
   },
   "source": [
    "<br>"
   ]
  }
 ],
 "metadata": {
  "kernelspec": {
   "display_name": "Python 3 (ipykernel)",
   "language": "python",
   "name": "python3"
  },
  "language_info": {
   "codemirror_mode": {
    "name": "ipython",
    "version": 3
   },
   "file_extension": ".py",
   "mimetype": "text/x-python",
   "name": "python",
   "nbconvert_exporter": "python",
   "pygments_lexer": "ipython3",
   "version": "3.12.11"
  },
  "toc": {
   "base_numbering": 1,
   "nav_menu": {},
   "number_sections": false,
   "sideBar": true,
   "skip_h1_title": false,
   "title_cell": "Table of Contents",
   "title_sidebar": "Contents",
   "toc_cell": false,
   "toc_position": {
    "height": "calc(100% - 180px)",
    "left": "10px",
    "top": "150px",
    "width": "287.994px"
   },
   "toc_section_display": true,
   "toc_window_display": false
  },
  "varInspector": {
   "cols": {
    "lenName": 16,
    "lenType": 16,
    "lenVar": 40
   },
   "kernels_config": {
    "python": {
     "delete_cmd_postfix": "",
     "delete_cmd_prefix": "del ",
     "library": "var_list.py",
     "varRefreshCmd": "print(var_dic_list())"
    },
    "r": {
     "delete_cmd_postfix": ") ",
     "delete_cmd_prefix": "rm(",
     "library": "var_list.r",
     "varRefreshCmd": "cat(var_dic_list()) "
    }
   },
   "types_to_exclude": [
    "module",
    "function",
    "builtin_function_or_method",
    "instance",
    "_Feature"
   ],
   "window_display": false
  }
 },
 "nbformat": 4,
 "nbformat_minor": 2
}
