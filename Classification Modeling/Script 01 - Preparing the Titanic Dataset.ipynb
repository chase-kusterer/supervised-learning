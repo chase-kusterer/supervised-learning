{
 "cells": [
  {
   "cell_type": "markdown",
   "metadata": {
    "deletable": false,
    "editable": false,
    "run_control": {
     "frozen": true
    }
   },
   "source": [
    "<hr style=\"height:.9px;border:none;color:#333;background-color:#333;\" />\n",
    "<hr style=\"height:.9px;border:none;color:#333;background-color:#333;\" />\n",
    "\n",
    "<br><h2>Script 01 | Preparing the Titanic Dataset</h2>\n",
    "<br>\n",
    "Written by Chase Kusterer<br>\n",
    "<a href=\"https://github.com/chase-kusterer\">GitHub</a> | <a href=\"https://www.linkedin.com/in/kusterer/\">LinkedIn</a>\n",
    "<br><br><br>\n",
    "\n",
    "<hr style=\"height:.9px;border:none;color:#333;background-color:#333;\" />\n",
    "<hr style=\"height:.9px;border:none;color:#333;background-color:#333;\" />"
   ]
  },
  {
   "cell_type": "markdown",
   "metadata": {
    "deletable": false,
    "editable": false,
    "run_control": {
     "frozen": true
    }
   },
   "source": [
    "<h2>Part I: Preparation and Exploration</h2>\n",
    "\n",
    "The purpose of this notebook is to provide a review of many of the data preparation techniques covered in Computational Analytics.\n",
    "\n",
    "<h4>a) Imports and Loading the Dataset</h4>\n",
    "\n",
    "1. Import the following packages:\n",
    "    * numpy (as np)\n",
    "    * pandas (as pd)\n",
    "    * matplotlib.pyplot (as plt)\n",
    "    * seaborn (as sns)\n",
    "    * phik\n",
    "    <br><br>\n",
    "\n",
    "2. Load the <strong>titanic_exploration.xlsx</strong> dataset (which is in the <em>datasets</em> folder) as <strong>titanic</strong>."
   ]
  },
  {
   "cell_type": "code",
   "execution_count": null,
   "metadata": {
    "solution2": "hidden",
    "solution2_first": true
   },
   "outputs": [],
   "source": [
    "# importing libraries\n",
    "_____\n",
    "\n",
    "\n",
    "# loading data\n",
    "_____\n",
    "\n",
    "\n",
    "\n",
    "# setting pandas print options\n",
    "pd.set_option('display.max_rows', 500)\n",
    "pd.set_option('display.max_columns', 500)\n",
    "pd.set_option('display.width', 1000)\n",
    "pd.set_option('display.max_colwidth', 100)\n",
    "\n",
    "\n",
    "# checking dataset\n",
    "titanic.head(n = 5)"
   ]
  },
  {
   "cell_type": "code",
   "execution_count": null,
   "metadata": {
    "deletable": false,
    "editable": false,
    "solution2": "hidden"
   },
   "outputs": [],
   "source": [
    "# importing libraries\n",
    "import numpy             as np  # mathematical essentials\n",
    "import pandas            as pd  # data science essentials\n",
    "import matplotlib.pyplot as plt # data visualization\n",
    "import seaborn           as sns # enhanced data viz\n",
    "import phik                     # phi coefficient\n",
    "\n",
    "\n",
    "# loading data\n",
    "file = './datasets/titanic_exploration.xlsx'\n",
    "\n",
    "titanic = pd.read_excel(io     = file,\n",
    "                        header = 0   )\n",
    "\n",
    "\n",
    "\n",
    "# setting pandas print options\n",
    "pd.set_option('display.max_rows', 500)\n",
    "pd.set_option('display.max_columns', 500)\n",
    "pd.set_option('display.width', 1000)\n",
    "pd.set_option('display.max_colwidth', 100)\n",
    "\n",
    "\n",
    "# checking dataset\n",
    "titanic.head(n = 5)"
   ]
  },
  {
   "cell_type": "markdown",
   "metadata": {
    "deletable": false,
    "editable": false,
    "run_control": {
     "frozen": true
    }
   },
   "source": [
    "<hr style=\"height:.9px;border:none;color:#333;background-color:#333;\" /><br>\n",
    "\n",
    "<strong>User-Defined Functions</strong><br>\n",
    "Run the following code to instantiate the user-defined functions for this notebook."
   ]
  },
  {
   "cell_type": "code",
   "execution_count": null,
   "metadata": {
    "code_folding": [
     5,
     31
    ],
    "deletable": false,
    "editable": false
   },
   "outputs": [],
   "source": [
    "# user-defined functions\n",
    "\n",
    "#########################\n",
    "# mv_flagger\n",
    "#########################\n",
    "def mv_flagger(df):\n",
    "    \"\"\"\n",
    "    Flags all columns that have missing values with 'm-COLUMN_NAME'.\n",
    "\n",
    "    PARAMETERS\n",
    "    ----------\n",
    "    df : DataFrame to flag missing values\n",
    "\n",
    "\n",
    "    RETURNS\n",
    "    -------\n",
    "    DataFrame with missing value flags.\"\"\"\n",
    "\n",
    "\n",
    "    for col in df:\n",
    "\n",
    "        if df[col].isnull().astype(int).sum() > 0:\n",
    "            df['m_'+col] = df[col].isnull().astype(int)\n",
    "            \n",
    "    return df\n",
    "\n",
    "\n",
    "\n",
    "#########################\n",
    "# text_split_feature\n",
    "#########################\n",
    "def text_split_feature(col, df, sep=' ', new_col_name=''):\n",
    "    \"\"\"\n",
    "    Splits values in a string Series (as part of a DataFrame) and sums the number\n",
    "    of resulting items. Automatically appends summed column to original DataFrame.\n",
    "\n",
    "    PARAMETERS\n",
    "    ----------\n",
    "    col          : column to split\n",
    "    df           : DataFrame where column is located\n",
    "    sep          : string sequence to split by, default ' '\n",
    "    new_col_name : name of new column after summing split, default\n",
    "                   'number_of_names'\n",
    "    \"\"\"\n",
    "    \n",
    "    df[new_col_name] = 0\n",
    "    \n",
    "    \n",
    "    for index, val in df.iterrows():\n",
    "        df.loc[index, new_col_name] = len(df.loc[index, col].split(sep = ' '))"
   ]
  },
  {
   "cell_type": "markdown",
   "metadata": {
    "deletable": false,
    "editable": false,
    "run_control": {
     "frozen": true
    }
   },
   "source": [
    "<hr style=\"height:.9px;border:none;color:#333;background-color:#333;\" /><br>\n",
    "\n",
    "<strong>Important Note</strong><br> In real world applications, our first step would be to analyze the dataset for dirty data. Generally speaking, this requires a high degree of domain knowledge to properly conduct. Given that this is a historic dataset (and in the interest of time), we will assume this step has already been conducted and move forward into other forms of anomaly detection. Keep in mind, however, that analysts can discover tremendous value from a thorough inspection of data quality, and it is ill-advised to rush through this step.\n",
    "<br><br>\n",
    "<strong>Removing Irrelevant Features</strong><br>\n",
    "It is very common for datasets to contain features that are irrelevant to the problem you are trying to solve. For example, if you were tasked with predicting the birth weight of newborn babies and your dataset has features that occur after a baby is born, such features should be deemed irrelevant. This is mostly due to the fact that this information would not be available at the <strong>event horizon</strong> (a baby being born). Note, however, that such features could be very useful in other analytical problems.\n",
    "<br><br>\n",
    "This also brings up philosophical questions as to when the <strong>event horizon</strong> has occurred (the event we are trying to predict). If we were tasked with predicting revenue generated from customer purchases, should we include purchases that were later refunded? What about items that were on discount or given away as a promotional endeavor? <strong>In terms of the Titanic disaster, at what point did the event horizon occur?</strong> Was it when the ship collided with an iceberg? Was it after all survivors were safely on board other ships? Did it end after passengers arrived at their final destinations? Such explorations into the  problem make a huge difference in terms of its resulting solution.<br><br>\n",
    "<h4>b) Import the Titanic data dictionary</h4>\n",
    "Import the Titanic data dictionary from the <em>documentation</em> folder (&nbsp;<strong>titanic_data_dictionary.xlsx</strong>&nbsp;) and determine which features occur after passenger survival has been determined."
   ]
  },
  {
   "cell_type": "code",
   "execution_count": null,
   "metadata": {
    "solution2": "hidden",
    "solution2_first": true
   },
   "outputs": [],
   "source": [
    "# instantiating data dictionary\n",
    "file = _____\n",
    "\n",
    "titanic_description = _____\n",
    "\n",
    "\n",
    "# displaying data dictionary\n",
    "titanic_description"
   ]
  },
  {
   "cell_type": "code",
   "execution_count": null,
   "metadata": {
    "deletable": false,
    "editable": false,
    "solution2": "hidden"
   },
   "outputs": [],
   "source": [
    "# instantiating data dictionary\n",
    "file = './documentation/titanic_data_dictionary.xlsx'\n",
    "\n",
    "titanic_description = pd.read_excel(io = file ,\n",
    "                                    header = 0)\n",
    "\n",
    "\n",
    "# displaying data dictionary\n",
    "titanic_description"
   ]
  },
  {
   "cell_type": "markdown",
   "metadata": {
    "deletable": false,
    "editable": false,
    "run_control": {
     "frozen": true
    }
   },
   "source": [
    "<hr style=\"height:.9px;border:none;color:#333;background-color:#333;\" /><br>\n",
    "\n",
    "<h4>c) Dropping Irrelevant Features</h4>\n",
    "Drop features occurred after the event horizon."
   ]
  },
  {
   "cell_type": "code",
   "execution_count": null,
   "metadata": {
    "solution2": "hidden",
    "solution2_first": true
   },
   "outputs": [],
   "source": [
    "# dropping post-event horizon features\n",
    "titanic = titanic.drop(labels = _____,\n",
    "                       axis   = _____)\n",
    "\n",
    "\n",
    "# checking results\n",
    "titanic.columns"
   ]
  },
  {
   "cell_type": "code",
   "execution_count": null,
   "metadata": {
    "deletable": false,
    "editable": false,
    "solution2": "hidden"
   },
   "outputs": [],
   "source": [
    "# dropping post-event horizon features\n",
    "titanic = titanic.drop(labels = 'body',\n",
    "                       axis   = 1     )\n",
    "\n",
    "\n",
    "# checking results\n",
    "titanic.columns"
   ]
  },
  {
   "cell_type": "markdown",
   "metadata": {
    "deletable": false,
    "editable": false,
    "run_control": {
     "frozen": true
    }
   },
   "source": [
    "<hr style=\"height:.9px;border:none;color:#333;background-color:#333;\" /><br>\n",
    "\n",
    "<h2>Part II - Data Preparation</h2>\n",
    "<h4>a) Missing Value Detection</h4>\n",
    "Explore the dataset for missing values using <strong>isnull(&nbsp;)</strong> and <strong>sum(&nbsp;)</strong>."
   ]
  },
  {
   "cell_type": "code",
   "execution_count": null,
   "metadata": {
    "solution2": "hidden",
    "solution2_first": true
   },
   "outputs": [],
   "source": [
    "# checking each feature for missing values\n",
    "_____._____._____"
   ]
  },
  {
   "cell_type": "code",
   "execution_count": null,
   "metadata": {
    "deletable": false,
    "editable": false,
    "solution2": "hidden"
   },
   "outputs": [],
   "source": [
    "# checking each feature for missing values\n",
    "titanic.isnull().sum(axis = 0)"
   ]
  },
  {
   "cell_type": "markdown",
   "metadata": {
    "deletable": false,
    "editable": false,
    "run_control": {
     "frozen": true
    }
   },
   "source": [
    "<hr style=\"height:.9px;border:none;color:#333;background-color:#333;\" /><br>\n",
    "\n",
    "<h4>b) Flagging Missing Values</h4>\n",
    "Run the <strong>mv_flagger(&nbsp;)</strong> function on the titanic dataset. Save the resulting DataFrame as <strong>titanic</strong>."
   ]
  },
  {
   "cell_type": "code",
   "execution_count": null,
   "metadata": {
    "deletable": false,
    "editable": false
   },
   "outputs": [],
   "source": [
    "help(mv_flagger)"
   ]
  },
  {
   "cell_type": "markdown",
   "metadata": {
    "deletable": false,
    "editable": false,
    "run_control": {
     "frozen": true
    }
   },
   "source": [
    "<br>"
   ]
  },
  {
   "cell_type": "code",
   "execution_count": null,
   "metadata": {
    "solution2": "hidden",
    "solution2_first": true
   },
   "outputs": [],
   "source": [
    "# running the mv_flagger function\n",
    "titanic = _____(_____)\n",
    "\n",
    "\n",
    "# checking results\n",
    "titanic.columns"
   ]
  },
  {
   "cell_type": "code",
   "execution_count": null,
   "metadata": {
    "deletable": false,
    "editable": false,
    "solution2": "hidden"
   },
   "outputs": [],
   "source": [
    "# running the mv_flagger function\n",
    "titanic = mv_flagger(df = titanic)\n",
    "\n",
    "\n",
    "# checking results\n",
    "titanic.columns"
   ]
  },
  {
   "cell_type": "markdown",
   "metadata": {
    "deletable": false,
    "editable": false,
    "run_control": {
     "frozen": true
    }
   },
   "source": [
    "<hr style=\"height:.9px;border:none;color:#333;background-color:#333;\" /><br>\n",
    "\n",
    "<h4>c) Develop missing value and categorical encoding strategies.</h4>\n",
    "Use the code cell below to develop your strategies."
   ]
  },
  {
   "cell_type": "code",
   "execution_count": null,
   "metadata": {
    "solution2": "hidden",
    "solution2_first": true
   },
   "outputs": [],
   "source": [
    "# pclass    - \n",
    "# name      - \n",
    "# sex       - \n",
    "# age       - \n",
    "# cabin     - \n",
    "# boat      - \n",
    "# home.dest - "
   ]
  },
  {
   "cell_type": "code",
   "execution_count": null,
   "metadata": {
    "deletable": false,
    "editable": false,
    "solution2": "hidden"
   },
   "outputs": [],
   "source": [
    "# pclass    - (categorical) one-hot encode, drop original\n",
    "# name      - (discrete) feature out, drop original\n",
    "# sex       - (categorical) one-hot encode, drop original\n",
    "# age       - (continuous) impute\n",
    "# cabin     - (discrete) drop (very dirty; insufficient domain knowledge)\n",
    "# boat      - (categorical) drop (very dirty; insufficient domain knowledge)\n",
    "# home.dest - (categorical) impute with 'Unknown', then one-hot encode"
   ]
  },
  {
   "cell_type": "markdown",
   "metadata": {
    "deletable": false,
    "editable": false,
    "run_control": {
     "frozen": true
    }
   },
   "source": [
    "<hr style=\"height:.9px;border:none;color:#333;background-color:#333;\" /><br>\n",
    "\n",
    "<h4>Imputing with Information from Other Features</h4>\n",
    "The following code exemplifies how to apply information from other features in an imputation strategy. The feature <strong>potential_youth</strong> was derived from finding the titles 'Miss.' or 'Master' in <strong>name</strong>. At the time of the Titanic disaster, these titles were given to children and unmarried adults."
   ]
  },
  {
   "cell_type": "code",
   "execution_count": null,
   "metadata": {
    "deletable": false,
    "editable": false
   },
   "outputs": [],
   "source": [
    "# creating potential youth column\n",
    "titanic['potential_youth'] = 0\n",
    "\n",
    "# looping to find Miss. and Master\n",
    "for index, val in titanic.iterrows():\n",
    "    \n",
    "    # checking for Miss.\n",
    "    if 'Miss.' in titanic.loc[ index , 'name']:\n",
    "        titanic.loc[index, 'potential_youth'] = 1\n",
    "        \n",
    "    # checking for Master\n",
    "    elif 'Master' in titanic.loc[ index , 'name']:\n",
    "        titanic.loc[index, 'potential_youth'] = 1\n",
    "\n",
    "        \n",
    "# checking results\n",
    "print(f\"\"\"\n",
    "Mean Age:                     {round(titanic.loc[ : , 'age'].mean(),1)}\n",
    "Mean Male Age:                {round(titanic.loc[ : , 'age'][titanic['sex'] == 'male'].mean(),1)}\n",
    "Mean Female Age:              {round(titanic.loc[ : , 'age'][titanic['sex'] == 'female'].mean(),1)}\n",
    "Mean Potential Youth Age:     {round(titanic.loc[ : , 'age'][titanic['potential_youth'] == 1].mean(),1)}\n",
    "Mean NOT Potential Youth Age: {round(titanic.loc[ : , 'age'][titanic['potential_youth'] != 1][titanic['sex'] == 'female'].mean(),1)}\n",
    "\"\"\")"
   ]
  },
  {
   "cell_type": "markdown",
   "metadata": {
    "deletable": false,
    "editable": false,
    "run_control": {
     "frozen": true
    }
   },
   "source": [
    "<br>"
   ]
  },
  {
   "cell_type": "code",
   "execution_count": null,
   "metadata": {
    "deletable": false,
    "editable": false
   },
   "outputs": [],
   "source": [
    "# checking value counts for potential youth\n",
    "titanic['potential_youth'].value_counts(normalize = False,\n",
    "                                        sort      = False,\n",
    "                                        ascending = False)"
   ]
  },
  {
   "cell_type": "markdown",
   "metadata": {
    "deletable": false,
    "editable": false,
    "run_control": {
     "frozen": true
    }
   },
   "source": [
    "<hr style=\"height:.9px;border:none;color:#333;background-color:#333;\" /><br>\n",
    "\n",
    "The following code has been prepared for you. Its purpose is to use the information above to impute age."
   ]
  },
  {
   "cell_type": "code",
   "execution_count": null,
   "metadata": {
    "deletable": false,
    "editable": false
   },
   "outputs": [],
   "source": [
    "## advanced missing value strategy ##\n",
    "\n",
    "# avg age - female and Miss. in name\n",
    "miss_female_avg_age = round(titanic.loc[ : , 'age']\\\n",
    "                           [titanic['potential_youth'] == 1]\\\n",
    "                           [titanic['sex'] == 'female'].mean(),\n",
    "                            ndigits = 1)\n",
    "\n",
    "\n",
    "# avg age - male and Master name\n",
    "master_male_avg_age = round(titanic.loc[ : , 'age']\\\n",
    "                           [titanic['potential_youth'] == 1]\\\n",
    "                           [titanic['sex'] == 'male'].mean(),\n",
    "                            ndigits = 1)\n",
    "\n",
    "\n",
    "# avg age - female and NOT Miss. in name\n",
    "not_Miss_female_avg_age   = round(titanic.loc[ : , 'age']\\\n",
    "                                [titanic['potential_youth'] != 1]\\\n",
    "                                [titanic['sex'] == 'female'].mean(),\n",
    "                                 ndigits = 1)\n",
    "\n",
    "\n",
    "# avg age - male and NOT Master in name\n",
    "not_Master_male_avg_age   = round(titanic.loc[ : , 'age']\\\n",
    "                                [titanic['potential_youth'] != 1]\\\n",
    "                                [titanic['sex'] == 'male'].mean(),\n",
    "                                 ndigits = 1)"
   ]
  },
  {
   "cell_type": "markdown",
   "metadata": {
    "deletable": false,
    "editable": false,
    "run_control": {
     "frozen": true
    }
   },
   "source": [
    "<br>"
   ]
  },
  {
   "cell_type": "code",
   "execution_count": null,
   "metadata": {
    "deletable": false,
    "editable": false
   },
   "outputs": [],
   "source": [
    "print(f\"\"\"\n",
    "Average Ages\n",
    "------------\n",
    "Female w   Miss: {miss_female_avg_age}\n",
    "Female w/o Miss: {not_Miss_female_avg_age}\n",
    "\n",
    "Male w   Master: {master_male_avg_age}\n",
    "Male w/o Master: {not_Master_male_avg_age}\n",
    "\n",
    "\"\"\")"
   ]
  },
  {
   "cell_type": "markdown",
   "metadata": {
    "deletable": false,
    "editable": false,
    "run_control": {
     "frozen": true
    }
   },
   "source": [
    "<br>"
   ]
  },
  {
   "cell_type": "code",
   "execution_count": null,
   "metadata": {
    "code_folding": [],
    "deletable": false,
    "editable": false
   },
   "outputs": [],
   "source": [
    "# imputing missing values for age\n",
    "for index, val in titanic.iterrows():\n",
    "\n",
    "    \n",
    "    # female and Miss.\n",
    "    if str(titanic.loc[index, 'age']).lower()    == 'nan'    and \\\n",
    "           titanic.loc[index, 'sex']             == 'female' and \\\n",
    "           titanic.loc[index, 'potential_youth'] == 1:\n",
    "        \n",
    "           titanic.loc[index, 'age'] = miss_female_avg_age\n",
    "            \n",
    "    \n",
    "\n",
    "    # male and Master\n",
    "    elif str(titanic.loc[index, 'age']).lower()    == 'nan'  and \\\n",
    "             titanic.loc[index, 'sex']             == 'male' and \\\n",
    "             titanic.loc[index, 'potential_youth'] == 1:\n",
    "        \n",
    "             titanic.loc[index, 'age'] = master_male_avg_age   \n",
    "    \n",
    "    \n",
    "    # female and NOT Miss.\n",
    "    elif str(titanic.loc[index, 'age']).lower()    == 'nan'    and \\\n",
    "             titanic.loc[index, 'sex']             == 'female' and \\\n",
    "             titanic.loc[index, 'potential_youth'] != 1:\n",
    "        \n",
    "             titanic.loc[index, 'age'] = not_Miss_female_avg_age\n",
    "\n",
    "            \n",
    "    # male and NOT Master\n",
    "    elif str(titanic.loc[index, 'age']).lower()    == 'nan'  and \\\n",
    "             titanic.loc[index, 'sex']             == 'male' and \\\n",
    "             titanic.loc[index, 'potential_youth'] != 1:\n",
    "        \n",
    "             titanic.loc[index, 'age'] = not_Master_male_avg_age\n",
    "            \n",
    "\n",
    "# ensuring all missing values for age are taken care of\n",
    "print(f\"Remaining missing values for age: {titanic.loc[ :, 'age'].isnull().sum()}\")"
   ]
  },
  {
   "cell_type": "markdown",
   "metadata": {
    "deletable": false,
    "editable": false,
    "run_control": {
     "frozen": true
    }
   },
   "source": [
    "<hr style=\"height:.9px;border:none;color:#333;background-color:#333;\" /><br>\n",
    "\n",
    "<h4>d) Impute <strong>home_dest</strong> with 'Unknown'.</h4>"
   ]
  },
  {
   "cell_type": "code",
   "execution_count": null,
   "metadata": {
    "solution2": "hidden",
    "solution2_first": true
   },
   "outputs": [],
   "source": [
    "# imputing missing values\n",
    "_____\n",
    "\n",
    "\n",
    "# checking results\n",
    "titanic['home_dest'].isnull().sum(axis = 0)"
   ]
  },
  {
   "cell_type": "code",
   "execution_count": null,
   "metadata": {
    "deletable": false,
    "editable": false,
    "solution2": "hidden"
   },
   "outputs": [],
   "source": [
    "# imputing missing values\n",
    "titanic['home_dest'] = titanic['home_dest'].fillna(value = 'Unknown')\n",
    "\n",
    "\n",
    "# checking results\n",
    "titanic['home_dest'].isnull().sum(axis = 0)"
   ]
  },
  {
   "cell_type": "markdown",
   "metadata": {
    "deletable": false,
    "editable": false,
    "run_control": {
     "frozen": true
    }
   },
   "source": [
    "<hr style=\"height:.9px;border:none;color:#333;background-color:#333;\" /><br>\n",
    "\n",
    "<h4>e) Perform one-hot encoding on features where it has been deemed appropriate.</h4>"
   ]
  },
  {
   "cell_type": "code",
   "execution_count": null,
   "metadata": {
    "solution2": "hidden",
    "solution2_first": true
   },
   "outputs": [],
   "source": [
    "# one hot encoding variables\n",
    "one_hot_pclass = _____._____(data = _____)\n",
    "one_hot_sex    = _____._____(data = _____)\n",
    "\n",
    "\n",
    "# joining codings together\n",
    "titanic = titanic.join(other = [_____, _____])\n",
    "\n",
    "\n",
    "# checking results\n",
    "titanic.columns"
   ]
  },
  {
   "cell_type": "code",
   "execution_count": null,
   "metadata": {
    "deletable": false,
    "editable": false,
    "solution2": "hidden"
   },
   "outputs": [],
   "source": [
    "# one hot encoding variables\n",
    "one_hot_pclass = pd.get_dummies(data = titanic['pclass'])\n",
    "one_hot_sex    = pd.get_dummies(data = titanic['sex'])\n",
    "\n",
    "\n",
    "# joining codings together\n",
    "titanic = titanic.join(other = [one_hot_pclass, one_hot_sex])\n",
    "\n",
    "\n",
    "# checking results\n",
    "titanic.columns"
   ]
  },
  {
   "cell_type": "markdown",
   "metadata": {
    "deletable": false,
    "editable": false,
    "run_control": {
     "frozen": true
    }
   },
   "source": [
    "<hr style=\"height:.9px;border:none;color:#333;background-color:#333;\" /><br>\n",
    "\n",
    "Run the following code to rename the features in the titanic dataset."
   ]
  },
  {
   "cell_type": "code",
   "execution_count": null,
   "metadata": {
    "deletable": false,
    "editable": false
   },
   "outputs": [],
   "source": [
    "# relabeling columns\n",
    "titanic.columns = ['pclass', 'survived', 'name', 'sex', 'age', 'sibsp',\n",
    "                   'parch', 'fare', 'cabin', 'embarked', 'boat', 'home_dest',\n",
    "                   'm_age', 'm_cabin', 'm_boat', 'm_home_dest',\n",
    "                   'potential_youth', 'pclass_1', 'pclass_2', 'pclass_3',\n",
    "                   'female', 'male']\n",
    "\n",
    "\n",
    "# checking results\n",
    "titanic.columns"
   ]
  },
  {
   "cell_type": "markdown",
   "metadata": {
    "deletable": false,
    "editable": false,
    "run_control": {
     "frozen": true
    }
   },
   "source": [
    "<hr style=\"height:.9px;border:none;color:#333;background-color:#333;\" /><br>\n",
    "\n",
    "<h2>Part III - Feature Engineering</h2>\n",
    "<h4>a) Develop a new feature to capture whether a passenger was under the age of 18.</h4>\n",
    "Although we have already developed a feature to identify passengers that are potentially still in their youth, it may be valuable to also develop a threshold to separate children from adults by age. Then, we can compare the value of these features later in our analysis. Remember that we are also looking for a point where we have at least 100 observations in each part of a newly-developed feature. For <strong>age</strong>, this is attained at a threshold of 18."
   ]
  },
  {
   "cell_type": "code",
   "execution_count": null,
   "metadata": {
    "solution2": "hidden",
    "solution2_first": true
   },
   "outputs": [],
   "source": [
    "# placeholder for 'child' feature\n",
    "titanic['under_18'] = 0\n",
    "\n",
    "\n",
    "# replacing values based on a condition\n",
    "_____ # hint: use iterrows()\n",
    "\n",
    "\n",
    "# checking results\n",
    "titanic['under_18'].value_counts(normalize = False,\n",
    "                              sort      = False,\n",
    "                              ascending = False)"
   ]
  },
  {
   "cell_type": "code",
   "execution_count": null,
   "metadata": {
    "deletable": false,
    "editable": false,
    "solution2": "hidden"
   },
   "outputs": [],
   "source": [
    "# placeholder for 'child' feature\n",
    "titanic['under_18'] = 0\n",
    "\n",
    "\n",
    "# replacing values based on a condition\n",
    "for index, val in titanic.iterrows():\n",
    "    if titanic.loc[index,  'age']      < 18:\n",
    "        titanic.loc[index, 'under_18'] = 1\n",
    "\n",
    "\n",
    "# checking results\n",
    "titanic['under_18'].value_counts(normalize = False,\n",
    "                                 sort      = False,\n",
    "                                 ascending = False)"
   ]
  },
  {
   "cell_type": "markdown",
   "metadata": {
    "deletable": false,
    "editable": false,
    "run_control": {
     "frozen": true
    }
   },
   "source": [
    "<hr style=\"height:.9px;border:none;color:#333;background-color:#333;\" /><br>\n",
    "\n",
    "<h4>b) Develop a number of names feature.</h4>\n",
    "Use the <em>text_split_feature</em> function defined at the beginning of this notebook to develop a new feature. This feature will be a count of the number of words in a passenger's <strong>name</strong>, based on blank spaces."
   ]
  },
  {
   "cell_type": "code",
   "execution_count": 1,
   "metadata": {
    "collapsed": true,
    "deletable": false,
    "editable": false
   },
   "outputs": [
    {
     "ename": "NameError",
     "evalue": "name 'text_split_feature' is not defined",
     "output_type": "error",
     "traceback": [
      "\u001b[0;31m---------------------------------------------------------------------------\u001b[0m",
      "\u001b[0;31mNameError\u001b[0m                                 Traceback (most recent call last)",
      "Cell \u001b[0;32mIn[1], line 1\u001b[0m\n\u001b[0;32m----> 1\u001b[0m help(text_split_feature)\n",
      "\u001b[0;31mNameError\u001b[0m: name 'text_split_feature' is not defined"
     ]
    }
   ],
   "source": [
    "help(text_split_feature)"
   ]
  },
  {
   "cell_type": "markdown",
   "metadata": {
    "deletable": false,
    "editable": false,
    "run_control": {
     "frozen": true
    }
   },
   "source": [
    "<br>"
   ]
  },
  {
   "cell_type": "code",
   "execution_count": null,
   "metadata": {
    "solution2": "hidden",
    "solution2_first": true
   },
   "outputs": [],
   "source": [
    "# calling text_split_feature\n",
    "_____\n",
    "\n",
    "\n",
    "# checking results\n",
    "titanic['number_of_names']._____.sort_index()"
   ]
  },
  {
   "cell_type": "code",
   "execution_count": null,
   "metadata": {
    "deletable": false,
    "editable": false,
    "solution2": "hidden"
   },
   "outputs": [],
   "source": [
    "# calling text_split_feature\n",
    "text_split_feature(col = 'name',\n",
    "                   df  = titanic,\n",
    "                   new_col_name = number_of_names)\n",
    "\n",
    "\n",
    "# checking results\n",
    "titanic['number_of_names'].value_counts(normalize = False,\n",
    "                                        sort      = False,\n",
    "                                        ascending = False).sort_index()"
   ]
  },
  {
   "cell_type": "markdown",
   "metadata": {
    "deletable": false,
    "editable": false,
    "run_control": {
     "frozen": true
    }
   },
   "source": [
    "<hr style=\"height:.9px;border:none;color:#333;background-color:#333;\" /><br>\n",
    "\n",
    "<h4>c) Analyze passengers whose names are at least seven words long.</h4>"
   ]
  },
  {
   "cell_type": "code",
   "execution_count": null,
   "metadata": {
    "solution2": "hidden",
    "solution2_first": true
   },
   "outputs": [],
   "source": [
    "## code here ##\n",
    "_____"
   ]
  },
  {
   "cell_type": "code",
   "execution_count": null,
   "metadata": {
    "deletable": false,
    "editable": false,
    "solution2": "hidden"
   },
   "outputs": [],
   "source": [
    "# passengers with long names\n",
    "titanic['name'][ titanic['number_of_names'] >= 7]"
   ]
  },
  {
   "cell_type": "markdown",
   "metadata": {
    "deletable": false,
    "editable": false,
    "run_control": {
     "frozen": true
    }
   },
   "source": [
    "<hr style=\"height:.9px;border:none;color:#333;background-color:#333;\" /><br>\n",
    "\n",
    "Run the code below to drop some of the original features from the dataset."
   ]
  },
  {
   "cell_type": "code",
   "execution_count": null,
   "metadata": {
    "deletable": false,
    "editable": false
   },
   "outputs": [],
   "source": [
    "# dropping features after encoding\n",
    "titanic = titanic.drop(['pclass', 'name', 'sex', 'cabin',\n",
    "                        'boat', 'home_dest', 'embarked'], axis = 1)\n",
    "\n",
    "\n",
    "# checking results\n",
    "titanic.columns"
   ]
  },
  {
   "cell_type": "markdown",
   "metadata": {
    "deletable": false,
    "editable": false,
    "run_control": {
     "frozen": true
    }
   },
   "source": [
    "<hr style=\"height:.9px;border:none;color:#333;background-color:#333;\" /><br>\n",
    "\n",
    "<h2>Part IV - Response Variable Analysis</h2><br>\n",
    "Run the following codes to generate survival proportions."
   ]
  },
  {
   "cell_type": "code",
   "execution_count": null,
   "metadata": {
    "deletable": false,
    "editable": false
   },
   "outputs": [],
   "source": [
    "# proportion of 1s and 0s for survived\n",
    "titanic.value_counts(subset    = 'survived',\n",
    "                     normalize = True      ).round(decimals = 2)"
   ]
  },
  {
   "cell_type": "markdown",
   "metadata": {
    "deletable": false,
    "editable": false,
    "run_control": {
     "frozen": true
    }
   },
   "source": [
    "<br>"
   ]
  },
  {
   "cell_type": "code",
   "execution_count": null,
   "metadata": {
    "deletable": false,
    "editable": false
   },
   "outputs": [],
   "source": [
    "# proportion of 1s and 0s\n",
    "female_passengers = titanic[ titanic['female'] == 1 ]\n",
    "\n",
    "female_passengers.value_counts(\n",
    "    subset    = 'survived',\n",
    "    normalize = True      ).round(decimals = 2).sort_index(ascending = True)"
   ]
  },
  {
   "cell_type": "markdown",
   "metadata": {
    "deletable": false,
    "editable": false,
    "run_control": {
     "frozen": true
    }
   },
   "source": [
    "<br>"
   ]
  },
  {
   "cell_type": "code",
   "execution_count": null,
   "metadata": {
    "deletable": false,
    "editable": false
   },
   "outputs": [],
   "source": [
    "# proportion of 1s and 0s\n",
    "male_passengers = titanic[ titanic['female'] == 0 ]\n",
    "\n",
    "male_passengers.value_counts(\n",
    "    subset    = 'survived',\n",
    "    normalize = True      ).round(decimals = 2).sort_index(ascending = True)"
   ]
  },
  {
   "cell_type": "markdown",
   "metadata": {
    "deletable": false,
    "editable": false,
    "run_control": {
     "frozen": true
    }
   },
   "source": [
    "<hr style=\"height:.9px;border:none;color:#333;background-color:#333;\" /><br>\n",
    "Not surprisingly, a considerably larger proportion of female passengers survived when compared to male passengers. Let's check the strength of the correlation between survival and being female. Note that both <em>survived</em> and <em>female</em> can only take on values of 0 or 1. This is known as a <strong>bivariate association and not a correlation</strong>. Furthermore, if one feature is continuous and the other can only take on a value of 0 or 1, it would be a <strong>point-biserial correlation</strong> (Pearson correlation can be applied for this calculation). While we can still use Pearson correlation get a somewhat similar result, <strong>it is more appropriate to use the <a href=\"https://en.wikipedia.org/wiki/Phi_coefficient\">phi coefficient</a> in cases like these.</strong>"
   ]
  },
  {
   "cell_type": "code",
   "execution_count": null,
   "metadata": {
    "deletable": false,
    "editable": false
   },
   "outputs": [],
   "source": [
    "# using Pearson correlation\n",
    "titanic_corr = titanic.corr(method = 'pearson').round(decimals = 4)\n",
    "\n",
    "\n",
    "# checking results\n",
    "titanic_corr.loc[ : , 'survived' ].sort_values(ascending = False)"
   ]
  },
  {
   "cell_type": "markdown",
   "metadata": {
    "deletable": false,
    "editable": false,
    "run_control": {
     "frozen": true
    }
   },
   "source": [
    "<br>"
   ]
  },
  {
   "cell_type": "code",
   "execution_count": null,
   "metadata": {
    "deletable": false,
    "editable": false
   },
   "outputs": [],
   "source": [
    "# using the phi coefficient for correlation\n",
    "titanic_phi_corr = titanic.phik_matrix().round(decimals = 4)\n",
    "\n",
    "\n",
    "# checking results\n",
    "titanic_phi_corr.loc[ : , 'survived' ].sort_values(ascending = False)"
   ]
  },
  {
   "cell_type": "markdown",
   "metadata": {
    "deletable": false,
    "editable": false,
    "run_control": {
     "frozen": true
    }
   },
   "source": [
    "<hr style=\"height:.9px;border:none;color:#333;background-color:#333;\" />\n",
    "In short, Pearson correlation is for continuous features and the phi coefficient is for non-continuous features. This is taken advantage of in the code below. Note that <em>survived</em> is in both sets since it is the response variable.<br>\n",
    "\n",
    "<h4>a) Complete the code below to develop Pearson correlations and phi coefficients for the appropriate features.</h4>"
   ]
  },
  {
   "cell_type": "code",
   "execution_count": null,
   "metadata": {
    "solution2": "hidden",
    "solution2_first": true
   },
   "outputs": [],
   "source": [
    "# creating feature sets\n",
    "continuous     = ['survived', 'age', 'fare']\n",
    "\n",
    "non_continuous = ['survived', 'sibsp', 'parch', 'm_age', 'm_cabin',\n",
    "                  'm_boat','m_home_dest', 'potential_youth', 'under_18',\n",
    "                  'number_of_names', 'pclass_1', 'pclass_2', 'pclass_3',\n",
    "                  'female', 'male']\n",
    "\n",
    "\n",
    "# pearson correlation\n",
    "titanic_corr = titanic[ _____ ]._____.round(decimals = 4)\n",
    "\n",
    "\n",
    "# phi coefficient\n",
    "titanic_phi_corr = titanic[ _____ ]._____.round(decimals = 4)\n",
    "\n",
    "\n",
    "# checking results\n",
    "print(f\"\"\"\n",
    "Point-Biserial Correlations\n",
    "---------------------------\n",
    "{titanic_corr.loc[ : , 'survived' ].sort_values(ascending = False)}\n",
    "\n",
    "\n",
    "Phi Coefficients\n",
    "----------------\n",
    "{titanic_phi_corr.loc[ : , 'survived' ].sort_values(ascending = False)}\n",
    "\"\"\")"
   ]
  },
  {
   "cell_type": "code",
   "execution_count": null,
   "metadata": {
    "deletable": false,
    "editable": false,
    "solution2": "hidden"
   },
   "outputs": [],
   "source": [
    "# creating feature sets\n",
    "continuous     = ['survived', 'age', 'fare']\n",
    "\n",
    "non_continuous = ['survived', 'sibsp', 'parch', 'm_age', 'm_cabin',\n",
    "                  'm_boat','m_home_dest', 'potential_youth', 'under_18',\n",
    "                  'number_of_names', 'pclass_1', 'pclass_2', 'pclass_3',\n",
    "                  'female', 'male']\n",
    "\n",
    "\n",
    "# pearson correlation\n",
    "titanic_corr = titanic[ continuous ].corr(method = 'pearson').round(decimals = 4)\n",
    "\n",
    "\n",
    "# phi coefficient\n",
    "titanic_phi_corr = titanic[ non_continuous ].phik_matrix(interval_cols = non_continuous).round(decimals = 4)\n",
    "\n",
    "\n",
    "# checking results\n",
    "print(f\"\"\"\n",
    "Point-Biserial Correlations\n",
    "---------------------------\n",
    "{titanic_corr.loc[ : , 'survived' ].sort_values(ascending = False)}\n",
    "\n",
    "\n",
    "Phi Coefficients\n",
    "----------------\n",
    "{titanic_phi_corr.loc[ : , 'survived' ].sort_values(ascending = False)}\n",
    "\"\"\")"
   ]
  },
  {
   "cell_type": "markdown",
   "metadata": {
    "deletable": false,
    "editable": false,
    "run_control": {
     "frozen": true
    }
   },
   "source": [
    "<hr style=\"height:.9px;border:none;color:#333;background-color:#333;\" /><br>\n",
    "\n",
    "<strong>Storing the dataset changes as an Excel file.</strong>"
   ]
  },
  {
   "cell_type": "code",
   "execution_count": null,
   "metadata": {
    "deletable": false,
    "editable": false
   },
   "outputs": [],
   "source": [
    "# saving results (new file name in case you made changes to the above)\n",
    "titanic.to_excel('./datasets/titanic_feature_rich_2.xlsx',\n",
    "                 index = False)"
   ]
  },
  {
   "cell_type": "markdown",
   "metadata": {
    "deletable": false,
    "editable": false,
    "run_control": {
     "frozen": true
    }
   },
   "source": [
    "<br>\n",
    "<hr style=\"height:.9px;border:none;color:#333;background-color:#333;\" />\n",
    "\n",
    "~~~\n",
    "\n",
    "\n",
    "   __          _          __   __           _       _   \n",
    "  /__\\ __   __| |   ___  / _| / _\\ ___ _ __(_)_ __ | |_ \n",
    " /_\\| '_ \\ / _` |  / _ \\| |_  \\ \\ / __| '__| | '_ \\| __|\n",
    "//__| | | | (_| | | (_) |  _| _\\ \\ (__| |  | | |_) | |_ \n",
    "\\__/|_| |_|\\__,_|  \\___/|_|   \\__/\\___|_|  |_| .__/ \\__|\n",
    "                                             |_|        \n",
    "   ___                _                        _      _ \n",
    "  / _ \\_ __ ___  __ _| |_  __      _____  _ __| | __ / \\\n",
    " / /_\\/ '__/ _ \\/ _` | __| \\ \\ /\\ / / _ \\| '__| |/ //  /\n",
    "/ /_\\\\| | |  __/ (_| | |_   \\ V  V / (_) | |  |   </\\_/ \n",
    "\\____/|_|  \\___|\\__,_|\\__|   \\_/\\_/ \\___/|_|  |_|\\_\\/   \n",
    "                                                        \n",
    "\n",
    "\n",
    "\n",
    "~~~\n",
    "\n",
    "<hr style=\"height:.9px;border:none;color:#333;background-color:#333;\" />"
   ]
  },
  {
   "cell_type": "markdown",
   "metadata": {
    "deletable": false,
    "editable": false,
    "run_control": {
     "frozen": true
    }
   },
   "source": [
    "<br>"
   ]
  }
 ],
 "metadata": {
  "kernelspec": {
   "display_name": "Python 3 (ipykernel)",
   "language": "python",
   "name": "python3"
  },
  "language_info": {
   "codemirror_mode": {
    "name": "ipython",
    "version": 3
   },
   "file_extension": ".py",
   "mimetype": "text/x-python",
   "name": "python",
   "nbconvert_exporter": "python",
   "pygments_lexer": "ipython3",
   "version": "3.12.11"
  },
  "toc": {
   "base_numbering": 1,
   "nav_menu": {},
   "number_sections": false,
   "sideBar": true,
   "skip_h1_title": false,
   "title_cell": "Table of Contents",
   "title_sidebar": "Contents",
   "toc_cell": false,
   "toc_position": {
    "height": "calc(100% - 180px)",
    "left": "10px",
    "top": "150px",
    "width": "288px"
   },
   "toc_section_display": true,
   "toc_window_display": false
  },
  "varInspector": {
   "cols": {
    "lenName": 16,
    "lenType": 16,
    "lenVar": 40
   },
   "kernels_config": {
    "python": {
     "delete_cmd_postfix": "",
     "delete_cmd_prefix": "del ",
     "library": "var_list.py",
     "varRefreshCmd": "print(var_dic_list())"
    },
    "r": {
     "delete_cmd_postfix": ") ",
     "delete_cmd_prefix": "rm(",
     "library": "var_list.r",
     "varRefreshCmd": "cat(var_dic_list()) "
    }
   },
   "types_to_exclude": [
    "module",
    "function",
    "builtin_function_or_method",
    "instance",
    "_Feature"
   ],
   "window_display": false
  }
 },
 "nbformat": 4,
 "nbformat_minor": 2
}
